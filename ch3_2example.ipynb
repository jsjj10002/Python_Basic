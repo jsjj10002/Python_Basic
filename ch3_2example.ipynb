{
  "nbformat": 4,
  "nbformat_minor": 0,
  "metadata": {
    "colab": {
      "provenance": [],
      "authorship_tag": "ABX9TyNEk0taqxjDtAm+Uyp6/Np3",
      "include_colab_link": true
    },
    "kernelspec": {
      "name": "python3",
      "display_name": "Python 3"
    },
    "language_info": {
      "name": "python"
    },
    "accelerator": "TPU"
  },
  "cells": [
    {
      "cell_type": "markdown",
      "metadata": {
        "id": "view-in-github",
        "colab_type": "text"
      },
      "source": [
        "<a href=\"https://colab.research.google.com/github/jsjj10002/Python_Basic/blob/main/ch3_2example.ipynb\" target=\"_parent\"><img src=\"https://colab.research.google.com/assets/colab-badge.svg\" alt=\"Open In Colab\"/></a>"
      ]
    },
    {
      "cell_type": "markdown",
      "source": [
        "3-1 연습문제"
      ],
      "metadata": {
        "id": "DHXF5sCfIwZ6"
      }
    },
    {
      "cell_type": "code",
      "execution_count": null,
      "metadata": {
        "id": "la8lLZ6fQ-rN",
        "colab": {
          "base_uri": "https://localhost:8080/"
        },
        "outputId": "c2c5e25d-e6ab-4ef0-a6c7-d86d0397eaa2"
      },
      "outputs": [
        {
          "output_type": "stream",
          "name": "stdout",
          "text": [
            "0876\n",
            "CookBook\n",
            "123.5\n"
          ]
        }
      ],
      "source": [
        "print(\"%04d\"%876)\n",
        "print(\"%5s\"%\"CookBook\")\n",
        "print(\"%1.1f\"%123.45)"
      ]
    },
    {
      "cell_type": "code",
      "source": [
        "100=num1"
      ],
      "metadata": {
        "colab": {
          "base_uri": "https://localhost:8080/",
          "height": 110
        },
        "id": "6Al5g0pdW2Hb",
        "outputId": "2821ccdf-38dd-42b8-d329-150c665f6b47"
      },
      "execution_count": null,
      "outputs": [
        {
          "output_type": "error",
          "ename": "SyntaxError",
          "evalue": "cannot assign to literal here. Maybe you meant '==' instead of '='? (<ipython-input-2-38d1ad3b8cc2>, line 1)",
          "traceback": [
            "\u001b[0;36m  File \u001b[0;32m\"<ipython-input-2-38d1ad3b8cc2>\"\u001b[0;36m, line \u001b[0;32m1\u001b[0m\n\u001b[0;31m    100=num1\u001b[0m\n\u001b[0m    ^\u001b[0m\n\u001b[0;31mSyntaxError\u001b[0m\u001b[0;31m:\u001b[0m cannot assign to literal here. Maybe you meant '==' instead of '='?\n"
          ]
        }
      ]
    },
    {
      "cell_type": "code",
      "source": [
        "a=9\n",
        "b=2\n",
        "print(a%2)"
      ],
      "metadata": {
        "colab": {
          "base_uri": "https://localhost:8080/"
        },
        "id": "fDH4_oo1W-mx",
        "outputId": "b74e6db6-8964-472c-b51f-5ffee7e18990"
      },
      "execution_count": null,
      "outputs": [
        {
          "output_type": "stream",
          "name": "stdout",
          "text": [
            "1\n"
          ]
        }
      ]
    },
    {
      "cell_type": "code",
      "source": [
        "print(\"\\\\\")"
      ],
      "metadata": {
        "colab": {
          "base_uri": "https://localhost:8080/"
        },
        "id": "_ezyECnbXHe5",
        "outputId": "26f44d84-02de-47c6-c5a5-4f09eb51756a"
      },
      "execution_count": null,
      "outputs": [
        {
          "output_type": "stream",
          "name": "stdout",
          "text": [
            "\\\n"
          ]
        }
      ]
    },
    {
      "cell_type": "markdown",
      "source": [
        "3-2예제"
      ],
      "metadata": {
        "id": "ADwGsc_8I5fq"
      }
    },
    {
      "cell_type": "code",
      "source": [
        "a=3\n",
        "if a>2 :\n",
        "    print(\"a is bigger than two\")"
      ],
      "metadata": {
        "colab": {
          "base_uri": "https://localhost:8080/"
        },
        "id": "f4kq5fVQI8Ay",
        "outputId": "dbb1fc67-5f7f-48c5-abf9-78000bfe1766"
      },
      "execution_count": 2,
      "outputs": [
        {
          "output_type": "stream",
          "name": "stdout",
          "text": [
            "a is bigger than two\n"
          ]
        }
      ]
    },
    {
      "cell_type": "code",
      "source": [
        "age=18\n",
        "if age < 20:\n",
        "    print(\"청소년 할인\")\n",
        "print(\"환영\")"
      ],
      "metadata": {
        "colab": {
          "base_uri": "https://localhost:8080/"
        },
        "id": "esxxKihTOclm",
        "outputId": "a124cdcd-541e-4148-f9b5-8188f1e7697d"
      },
      "execution_count": 4,
      "outputs": [
        {
          "output_type": "stream",
          "name": "stdout",
          "text": [
            "청소년 할인\n",
            "환영\n"
          ]
        }
      ]
    },
    {
      "cell_type": "code",
      "source": [
        " a=input(\"과일 이름을 입력하세요\")\n",
        " if a==\"사과\":\n",
        "    print(\"입력한 과일은 사과입니다. \")\n",
        "\n",
        ""
      ],
      "metadata": {
        "colab": {
          "base_uri": "https://localhost:8080/"
        },
        "id": "GCQo4CpkOr5H",
        "outputId": "2de01d40-3790-4634-b6e0-f80e84451386"
      },
      "execution_count": 6,
      "outputs": [
        {
          "output_type": "stream",
          "name": "stdout",
          "text": [
            "과일 이름을 입력하세요사과\n",
            "입력한 과일은 사과입니다. \n"
          ]
        }
      ]
    },
    {
      "cell_type": "code",
      "source": [
        "a=int(input(\"숫자를 입력하세요\"))\n",
        "if a==3:\n",
        "    print(\"입력한 숫자는 3\")"
      ],
      "metadata": {
        "colab": {
          "base_uri": "https://localhost:8080/"
        },
        "id": "w1wKBr0yPcG2",
        "outputId": "d15bdfcb-e151-4fef-fd7f-92626fed6c74"
      },
      "execution_count": 7,
      "outputs": [
        {
          "output_type": "stream",
          "name": "stdout",
          "text": [
            "숫자를 입력하세요3\n",
            "입력한 숫자는 3\n"
          ]
        }
      ]
    },
    {
      "cell_type": "code",
      "source": [
        "age=int(input(\"당신의 나이는 \"))\n",
        "if age >= 15:\n",
        "    print(\"볼수있어\")"
      ],
      "metadata": {
        "colab": {
          "base_uri": "https://localhost:8080/"
        },
        "id": "mOeGN_pQPtDe",
        "outputId": "d1804c88-21cf-4d41-fd12-24b2e48ec056"
      },
      "execution_count": 8,
      "outputs": [
        {
          "output_type": "stream",
          "name": "stdout",
          "text": [
            "당신의 나이는 17\n",
            "볼수있어\n"
          ]
        }
      ]
    },
    {
      "cell_type": "code",
      "source": [
        "num=3\n",
        "num_input=int(input(\"숫자 입력\"))\n",
        "if num < num_input:\n",
        "    print( \"3보다 크다\")\n",
        "name=\"재석\"\n",
        "name_input=input(\"이름은?\")\n",
        "if name == name_input:\n",
        "    print(\"본인|\")"
      ],
      "metadata": {
        "colab": {
          "base_uri": "https://localhost:8080/"
        },
        "id": "KkgzpX6lQCwY",
        "outputId": "10980a85-94c7-4c0d-8828-5da26a27bc9d"
      },
      "execution_count": 11,
      "outputs": [
        {
          "output_type": "stream",
          "name": "stdout",
          "text": [
            "숫자 입력8\n",
            "3보다 크다\n",
            "이름은?재석\n",
            "본인|\n"
          ]
        }
      ]
    },
    {
      "cell_type": "code",
      "source": [
        "a=False\n",
        "if a==0:\n",
        "    print(\"거짓\")"
      ],
      "metadata": {
        "colab": {
          "base_uri": "https://localhost:8080/"
        },
        "id": "GjHELlRzQ01F",
        "outputId": "bf993767-eb9f-44ef-93e9-7b63d6a1623c"
      },
      "execution_count": 12,
      "outputs": [
        {
          "output_type": "stream",
          "name": "stdout",
          "text": [
            "거짓\n"
          ]
        }
      ]
    },
    {
      "cell_type": "code",
      "source": [
        "a=9\n",
        "if type(a) == int:\n",
        "    print('숫자형')"
      ],
      "metadata": {
        "colab": {
          "base_uri": "https://localhost:8080/"
        },
        "id": "5FniO1MjRlI5",
        "outputId": "05f2f8d6-5695-4e60-ff15-b12d39b995a5"
      },
      "execution_count": 15,
      "outputs": [
        {
          "output_type": "stream",
          "name": "stdout",
          "text": [
            "숫자형\n"
          ]
        }
      ]
    },
    {
      "cell_type": "code",
      "source": [
        "a=200\n",
        "if a < 100:\n",
        "    print(\"100보다 作다\")\n",
        "else:\n",
        "    print(\"100보다 크다\")"
      ],
      "metadata": {
        "colab": {
          "base_uri": "https://localhost:8080/"
        },
        "id": "wZ7DxgrMR0aC",
        "outputId": "511ad2f9-d788-4153-aebe-e2b597916a33"
      },
      "execution_count": 16,
      "outputs": [
        {
          "output_type": "stream",
          "name": "stdout",
          "text": [
            "100보다 크다\n"
          ]
        }
      ]
    },
    {
      "cell_type": "code",
      "source": [
        "a=int(input(\"정수를 입력하세요: \"))\n",
        "if a%2==0:\n",
        "    print(\"짞쑤\")\n",
        "else:\n",
        "    print(\"홀쑤\")"
      ],
      "metadata": {
        "colab": {
          "base_uri": "https://localhost:8080/"
        },
        "id": "FUjpqMUJTN5Z",
        "outputId": "251f723d-f0ce-4082-914f-6afe047e46ae"
      },
      "execution_count": 17,
      "outputs": [
        {
          "output_type": "stream",
          "name": "stdout",
          "text": [
            "정수를 입력하세요: 4\n",
            "짞쑤\n"
          ]
        }
      ]
    },
    {
      "cell_type": "code",
      "source": [
        "kor, eng, mat = int( input( ).sprit(\" \"))"
      ],
      "metadata": {
        "colab": {
          "base_uri": "https://localhost:8080/",
          "height": 166
        },
        "id": "6HgySzW9TpT7",
        "outputId": "24df296c-3849-4ab5-eeaf-71f539f24aa7"
      },
      "execution_count": 18,
      "outputs": [
        {
          "name": "stdout",
          "output_type": "stream",
          "text": [
            "30 40 50\n"
          ]
        },
        {
          "output_type": "error",
          "ename": "AttributeError",
          "evalue": "'str' object has no attribute 'sprit'",
          "traceback": [
            "\u001b[0;31m---------------------------------------------------------------------------\u001b[0m",
            "\u001b[0;31mAttributeError\u001b[0m                            Traceback (most recent call last)",
            "\u001b[0;32m<ipython-input-18-6f8fef7259f7>\u001b[0m in \u001b[0;36m<cell line: 1>\u001b[0;34m()\u001b[0m\n\u001b[0;32m----> 1\u001b[0;31m \u001b[0mkor\u001b[0m\u001b[0;34m,\u001b[0m \u001b[0meng\u001b[0m\u001b[0;34m,\u001b[0m \u001b[0mmat\u001b[0m \u001b[0;34m=\u001b[0m \u001b[0mint\u001b[0m\u001b[0;34m(\u001b[0m \u001b[0minput\u001b[0m\u001b[0;34m(\u001b[0m \u001b[0;34m)\u001b[0m\u001b[0;34m.\u001b[0m\u001b[0msprit\u001b[0m\u001b[0;34m(\u001b[0m\u001b[0;34m\" \"\u001b[0m\u001b[0;34m)\u001b[0m\u001b[0;34m)\u001b[0m\u001b[0;34m\u001b[0m\u001b[0;34m\u001b[0m\u001b[0m\n\u001b[0m",
            "\u001b[0;31mAttributeError\u001b[0m: 'str' object has no attribute 'sprit'"
          ]
        }
      ]
    }
  ]
}