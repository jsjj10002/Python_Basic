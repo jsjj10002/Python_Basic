{
  "nbformat": 4,
  "nbformat_minor": 0,
  "metadata": {
    "colab": {
      "provenance": [],
      "authorship_tag": "ABX9TyMBdpT5I0xsm9duSyAny4IG",
      "include_colab_link": true
    },
    "kernelspec": {
      "name": "python3",
      "display_name": "Python 3"
    },
    "language_info": {
      "name": "python"
    }
  },
  "cells": [
    {
      "cell_type": "markdown",
      "metadata": {
        "id": "view-in-github",
        "colab_type": "text"
      },
      "source": [
        "<a href=\"https://colab.research.google.com/github/jsjj10002/Python_Basic/blob/main/%EA%B3%B5%EC%BB%B4%EC%82%AC_4%EC%9E%A5_%EB%A0%88%ED%8F%AC%ED%8A%B8.ipynb\" target=\"_parent\"><img src=\"https://colab.research.google.com/assets/colab-badge.svg\" alt=\"Open In Colab\"/></a>"
      ]
    },
    {
      "cell_type": "markdown",
      "source": [
        "#### 1. 리스트에 10개의 값을 랜덤하게 대입 후 합계를 출력하는 코드  \n",
        "\n"
      ],
      "metadata": {
        "id": "WgmJGbnDgE2N"
      }
    },
    {
      "cell_type": "code",
      "execution_count": 1,
      "metadata": {
        "colab": {
          "base_uri": "https://localhost:8080/"
        },
        "id": "eltyFBVYf9rv",
        "outputId": "808ffe99-b503-4153-cecc-80da744bb118"
      },
      "outputs": [
        {
          "output_type": "stream",
          "name": "stdout",
          "text": [
            "601\n"
          ]
        }
      ],
      "source": [
        "import random\n",
        "nn=[]\n",
        "for  _ in range(10):\n",
        "    num = random.randrange(1,100)\n",
        "    nn.append(num)\n",
        "hap = 0\n",
        "for i in range(10):\n",
        "    num = nn[i]\n",
        "    hap+=num\n",
        "print(hap)"
      ]
    },
    {
      "cell_type": "markdown",
      "source": [
        "#### 2. 짝수번째 문자열은 #으로 표시하는 코드\n"
      ],
      "metadata": {
        "id": "21NAWqM7oDIl"
      }
    },
    {
      "cell_type": "code",
      "source": [
        "inStr = \"IT_CookBook_Python\"\n",
        "outStr = \"\"\n",
        "for i in range(0, len(inStr)):\n",
        "    if i%2 == 0:\n",
        "        outStr += inStr[-i]\n",
        "    else :\n",
        "        outStr += \"#\"\n",
        "print(\"원본 내용-->\", inStr)\n",
        "print(\"변경 내용-->\", outStr)"
      ],
      "metadata": {
        "colab": {
          "base_uri": "https://localhost:8080/"
        },
        "id": "X510MLU8oOaF",
        "outputId": "215a61f4-3353-4dec-87eb-6a399bac105d"
      },
      "execution_count": 4,
      "outputs": [
        {
          "output_type": "stream",
          "name": "stdout",
          "text": [
            "원본 내용--> IT_CookBook_Python\n",
            "변경 내용--> I#o#t#P#k#o#k#o#_#\n"
          ]
        }
      ]
    },
    {
      "cell_type": "code",
      "source": [],
      "metadata": {
        "id": "OAIsw8qeplio"
      },
      "execution_count": null,
      "outputs": []
    }
  ]
}