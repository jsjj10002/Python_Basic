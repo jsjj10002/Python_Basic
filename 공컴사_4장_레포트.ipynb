{
  "nbformat": 4,
  "nbformat_minor": 0,
  "metadata": {
    "colab": {
      "provenance": [],
      "authorship_tag": "ABX9TyPLclMHNfjAIFkK5f0nEYO8",
      "include_colab_link": true
    },
    "kernelspec": {
      "name": "python3",
      "display_name": "Python 3"
    },
    "language_info": {
      "name": "python"
    }
  },
  "cells": [
    {
      "cell_type": "markdown",
      "metadata": {
        "id": "view-in-github",
        "colab_type": "text"
      },
      "source": [
        "<a href=\"https://colab.research.google.com/github/jsjj10002/Python_Basic/blob/main/%EA%B3%B5%EC%BB%B4%EC%82%AC_4%EC%9E%A5_%EB%A0%88%ED%8F%AC%ED%8A%B8.ipynb\" target=\"_parent\"><img src=\"https://colab.research.google.com/assets/colab-badge.svg\" alt=\"Open In Colab\"/></a>"
      ]
    },
    {
      "cell_type": "markdown",
      "source": [
        "#### 1. 리스트에 10개의 값을 랜덤하게 대입 후 합계를 출력하는 코드  \n",
        "\n"
      ],
      "metadata": {
        "id": "WgmJGbnDgE2N"
      }
    },
    {
      "cell_type": "code",
      "execution_count": null,
      "metadata": {
        "colab": {
          "base_uri": "https://localhost:8080/"
        },
        "id": "eltyFBVYf9rv",
        "outputId": "808ffe99-b503-4153-cecc-80da744bb118"
      },
      "outputs": [
        {
          "output_type": "stream",
          "name": "stdout",
          "text": [
            "601\n"
          ]
        }
      ],
      "source": [
        "import random\n",
        "nn=[]\n",
        "for  _ in range(10):\n",
        "    num = random.randrange(1,100)\n",
        "    nn.append(num)\n",
        "hap = 0\n",
        "for i in range(10):\n",
        "    num = nn[i]\n",
        "    hap+=num\n",
        "print(hap)"
      ]
    },
    {
      "cell_type": "markdown",
      "source": [
        "#### 2. 짝수번째 문자열은 #으로 표시하는 코드(순서 뒤집기)\n"
      ],
      "metadata": {
        "id": "21NAWqM7oDIl"
      }
    },
    {
      "cell_type": "code",
      "source": [
        "inStr = \"IT_CookBook_Python\"\n",
        "outStr = \"\"\n",
        "for i in range(0, len(inStr)):\n",
        "    if i%2 == 0:\n",
        "        outStr += inStr[::-1][i]\n",
        "    else :\n",
        "        outStr += \"#\"\n",
        "print(\"원본 내용-->\", inStr)\n",
        "print(\"변경 내용-->\", outStr)"
      ],
      "metadata": {
        "colab": {
          "base_uri": "https://localhost:8080/"
        },
        "id": "X510MLU8oOaF",
        "outputId": "e0b0fcc7-8e48-4807-fa23-00747a4fe1fa"
      },
      "execution_count": null,
      "outputs": [
        {
          "output_type": "stream",
          "name": "stdout",
          "text": [
            "원본 내용--> IT_CookBook_Python\n",
            "변경 내용--> n#h#y#_#o#B#o#C#T#\n"
          ]
        }
      ]
    },
    {
      "cell_type": "markdown",
      "source": [
        "#### 3. 입력한 문자열에서 숫자, 영문 소문자, 영문 대문자, 한글, 기타 문자를 골라 출력"
      ],
      "metadata": {
        "id": "OVVXH798f0to"
      }
    },
    {
      "cell_type": "code",
      "source": [
        "# 아스키코드의 범위 확인\n",
        "print(\"한글:\",ord('ㄱ'),\"~\",ord('ㅣ'),\",\",ord('가'),\"~\",ord('힣'))\n",
        "print(\"숫자:\" ,ord(\"0\"),\"~\",ord(\"9\"))\n",
        "print(\"대문자:\" ,ord(\"A\"),\"~\",ord(\"Z\"))\n",
        "print(\"소문자:\", ord(\"a\"),\"~\",ord(\"z\"))\n"
      ],
      "metadata": {
        "id": "OAIsw8qeplio",
        "outputId": "41cc0ed7-c809-4519-db8e-bd9016207caf",
        "colab": {
          "base_uri": "https://localhost:8080/"
        }
      },
      "execution_count": 31,
      "outputs": [
        {
          "output_type": "stream",
          "name": "stdout",
          "text": [
            "한글: 12593 ~ 12643 , 44032 ~ 55203\n",
            "숫자: 48 ~ 57\n",
            "대문자: 65 ~ 90\n",
            "소문자: 97 ~ 122\n"
          ]
        }
      ]
    },
    {
      "cell_type": "code",
      "source": [
        "upen=loen=ko=num=others=\"\"\n",
        "inputStr = input(\"문자를 입력하세요: \").replace(\" \", \"\")\n",
        "for i in inputStr:\n",
        "    if ord(i)in range(12593,12644)or ord(i)in range(44032,55203): # \"ㄱ\" ~ \"ㅣ\" + \"가\"~\"힣\"\n",
        "        ko += i\n",
        "    elif ord(i) in range(48,58):\n",
        "        num += i\n",
        "    elif ord(i) in range(97,123):\n",
        "        loen += i\n",
        "    elif ord(i) in range(65,91):\n",
        "        upen += i\n",
        "    else:\n",
        "        others+=i\n",
        "print(\"대문자:\",upen)\n",
        "print(\"소문자:\",loen)\n",
        "print(\"숫자:\",num)\n",
        "print(\"한글:\",ko)\n",
        "print(\"기타:\",others)\n"
      ],
      "metadata": {
        "id": "HeQMSaHDmTd8",
        "outputId": "7eb83c6f-532b-4fb7-d04b-38d62eb745c3",
        "colab": {
          "base_uri": "https://localhost:8080/"
        }
      },
      "execution_count": 32,
      "outputs": [
        {
          "output_type": "stream",
          "name": "stdout",
          "text": [
            "문자를 입력하세요: IT CookBook 데이터 분석을 365일 공부하고 있습니다. ^___^\n",
            "대문자: ITCB\n",
            "소문자: ookook\n",
            "숫자: 365\n",
            "한글: 데이터분석을일공부하고있습니다\n",
            "기타: .^___^\n"
          ]
        }
      ]
    },
    {
      "cell_type": "markdown",
      "source": [
        "#### 4. 입력한 순서대로 연산하는 함수"
      ],
      "metadata": {
        "id": "yYNe0Xwoqhy5"
      }
    },
    {
      "cell_type": "code",
      "source": [
        "def calc(v1, v2, op):\n",
        "    if op == \"+\":\n",
        "        result = v1 + v2\n",
        "    elif op == \"-\":\n",
        "        result = v1 - v2\n",
        "    elif op == \"*\":\n",
        "        result = v1 * v2\n",
        "    elif op == \"**\":\n",
        "        result = v1 ** v2\n",
        "    elif op == \"/\":\n",
        "        try:\n",
        "            result = v1/v2\n",
        "        except ZeroDivisionError:\n",
        "            result = \"0으로는 나누면 안 됩니다. \"\n",
        "    return(result)"
      ],
      "metadata": {
        "id": "G9D-cwruqhUS"
      },
      "execution_count": null,
      "outputs": []
    },
    {
      "cell_type": "code",
      "source": [
        "v1 = int(input(\"첫 번째 수를 입력하세요: \"))\n",
        "op = input(\"계산을 입력하세요(+, -, *, /, **): \")\n",
        "v2 = int(input(\"두 번째 수를 입력하세요: \"))\n",
        "if type(calc(v1,v2,op)) is str:\n",
        "    print(calc(v1,v2,op))\n",
        "else:\n",
        "    print(f\"## 계산기: {v1}{op}{v2}={calc(v1,v2,op)}\")"
      ],
      "metadata": {
        "id": "5w1R3x9Zswg0",
        "outputId": "c708b61a-4214-45b3-e6da-77a1808ed6c5",
        "colab": {
          "base_uri": "https://localhost:8080/"
        }
      },
      "execution_count": 33,
      "outputs": [
        {
          "output_type": "stream",
          "name": "stdout",
          "text": [
            "첫 번째 수를 입력하세요: 10\n",
            "계산을 입력하세요(+, -, *, /, **): /\n",
            "두 번째 수를 입력하세요: 0\n",
            "0으로는 나누면 안 됩니다. \n"
          ]
        }
      ]
    }
  ]
}