{
  "nbformat": 4,
  "nbformat_minor": 0,
  "metadata": {
    "colab": {
      "provenance": [],
      "mount_file_id": "https://github.com/jsjj10002/Python_Basic/blob/main/ch06_example.ipynb",
      "authorship_tag": "ABX9TyPpFPe0LJm9ZUfg8E57QCtA",
      "include_colab_link": true
    },
    "kernelspec": {
      "name": "python3",
      "display_name": "Python 3"
    },
    "language_info": {
      "name": "python"
    }
  },
  "cells": [
    {
      "cell_type": "markdown",
      "metadata": {
        "id": "view-in-github",
        "colab_type": "text"
      },
      "source": [
        "<a href=\"https://colab.research.google.com/github/jsjj10002/Python_Basic/blob/main/ch06_example.ipynb\" target=\"_parent\"><img src=\"https://colab.research.google.com/assets/colab-badge.svg\" alt=\"Open In Colab\"/></a>"
      ]
    },
    {
      "cell_type": "code",
      "execution_count": 1,
      "metadata": {
        "colab": {
          "base_uri": "https://localhost:8080/"
        },
        "id": "Ik0K0wjWwb8N",
        "outputId": "332fe3d0-7b00-4afd-b3c4-b9882816dc3b"
      },
      "outputs": [
        {
          "output_type": "stream",
          "name": "stdout",
          "text": [
            "아이디,이름,인원,주소,국번,전화 번호,평균 키,데뷔 일자\n",
            "TWC,트와이스,9,서울,02,11111111,167,2015.10.19\n"
          ]
        }
      ],
      "source": [
        "inFp = open(\"/content/drive/MyDrive/11주차_수업자료/singer1.csv\",\"r\",encoding=\"CP949\")\n",
        "\n",
        "inStr=inFp.readline()\n",
        "print(inStr,end=\"\")\n",
        "inStr=inFp.readline()\n",
        "print(inStr,end=\"\")\n",
        "inFp.close()"
      ]
    },
    {
      "cell_type": "code",
      "source": [
        "with open(\"/content/drive/MyDrive/11주차_수업자료/singer1.csv\",\"r\",encoding=\"CP949\") as inFp :\n",
        "    inStr=inFp.readline()\n",
        "    print(inStr,end=\"\")\n",
        "    inStr=inFp.readline()\n",
        "    print(inStr,end=\"\")"
      ],
      "metadata": {
        "colab": {
          "base_uri": "https://localhost:8080/"
        },
        "id": "kVks1mKS0Kdu",
        "outputId": "aa2a491c-b142-4f05-d84a-6717b811c6e4"
      },
      "execution_count": null,
      "outputs": [
        {
          "output_type": "stream",
          "name": "stdout",
          "text": [
            "아이디,이름,인원,주소,국번,전화 번호,평균 키,데뷔 일자\n",
            "TWC,트와이스,9,서울,02,11111111,167,2015.10.19\n"
          ]
        }
      ]
    },
    {
      "cell_type": "code",
      "source": [
        "def printList(pList):\n",
        "    for data in pList:\n",
        "        print(\"%-10s\"%data, end = '\\t')\n",
        "    print()\n",
        "with open(\"/content/drive/MyDrive/11주차_수업자료/singer1.csv\",\"r\",encoding=\"CP949\") as inFp :\n",
        "    header = inFp.readline()\n",
        "    header = header.strip()\n",
        "    header_list = header.split(',')\n",
        "    printList(header_list)\n",
        "    for inStr in inFp:\n",
        "        inStr = inStr.strip()\n",
        "        row_list = inStr.split(',')\n",
        "        printList(row_list)"
      ],
      "metadata": {
        "colab": {
          "base_uri": "https://localhost:8080/"
        },
        "id": "4Okk_D1H1Is-",
        "outputId": "b797bcb5-efdf-4a5f-9679-45dc5c4592e3"
      },
      "execution_count": null,
      "outputs": [
        {
          "output_type": "stream",
          "name": "stdout",
          "text": [
            "아이디       \t이름        \t인원        \t주소        \t국번        \t전화 번호     \t평균 키      \t데뷔 일자     \t\n",
            "TWC       \t트와이스      \t9         \t서울        \t02        \t11111111  \t167       \t2015.10.19\t\n",
            "BLK       \t블랙핑크      \t4         \t경남        \t055       \t22222222  \t163       \t2016.08.08\t\n",
            "WMN       \t여자친구      \t6         \t경기        \t031       \t33333333  \t166       \t2015.01.15\t\n",
            "OMY       \t오마이걸      \t7         \t서울        \t          \t          \t160       \t2015.04.21\t\n",
            "GRL       \t소녀시대      \t8         \t서울        \t02        \t44444444  \t168       \t2007.08.02\t\n",
            "ITZ       \t있지        \t5         \t경남        \t          \t          \t167       \t2019.02.12\t\n",
            "RED       \t레드벨벳      \t4         \t경북        \t054       \t55555555  \t161       \t2014.08.01\t\n",
            "APN       \t에이핑크      \t6         \t경기        \t031       \t77777777  \t164       \t2011.02.10\t\n",
            "SPC       \t우주소녀      \t13        \t서울        \t02        \t88888888  \t162       \t2016.02.25\t\n",
            "MMU       \t마마무       \t4         \t전남        \t061       \t99999999  \t165       \t2014.06.19\t\n"
          ]
        }
      ]
    },
    {
      "cell_type": "code",
      "source": [
        "with open(\"/content/drive/MyDrive/11주차_수업자료/singer1.csv\",\"r\",encoding=\"CP949\") as inFp :\n",
        "    with open(\"/content/drive/MyDrive/11주차_수업자료/new_singer1.csv\",\"w\",encoding=\"CP949\") as outFp :\n",
        "        header = inFp.readline()\n",
        "        header = header.strip()\n",
        "        header_list = header.split(',')\n",
        "        header_str = ','.join(map(str, header_list))\n",
        "        outFp.write(header_str + '\\n')\n",
        "        for inStr in inFp:\n",
        "            inStr = inStr.strip()\n",
        "            row_list = inStr.split(',')\n",
        "            row_list[-1] = row_list[-1].replace(',','/')\n",
        "            height_str = \"{0:.2f}\".format(int(row_list[-2]))\n",
        "            row_list[-2] = height_str\n",
        "            row_str = ','.join(map(str, row_list))\n",
        "            outFp.write(row_str + '\\n')\n",
        "print('Save.')"
      ],
      "metadata": {
        "colab": {
          "base_uri": "https://localhost:8080/"
        },
        "id": "rC7QUrac14LP",
        "outputId": "3b187b00-4b8f-40e4-dd8a-5ed28440b0b4"
      },
      "execution_count": null,
      "outputs": [
        {
          "output_type": "stream",
          "name": "stdout",
          "text": [
            "Save.\n"
          ]
        }
      ]
    },
    {
      "cell_type": "code",
      "source": [
        "with open(\"/content/drive/MyDrive/11주차_수업자료/singer1.csv\",\"r\",encoding=\"CP949\") as inFp :\n",
        "    with open(\"/content/drive/MyDrive/11주차_수업자료/new_singer2.csv\",\"w\",encoding=\"CP949\") as outFp :\n",
        "        header = inFp.readline()\n",
        "        header = header.strip()\n",
        "        header_list = header.split(',')\n",
        "        idx1 = header_list.index('아이디')\n",
        "        idx2 = header_list.index('이름')\n",
        "        idx3 = header_list.index('평균 키')\n",
        "        header_list =[header_list[idx1], header_list[idx2], header_list[idx3]]\n",
        "        header_str = ','.join(map(str, header_list))\n",
        "        outFp.write(header_str + '\\n')\n",
        "        for inStr in inFp:\n",
        "            inStr = inStr.strip()\n",
        "            row_list = inStr.split(',')\n",
        "            if int(row_list[idx3]) >=165:\n",
        "                ro_list = [row_list[idx1], row_list[idx2], row_list[idx3]]\n",
        "                row_str = ','.join(map(str, row_list))\n",
        "                outFp.write(row_str + '\\n')\n",
        "print('Save.')"
      ],
      "metadata": {
        "colab": {
          "base_uri": "https://localhost:8080/"
        },
        "id": "qE70cD_K7ZyW",
        "outputId": "c732628f-e1f7-4f99-964b-51e13ea7ca9c"
      },
      "execution_count": null,
      "outputs": [
        {
          "output_type": "stream",
          "name": "stdout",
          "text": [
            "Save.\n"
          ]
        }
      ]
    },
    {
      "cell_type": "code",
      "source": [
        "import csv\n",
        "with open(\"/content/drive/MyDrive/11주차_수업자료/singer2.csv\",\"r\", encoding=\"CP949\") as inFp:\n",
        "    csvReader = csv.reader(inFp)\n",
        "    header_list = next(csvReader)\n",
        "    print(header_list[1], header_list[6])\n",
        "    for row_list in csvReader:\n",
        "        youtube = int(row_list[6].replace(',',''))\n",
        "        youtube = int(youtube/10000)\n",
        "        print(row_list[1],str(youtube)+\"만\")"
      ],
      "metadata": {
        "colab": {
          "base_uri": "https://localhost:8080/"
        },
        "id": "QRKR43pC81km",
        "outputId": "34dc1e72-fb49-4e26-c7e1-be021efdd9f6"
      },
      "execution_count": 3,
      "outputs": [
        {
          "output_type": "stream",
          "name": "stdout",
          "text": [
            "이름 유튜브 조회수\n",
            "트와이스 333만\n",
            "블랙핑크 44만\n",
            "여자친구 0만\n",
            "오마이걸 0만\n",
            "소녀시대 111만\n",
            "있지 2만\n",
            "레드벨벳 4만\n",
            "에이핑크 0만\n",
            "우주소녀 0만\n",
            "마마무 0만\n"
          ]
        }
      ]
    },
    {
      "cell_type": "code",
      "source": [
        "import csv\n",
        "with open(\"/content/drive/MyDrive/11주차_수업자료/singerA.csv\", \"r\",encoding=\"CP949\") as inFpA :\n",
        "    with open(\"/content/drive/MyDrive/11주차_수업자료/singerB.csv\",\"r\",encoding=\"CP949\") as inFpB:\n",
        "        with open(\"/content/drive/MyDrive/11주차_수업자료/singerSum.csv\",\"w\",newline='')as outFp:\n",
        "            csvReaderA = csv.reader(inFpA)\n",
        "            csvReaderB = csv.reader(inFpB)\n",
        "            csvWriter = csv.writer(outFp)\n",
        "            header_list = next(csvReaderA)\n",
        "            header_list = next(csvReaderB)\n",
        "            csvWriter.writerow(header_list)\n",
        "\n",
        "            for row_list in csvReaderA:\n",
        "                csvWriter.writerow(row_list)\n",
        "            for row_list in csvReaderB:\n",
        "                csvWriter.writerow(row_list)\n",
        "print(\"save\")"
      ],
      "metadata": {
        "id": "pBqoUvzufzC4",
        "outputId": "c6e506c0-6596-474a-c2cb-b67f68155256",
        "colab": {
          "base_uri": "https://localhost:8080/"
        }
      },
      "execution_count": 6,
      "outputs": [
        {
          "output_type": "stream",
          "name": "stdout",
          "text": [
            "save\n"
          ]
        }
      ]
    }
  ]
}