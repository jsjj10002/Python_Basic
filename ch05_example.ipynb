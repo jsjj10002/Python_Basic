{
  "nbformat": 4,
  "nbformat_minor": 0,
  "metadata": {
    "colab": {
      "provenance": [],
      "mount_file_id": "1H8mBx3BXbt35n5xTwRLX4u9QcfjhObAD",
      "authorship_tag": "ABX9TyOfz4qPBMWuVWvC/wtJ84xB",
      "include_colab_link": true
    },
    "kernelspec": {
      "name": "python3",
      "display_name": "Python 3"
    },
    "language_info": {
      "name": "python"
    }
  },
  "cells": [
    {
      "cell_type": "markdown",
      "metadata": {
        "id": "view-in-github",
        "colab_type": "text"
      },
      "source": [
        "<a href=\"https://colab.research.google.com/github/jsjj10002/Python_Basic/blob/main/ch05_example.ipynb\" target=\"_parent\"><img src=\"https://colab.research.google.com/assets/colab-badge.svg\" alt=\"Open In Colab\"/></a>"
      ]
    },
    {
      "cell_type": "code",
      "execution_count": 2,
      "metadata": {
        "colab": {
          "base_uri": "https://localhost:8080/"
        },
        "id": "6dJ7RzK3kQgZ",
        "outputId": "67961b07-da48-4762-9317-14eb2c3b526b"
      },
      "outputs": [
        {
          "output_type": "stream",
          "name": "stdout",
          "text": [
            "파이썬 공부합니다.\n",
            "데이터 분석을 공부하기 위함 입니다.\n",
            "참 재미 있습니다. ^.^"
          ]
        }
      ],
      "source": [
        "inStr=\"\"\n",
        "inFp = open(\"/content/drive/MyDrive/11주차_수업자료/data1.txt\",\"r\",encoding = \"utf-8\")\n",
        "\n",
        "inStr = inFp.readline()\n",
        "print(inStr, end = \"\")\n",
        "inStr = inFp.readline()\n",
        "print(inStr, end = \"\")\n",
        "inStr = inFp.readline()\n",
        "print(inStr, end = \"\")\n",
        "inFp.close()"
      ]
    },
    {
      "cell_type": "code",
      "source": [
        "inStr=\"\"\n",
        "inFp = open(\"/content/drive/MyDrive/11주차_수업자료/data1.txt\",\"r\",encoding = \"utf-8\")\n",
        "while True:\n",
        "    inStr = inFp.readline()\n",
        "    if inStr == \"\":\n",
        "        break;\n",
        "    print(inStr, end = \"\")\n",
        "\n",
        "inFp.close()"
      ],
      "metadata": {
        "colab": {
          "base_uri": "https://localhost:8080/"
        },
        "id": "VTlYm25xlwyl",
        "outputId": "fefa1bae-6018-4cb0-8e1f-0027ce584826"
      },
      "execution_count": 3,
      "outputs": [
        {
          "output_type": "stream",
          "name": "stdout",
          "text": [
            "파이썬 공부합니다.\n",
            "데이터 분석을 공부하기 위함 입니다.\n",
            "참 재미 있습니다. ^.^"
          ]
        }
      ]
    },
    {
      "cell_type": "code",
      "source": [
        "inList=\"\"\n",
        "inFp = open(\"/content/drive/MyDrive/11주차_수업자료/data1.txt\",\"r\",encoding = \"utf-8\")\n",
        "inList=inFp.readlines()\n",
        "print(inList)\n",
        "inFp.close()"
      ],
      "metadata": {
        "colab": {
          "base_uri": "https://localhost:8080/"
        },
        "id": "lw_cezQAmPMI",
        "outputId": "f004e4d2-a8a0-4394-9833-91c7a0b6b18f"
      },
      "execution_count": 4,
      "outputs": [
        {
          "output_type": "stream",
          "name": "stdout",
          "text": [
            "['파이썬 공부합니다.\\n', '데이터 분석을 공부하기 위함 입니다.\\n', '참 재미 있습니다. ^.^']\n"
          ]
        }
      ]
    },
    {
      "cell_type": "code",
      "source": [
        "inList=\"\"\n",
        "inFp = open(\"/content/drive/MyDrive/11주차_수업자료/data1.txt\",\"r\",encoding = \"utf-8\")\n",
        "inList=inFp.readlines()\n",
        "for inStr in inList:\n",
        "    print(inStr, end=\"\")\n",
        "inFp.close()"
      ],
      "metadata": {
        "colab": {
          "base_uri": "https://localhost:8080/"
        },
        "id": "Rul3T2hwmict",
        "outputId": "ceb9b5e3-f232-4c12-eab6-67d7c9537a1d"
      },
      "execution_count": 5,
      "outputs": [
        {
          "output_type": "stream",
          "name": "stdout",
          "text": [
            "파이썬 공부합니다.\n",
            "데이터 분석을 공부하기 위함 입니다.\n",
            "참 재미 있습니다. ^.^"
          ]
        }
      ]
    },
    {
      "cell_type": "markdown",
      "source": [
        "#### 행 번호 함께 출력"
      ],
      "metadata": {
        "id": "kDKhaNNgm4qO"
      }
    },
    {
      "cell_type": "code",
      "source": [
        "inList=\"\"\n",
        "inFp = open(\"/content/drive/MyDrive/11주차_수업자료/data1.txt\",\"r\",encoding = \"utf-8\")\n",
        "inList=inFp.readlines()\n",
        "for inStr in inList:\n",
        "    num=inList.index(inStr)+1\n",
        "    print(num,\":\",inStr, end=\"\")\n",
        "inFp.close()"
      ],
      "metadata": {
        "colab": {
          "base_uri": "https://localhost:8080/"
        },
        "id": "AH7nnl1amxko",
        "outputId": "90991298-b581-444c-b3ca-8d4098779b82"
      },
      "execution_count": 6,
      "outputs": [
        {
          "output_type": "stream",
          "name": "stdout",
          "text": [
            "1 : 파이썬 공부합니다.\n",
            "2 : 데이터 분석을 공부하기 위함 입니다.\n",
            "3 : 참 재미 있습니다. ^.^"
          ]
        }
      ]
    },
    {
      "cell_type": "code",
      "source": [
        "outFp = None\n",
        "outStr = \"\"\n",
        "outFp = open(\"/content/drive/MyDrive/11주차_수업자료/data2.txt\",\"w\")\n",
        "while True :\n",
        "    outStr = input(\"내용입력 : \")\n",
        "    if outStr != \"\":\n",
        "        outFp.writelines(outStr + \"\\n\")\n",
        "    else :\n",
        "        break\n",
        "outFp.close()\n",
        "print(\"----정상적으로 파일에 씀-----\")"
      ],
      "metadata": {
        "colab": {
          "base_uri": "https://localhost:8080/"
        },
        "id": "A6_bFuv8nXAd",
        "outputId": "6748599c-4a45-4a09-8ded-56c68506d3ca"
      },
      "execution_count": 8,
      "outputs": [
        {
          "output_type": "stream",
          "name": "stdout",
          "text": [
            "내용입력 : 안녕\n",
            "내용입력 : 나는\n",
            "내용입력 : 누구\n",
            "내용입력 : \n",
            "----정상적으로 파일에 씀-----\n"
          ]
        }
      ]
    },
    {
      "cell_type": "code",
      "source": [],
      "metadata": {
        "id": "n7cM5GTwqVPP"
      },
      "execution_count": null,
      "outputs": []
    }
  ]
}