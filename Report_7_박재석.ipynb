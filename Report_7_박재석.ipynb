{
  "nbformat": 4,
  "nbformat_minor": 0,
  "metadata": {
    "colab": {
      "provenance": [],
      "authorship_tag": "ABX9TyM6QWZgOjEsbC7Joysa0tU4",
      "include_colab_link": true
    },
    "kernelspec": {
      "name": "python3",
      "display_name": "Python 3"
    },
    "language_info": {
      "name": "python"
    }
  },
  "cells": [
    {
      "cell_type": "markdown",
      "metadata": {
        "id": "view-in-github",
        "colab_type": "text"
      },
      "source": [
        "<a href=\"https://colab.research.google.com/github/jsjj10002/Python_Basic/blob/main/Report_7_%EB%B0%95%EC%9E%AC%EC%84%9D.ipynb\" target=\"_parent\"><img src=\"https://colab.research.google.com/assets/colab-badge.svg\" alt=\"Open In Colab\"/></a>"
      ]
    },
    {
      "cell_type": "markdown",
      "source": [
        "### 7_1: 10부터 20 사이의 홀수를 출력"
      ],
      "metadata": {
        "id": "uz538FsMNr10"
      }
    },
    {
      "cell_type": "code",
      "execution_count": null,
      "metadata": {
        "colab": {
          "base_uri": "https://localhost:8080/"
        },
        "id": "Cavm1m4xNlTm",
        "outputId": "d424d9c3-6be1-48af-a065-aa728ae74170"
      },
      "outputs": [
        {
          "output_type": "stream",
          "name": "stdout",
          "text": [
            "11 is a odd number\n",
            "13 is a odd number\n",
            "15 is a odd number\n",
            "17 is a odd number\n",
            "19 is a odd number\n"
          ]
        }
      ],
      "source": [
        "for i in range(11,21,2):\n",
        "    print(\"%d is a odd number\"%i)"
      ]
    },
    {
      "cell_type": "markdown",
      "source": [
        "### 7_2: 삼각형 출력"
      ],
      "metadata": {
        "id": "8oRk9ROmOVDb"
      }
    },
    {
      "cell_type": "code",
      "source": [
        "for i in range(6):\n",
        "    print(\"*\"*i)"
      ],
      "metadata": {
        "colab": {
          "base_uri": "https://localhost:8080/"
        },
        "id": "vEZdHhfHORtO",
        "outputId": "9ecadcc8-d026-479b-feb9-32e03d7b383f"
      },
      "execution_count": null,
      "outputs": [
        {
          "output_type": "stream",
          "name": "stdout",
          "text": [
            "\n",
            "*\n",
            "**\n",
            "***\n",
            "****\n",
            "*****\n"
          ]
        }
      ]
    },
    {
      "cell_type": "code",
      "source": [
        "num=0\n",
        "while True:\n",
        "    for i in range(num):\n",
        "        print(\"*\",end='')\n",
        "    print(\"\")\n",
        "    num +=1\n",
        "    if num >5:\n",
        "        break\n"
      ],
      "metadata": {
        "colab": {
          "base_uri": "https://localhost:8080/"
        },
        "id": "tRIX1E-nO57m",
        "outputId": "4ae7dcbf-6d5d-4867-dee2-984a34115d45"
      },
      "execution_count": null,
      "outputs": [
        {
          "output_type": "stream",
          "name": "stdout",
          "text": [
            "\n",
            "*\n",
            "**\n",
            "***\n",
            "****\n",
            "*****\n"
          ]
        }
      ]
    },
    {
      "cell_type": "markdown",
      "source": [
        "### 7_3: 양의 정수들의 덧셈"
      ],
      "metadata": {
        "id": "wwatOwbSRpXa"
      }
    },
    {
      "cell_type": "code",
      "source": [
        "sum=0\n",
        "print(\"덧셈을 하고 싶은 양의 정수들을 입력하세요. 0 입력 시 종료\")\n",
        "while True:\n",
        "    num = int(input())\n",
        "    if num>0:\n",
        "        sum+=num\n",
        "    elif num == 0:\n",
        "        break\n",
        "print(\"촐 합은 %d입니다.\"%sum)"
      ],
      "metadata": {
        "colab": {
          "base_uri": "https://localhost:8080/"
        },
        "id": "Mj05D1cERoZH",
        "outputId": "e05fa26c-060e-47fd-cc45-30a5fd1acca0"
      },
      "execution_count": 7,
      "outputs": [
        {
          "output_type": "stream",
          "name": "stdout",
          "text": [
            "덧셈을 하고 싶은 양의 정수들을 입력하세요. 0 입력 시 종료\n",
            "15\n",
            "48\n",
            "20\n",
            "89\n",
            "0\n",
            "촐 합은 172입니다.\n"
          ]
        }
      ]
    },
    {
      "cell_type": "code",
      "source": [
        "sum=0\n",
        "num=_\n",
        "print(\"덧셈을 하고 싶은 양의 정수들을 입력하세요. 0 입력 시 종료\")\n",
        "while num != 0:\n",
        "    num = int(input())\n",
        "    if num>0:\n",
        "        sum+=num\n",
        "print(\"촐 합은 %d입니다.\"%sum)"
      ],
      "metadata": {
        "colab": {
          "base_uri": "https://localhost:8080/"
        },
        "id": "DQAMHG3bQUG5",
        "outputId": "c6fae662-2564-45e6-cca2-89131bbdbe79"
      },
      "execution_count": 4,
      "outputs": [
        {
          "output_type": "stream",
          "name": "stdout",
          "text": [
            "덧셈을 하고 싶은 양의 정수들을 입력하세요. 0 입력 시 종료\n",
            "15\n",
            "4\n",
            "3\n",
            "2\n",
            "0\n",
            "촐 합은 24입니다.\n"
          ]
        }
      ]
    },
    {
      "cell_type": "markdown",
      "source": [
        "### 7_4: 수를 입력 받아 그 수가 짝수인지 홀수인지 판별하는 프로그램"
      ],
      "metadata": {
        "id": "dyYECenhRJtn"
      }
    },
    {
      "cell_type": "code",
      "source": [
        "while True:\n",
        ""
      ],
      "metadata": {
        "id": "G9ere_ehQjsq"
      },
      "execution_count": null,
      "outputs": []
    }
  ]
}