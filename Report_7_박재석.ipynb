{
  "nbformat": 4,
  "nbformat_minor": 0,
  "metadata": {
    "colab": {
      "provenance": [],
      "authorship_tag": "ABX9TyP5gg6JYv/Vgbu5OtA36+0R",
      "include_colab_link": true
    },
    "kernelspec": {
      "name": "python3",
      "display_name": "Python 3"
    },
    "language_info": {
      "name": "python"
    }
  },
  "cells": [
    {
      "cell_type": "markdown",
      "metadata": {
        "id": "view-in-github",
        "colab_type": "text"
      },
      "source": [
        "<a href=\"https://colab.research.google.com/github/jsjj10002/Python_Basic/blob/main/Report_7_%EB%B0%95%EC%9E%AC%EC%84%9D.ipynb\" target=\"_parent\"><img src=\"https://colab.research.google.com/assets/colab-badge.svg\" alt=\"Open In Colab\"/></a>"
      ]
    },
    {
      "cell_type": "markdown",
      "source": [
        "### 7_1: 10부터 20 사이의 홀수를 출력"
      ],
      "metadata": {
        "id": "uz538FsMNr10"
      }
    },
    {
      "cell_type": "code",
      "execution_count": null,
      "metadata": {
        "colab": {
          "base_uri": "https://localhost:8080/"
        },
        "id": "Cavm1m4xNlTm",
        "outputId": "d424d9c3-6be1-48af-a065-aa728ae74170"
      },
      "outputs": [
        {
          "output_type": "stream",
          "name": "stdout",
          "text": [
            "11 is a odd number\n",
            "13 is a odd number\n",
            "15 is a odd number\n",
            "17 is a odd number\n",
            "19 is a odd number\n"
          ]
        }
      ],
      "source": [
        "for i in range(11,21,2):\n",
        "    print(\"%d is a odd number\"%i)"
      ]
    },
    {
      "cell_type": "markdown",
      "source": [
        "### 7_2: 삼각형 출력"
      ],
      "metadata": {
        "id": "8oRk9ROmOVDb"
      }
    },
    {
      "cell_type": "code",
      "source": [
        "for i in range(6):\n",
        "    print(\"*\"*i)"
      ],
      "metadata": {
        "colab": {
          "base_uri": "https://localhost:8080/"
        },
        "id": "vEZdHhfHORtO",
        "outputId": "9ecadcc8-d026-479b-feb9-32e03d7b383f"
      },
      "execution_count": null,
      "outputs": [
        {
          "output_type": "stream",
          "name": "stdout",
          "text": [
            "\n",
            "*\n",
            "**\n",
            "***\n",
            "****\n",
            "*****\n"
          ]
        }
      ]
    },
    {
      "cell_type": "code",
      "source": [
        "num=0\n",
        "while True:\n",
        "    for i in range(num):\n",
        "        print(\"*\",end='')\n",
        "    print(\"\")\n",
        "    num +=1\n",
        "    if num >5:\n",
        "        break\n"
      ],
      "metadata": {
        "colab": {
          "base_uri": "https://localhost:8080/"
        },
        "id": "tRIX1E-nO57m",
        "outputId": "4ae7dcbf-6d5d-4867-dee2-984a34115d45"
      },
      "execution_count": null,
      "outputs": [
        {
          "output_type": "stream",
          "name": "stdout",
          "text": [
            "\n",
            "*\n",
            "**\n",
            "***\n",
            "****\n",
            "*****\n"
          ]
        }
      ]
    },
    {
      "cell_type": "markdown",
      "source": [
        "### 7_3: 양의 정수들의 덧셈"
      ],
      "metadata": {
        "id": "wwatOwbSRpXa"
      }
    },
    {
      "cell_type": "code",
      "source": [
        "sum=0\n",
        "print(\"덧셈을 하고 싶은 양의 정수들을 입력하세요. 0 입력 시 종료\")\n",
        "while True:\n",
        "    num = int(input())\n",
        "    if num>0:\n",
        "        sum+=num\n",
        "    elif num == 0:\n",
        "        break\n",
        "print(\"촐 합은 %d입니다.\"%sum)"
      ],
      "metadata": {
        "colab": {
          "base_uri": "https://localhost:8080/"
        },
        "id": "Mj05D1cERoZH",
        "outputId": "e05fa26c-060e-47fd-cc45-30a5fd1acca0"
      },
      "execution_count": null,
      "outputs": [
        {
          "output_type": "stream",
          "name": "stdout",
          "text": [
            "덧셈을 하고 싶은 양의 정수들을 입력하세요. 0 입력 시 종료\n",
            "15\n",
            "48\n",
            "20\n",
            "89\n",
            "0\n",
            "촐 합은 172입니다.\n"
          ]
        }
      ]
    },
    {
      "cell_type": "code",
      "source": [
        "sum=0\n",
        "num=_\n",
        "print(\"덧셈을 하고 싶은 양의 정수들을 입력하세요. 0 입력 시 종료\")\n",
        "while num != 0:\n",
        "    num = int(input())\n",
        "    if num>0:\n",
        "        sum+=num\n",
        "print(\"촐 합은 %d입니다.\"%sum)"
      ],
      "metadata": {
        "colab": {
          "base_uri": "https://localhost:8080/"
        },
        "id": "DQAMHG3bQUG5",
        "outputId": "c6fae662-2564-45e6-cca2-89131bbdbe79"
      },
      "execution_count": null,
      "outputs": [
        {
          "output_type": "stream",
          "name": "stdout",
          "text": [
            "덧셈을 하고 싶은 양의 정수들을 입력하세요. 0 입력 시 종료\n",
            "15\n",
            "4\n",
            "3\n",
            "2\n",
            "0\n",
            "촐 합은 24입니다.\n"
          ]
        }
      ]
    },
    {
      "cell_type": "markdown",
      "source": [
        "### 7_4: 수를 입력 받아 그 수가 짝수인지 홀수인지 판별하는 프로그램"
      ],
      "metadata": {
        "id": "dyYECenhRJtn"
      }
    },
    {
      "cell_type": "code",
      "source": [
        "while True:\n",
        "    num = int(input(\"Enter the number:\"))\n",
        "    if num == 0:\n",
        "        break\n",
        "\n",
        "    if num%2==0:\n",
        "        print(\"%d is even nmber\"%num)\n",
        "    else:\n",
        "        print(\"%d is odd number\"%num)\n",
        "\n",
        "print(\"EXIT\")"
      ],
      "metadata": {
        "id": "G9ere_ehQjsq",
        "colab": {
          "base_uri": "https://localhost:8080/"
        },
        "outputId": "411c6d08-ace2-47b7-ab42-a63e7bce9435"
      },
      "execution_count": 3,
      "outputs": [
        {
          "output_type": "stream",
          "name": "stdout",
          "text": [
            "Enter the number:2\n",
            "2 is even nmber\n",
            "Enter the number:3\n",
            "3 is odd number\n",
            "Enter the number:0\n",
            "EXIT\n"
          ]
        }
      ]
    },
    {
      "cell_type": "markdown",
      "source": [
        "### 7_5: 두 숫자를 입력받고 두 숫자 사이의 합계를 구하는 프로그램"
      ],
      "metadata": {
        "id": "t9nfmfckpBpT"
      }
    },
    {
      "cell_type": "code",
      "source": [
        "fir_num =int(input(\"*** 첫 번째 숫자를 입력하세요 : \"))\n",
        "snd_num =int(input(\"*** 두 번째 숫자를 입력하세요 : \"))\n",
        "plus = int(input(\"*** 더할 숫자를 입력하세요 : \"))\n",
        "sum_num = 0\n",
        "for i in range(fir_num,snd_num+1,plus):\n",
        "    sum_num+=i\n",
        "print(\"%d+%d+...+%d는 %d 입니다.\"%(fir_num, fir_num + plus, snd_num, sum_num))"
      ],
      "metadata": {
        "colab": {
          "base_uri": "https://localhost:8080/"
        },
        "id": "voBiFxo8rw1X",
        "outputId": "8caea73e-6af0-42a8-95a4-3905896f58eb"
      },
      "execution_count": 24,
      "outputs": [
        {
          "output_type": "stream",
          "name": "stdout",
          "text": [
            "*** 첫 번째 숫자를 입력하세요 : 1\n",
            "*** 두 번째 숫자를 입력하세요 : 100\n",
            "*** 더할 숫자를 입력하세요 : 3\n",
            "1+4+...+100는 1717 입니다.\n"
          ]
        }
      ]
    },
    {
      "cell_type": "code",
      "source": [
        "fir_num =int(input(\"*** 첫 번째 숫자를 입력하세요 : \"))\n",
        "snd_num =int(input(\"*** 두 번째 숫자를 입력하세요 : \"))\n",
        "plus = int(input(\"*** 더할 숫자를 입력하세요 : \"))\n",
        "print(\"%d+%d+...+%d는 %d 입니다.\"%(fir_num, fir_num + plus, snd_num, sum([i for i in range(fir_num, snd_num+1,plus)])))"
      ],
      "metadata": {
        "colab": {
          "base_uri": "https://localhost:8080/"
        },
        "id": "TGYpkCF9o3RM",
        "outputId": "236b8a59-5e14-4a85-cb91-1c0138fb9687"
      },
      "execution_count": 23,
      "outputs": [
        {
          "output_type": "stream",
          "name": "stdout",
          "text": [
            "*** 첫 번째 숫자를 입력하세요 : 1\n",
            "*** 두 번째 숫자를 입력하세요 : 100\n",
            "*** 더할 숫자를 입력하세요 : 3\n",
            "1+4+...+100는 1717 입니다.\n"
          ]
        }
      ]
    }
  ]
}