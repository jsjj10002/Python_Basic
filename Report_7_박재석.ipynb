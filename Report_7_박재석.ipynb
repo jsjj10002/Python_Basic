{
  "nbformat": 4,
  "nbformat_minor": 0,
  "metadata": {
    "colab": {
      "provenance": [],
      "authorship_tag": "ABX9TyMI0uw3A5GeqhwxGV7RVn+G",
      "include_colab_link": true
    },
    "kernelspec": {
      "name": "python3",
      "display_name": "Python 3"
    },
    "language_info": {
      "name": "python"
    }
  },
  "cells": [
    {
      "cell_type": "markdown",
      "metadata": {
        "id": "view-in-github",
        "colab_type": "text"
      },
      "source": [
        "<a href=\"https://colab.research.google.com/github/jsjj10002/Python_Basic/blob/main/Report_7_%EB%B0%95%EC%9E%AC%EC%84%9D.ipynb\" target=\"_parent\"><img src=\"https://colab.research.google.com/assets/colab-badge.svg\" alt=\"Open In Colab\"/></a>"
      ]
    },
    {
      "cell_type": "markdown",
      "source": [
        "### 7_1: 10부터 20 사이의 홀수를 출력"
      ],
      "metadata": {
        "id": "uz538FsMNr10"
      }
    },
    {
      "cell_type": "code",
      "execution_count": null,
      "metadata": {
        "colab": {
          "base_uri": "https://localhost:8080/"
        },
        "id": "Cavm1m4xNlTm",
        "outputId": "d424d9c3-6be1-48af-a065-aa728ae74170"
      },
      "outputs": [
        {
          "output_type": "stream",
          "name": "stdout",
          "text": [
            "11 is a odd number\n",
            "13 is a odd number\n",
            "15 is a odd number\n",
            "17 is a odd number\n",
            "19 is a odd number\n"
          ]
        }
      ],
      "source": [
        "for i in range(11,21,2):\n",
        "    print(\"%d is a odd number\"%i)"
      ]
    },
    {
      "cell_type": "markdown",
      "source": [
        "### 7_2: 삼각형 출력"
      ],
      "metadata": {
        "id": "8oRk9ROmOVDb"
      }
    },
    {
      "cell_type": "code",
      "source": [
        "for i in range(6):\n",
        "    print(\"*\"*i)"
      ],
      "metadata": {
        "colab": {
          "base_uri": "https://localhost:8080/"
        },
        "id": "vEZdHhfHORtO",
        "outputId": "9ecadcc8-d026-479b-feb9-32e03d7b383f"
      },
      "execution_count": null,
      "outputs": [
        {
          "output_type": "stream",
          "name": "stdout",
          "text": [
            "\n",
            "*\n",
            "**\n",
            "***\n",
            "****\n",
            "*****\n"
          ]
        }
      ]
    },
    {
      "cell_type": "code",
      "source": [
        "num=0\n",
        "while True:\n",
        "    for i in range(num):\n",
        "        print(\"*\",end='')\n",
        "    print(\"\")\n",
        "    num +=1\n",
        "    if num >5:\n",
        "        break\n"
      ],
      "metadata": {
        "colab": {
          "base_uri": "https://localhost:8080/"
        },
        "id": "tRIX1E-nO57m",
        "outputId": "4ae7dcbf-6d5d-4867-dee2-984a34115d45"
      },
      "execution_count": null,
      "outputs": [
        {
          "output_type": "stream",
          "name": "stdout",
          "text": [
            "\n",
            "*\n",
            "**\n",
            "***\n",
            "****\n",
            "*****\n"
          ]
        }
      ]
    },
    {
      "cell_type": "markdown",
      "source": [
        "### 7_3:"
      ],
      "metadata": {
        "id": "wwatOwbSRpXa"
      }
    }
  ]
}