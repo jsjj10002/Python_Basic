{
 "cells": [
  {
   "cell_type": "markdown",
   "id": "7f13c686",
   "metadata": {},
   "source": [
    "### 6_1 if~ elif else 문 이용"
   ]
  },
  {
   "cell_type": "code",
   "execution_count": 17,
   "id": "23d5610e",
   "metadata": {},
   "outputs": [
    {
     "name": "stdout",
     "output_type": "stream",
     "text": [
      "점수를 입력히세요 : 59\n",
      "F\n",
      "학점입니다. ^^\n"
     ]
    }
   ],
   "source": [
    "scor = int(input(\"점수를 입력히세요 : \"))\n",
    "if scor >= 95 :\n",
    "    point = \"A+\"\n",
    "elif 95 > scor >=90:\n",
    "    point = \"A0\"\n",
    "elif 90 > scor >=85:\n",
    "    point = \"B+\"\n",
    "elif 85 > scor >=80:\n",
    "    point = \"B0\"\n",
    "elif 80 > scor >=75:\n",
    "    point = \"C+\"\n",
    "elif 75 > scor >=70:\n",
    "    point = \"C0\"\n",
    "elif 70 > scor >=65:\n",
    "    point = \"D+\"\n",
    "elif 65 > scor >=60:\n",
    "    point = \"D0\"\n",
    "else:\n",
    "    point = \"F\"\n",
    "    \n",
    "print(\"%s\\n학점입니다. ^^\" %point)"
   ]
  },
  {
   "cell_type": "code",
   "execution_count": 1,
   "id": "77d2ba14",
   "metadata": {},
   "outputs": [
    {
     "name": "stdout",
     "output_type": "stream",
     "text": [
      "점수를 입력히세요 : 88\n",
      "B+\n",
      "학점입니다. ^^\n"
     ]
    }
   ],
   "source": [
    "pointlist = [\"A0\",\"B+\",\"B0\",\"C+\",\"C0\",\"D+\",\"D0\"]\n",
    "scor = int(input(\"점수를 입력히세요 : \"))\n",
    "if scor >= 95 :\n",
    "    point = \"A+\"\n",
    "elif scor < 60:\n",
    "    point = \"F\"\n",
    "for i,j in zip(range(95, 60, -5), pointlist):\n",
    "    if i > scor >= i-5:\n",
    "        point = j\n",
    "print(\"%s\\n학점입니다. ^^\" %point)"
   ]
  },
  {
   "cell_type": "markdown",
   "id": "50d1c746",
   "metadata": {},
   "source": [
    "### 6_2 두 숫자를 입력받고 두 숫자 사이의 합계를 구하는 프로그램"
   ]
  },
  {
   "cell_type": "code",
   "execution_count": 1,
   "id": "205d07c2",
   "metadata": {},
   "outputs": [
    {
     "name": "stdout",
     "output_type": "stream",
     "text": [
      "*** 첫 번째 숫자를 입력하세요 : 1\n",
      "*** 두 번째 숫자를 입력하세요 : 100\n",
      "*** 더할 숫자를 입력하세요 : 3\n",
      "1+4+...+100는 1717 입니다. \n"
     ]
    }
   ],
   "source": [
    "firnum =  int(input(\"*** 첫 번째 숫자를 입력하세요 : \"))\n",
    "secnum =  int(input(\"*** 두 번째 숫자를 입력하세요 : \"))\n",
    "plusnum =  int(input(\"*** 더할 숫자를 입력하세요 : \"))\n",
    "sumnum = 0\n",
    "for i in range(firnum, secnum+1, plusnum):\n",
    "    sumnum += i\n",
    "print(\"%d+%d+...+%d는 %d 입니다. \" %(firnum, firnum+plusnum, secnum, sumnum))\n"
   ]
  },
  {
   "cell_type": "markdown",
   "id": "dcd48654",
   "metadata": {},
   "source": [
    "### 6_3 자릿수 판별하기 "
   ]
  },
  {
   "cell_type": "code",
   "execution_count": 6,
   "id": "28e7acd8",
   "metadata": {},
   "outputs": [
    {
     "name": "stdout",
     "output_type": "stream",
     "text": [
      "숫자를 입력하세요: 1000\n",
      "세 자릿수 이상\n"
     ]
    }
   ],
   "source": [
    "num = str(input(\"숫자를 입력하세요: \"))\n",
    "numlen = len(num)\n",
    "if numlen == 1:\n",
    "    print(\"한 자릿수\")\n",
    "elif numlen == 2:\n",
    "    print(\"두 자릿수\")\n",
    "elif numlen == 3:\n",
    "    print(\"세 자릿수\")\n",
    "else:\n",
    "    print(\"세 자릿수 이상\")"
   ]
  },
  {
   "cell_type": "code",
   "execution_count": 7,
   "id": "09829f2f",
   "metadata": {},
   "outputs": [
    {
     "name": "stdout",
     "output_type": "stream",
     "text": [
      "숫자를 입력하세요: 388\n",
      "세 자릿수\n"
     ]
    }
   ],
   "source": [
    "num = int(input(\"숫자를 입력하세요: \"))\n",
    "if num < 10:\n",
    "    print(\"한 자릿수\")\n",
    "elif num < 100:\n",
    "    print(\"두 자릿수\")\n",
    "elif num < 1000:\n",
    "    print(\"세 자릿수\")\n",
    "else:\n",
    "    print(\"세 자릿수 이상\")"
   ]
  },
  {
   "cell_type": "code",
   "execution_count": null,
   "id": "7a9e5f27",
   "metadata": {},
   "outputs": [],
   "source": []
  },
  {
   "cell_type": "code",
   "execution_count": null,
   "id": "83d00707",
   "metadata": {},
   "outputs": [],
   "source": []
  }
 ],
 "metadata": {
  "kernelspec": {
   "display_name": "Python 3 (ipykernel)",
   "language": "python",
   "name": "python3"
  },
  "language_info": {
   "codemirror_mode": {
    "name": "ipython",
    "version": 3
   },
   "file_extension": ".py",
   "mimetype": "text/x-python",
   "name": "python",
   "nbconvert_exporter": "python",
   "pygments_lexer": "ipython3",
   "version": "3.9.13"
  }
 },
 "nbformat": 4,
 "nbformat_minor": 5
}
