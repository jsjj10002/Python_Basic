{
  "cells": [
    {
      "cell_type": "markdown",
      "id": "7f13c686",
      "metadata": {
        "id": "7f13c686"
      },
      "source": [
        "### 6_1 if~ elif else 문 이용"
      ]
    },
    {
      "cell_type": "code",
      "execution_count": null,
      "id": "23d5610e",
      "metadata": {
        "id": "23d5610e",
        "outputId": "7839ed6c-01eb-42e4-cadc-bddc9acd535f"
      },
      "outputs": [
        {
          "name": "stdout",
          "output_type": "stream",
          "text": [
            "점수를 입력히세요 : 59\n",
            "F\n",
            "학점입니다. ^^\n"
          ]
        }
      ],
      "source": [
        "scor = int(input(\"점수를 입력히세요 : \"))\n",
        "if scor >= 95 :\n",
        "    point = \"A+\"\n",
        "elif 95 > scor >=90:\n",
        "    point = \"A0\"\n",
        "elif 90 > scor >=85:\n",
        "    point = \"B+\"\n",
        "elif 85 > scor >=80:\n",
        "    point = \"B0\"\n",
        "elif 80 > scor >=75:\n",
        "    point = \"C+\"\n",
        "elif 75 > scor >=70:\n",
        "    point = \"C0\"\n",
        "elif 70 > scor >=65:\n",
        "    point = \"D+\"\n",
        "elif 65 > scor >=60:\n",
        "    point = \"D0\"\n",
        "else:\n",
        "    point = \"F\"\n",
        "\n",
        "print(\"%s\\n학점입니다. ^^\" %point)"
      ]
    },
    {
      "cell_type": "code",
      "execution_count": 8,
      "id": "77d2ba14",
      "metadata": {
        "id": "77d2ba14",
        "outputId": "5a18fb87-5de2-40b9-c77a-e2ee560a18ff",
        "colab": {
          "base_uri": "https://localhost:8080/"
        }
      },
      "outputs": [
        {
          "output_type": "stream",
          "name": "stdout",
          "text": [
            "점수를 입력히세요 : 70\n",
            "C0\n",
            "학점입니다. ^^\n"
          ]
        }
      ],
      "source": [
        "pointlist = [\"A0\",\"B+\",\"B0\",\"C+\",\"C0\",\"D+\",\"D0\"]\n",
        "scor = int(input(\"점수를 입력히세요 : \"))\n",
        "if scor >= 95 :\n",
        "    point = \"A+\"\n",
        "elif scor < 60:\n",
        "    point = \"F\"\n",
        "for i,j in zip(range(95, 60, -5), pointlist):\n",
        "    if i > scor >= i-5:\n",
        "        point = j\n",
        "print(\"%s\\n학점입니다. ^^\" %point)"
      ]
    },
    {
      "cell_type": "markdown",
      "id": "50d1c746",
      "metadata": {
        "id": "50d1c746"
      },
      "source": [
        "### 6_2 두 숫자를 입력받고 두 숫자 사이의 합계를 구하는 프로그램"
      ]
    },
    {
      "cell_type": "code",
      "execution_count": null,
      "id": "205d07c2",
      "metadata": {
        "id": "205d07c2",
        "outputId": "ea5813cd-6ec7-496f-eee8-0c096e29203f"
      },
      "outputs": [
        {
          "name": "stdout",
          "output_type": "stream",
          "text": [
            "*** 첫 번째 숫자를 입력하세요 : 1\n",
            "*** 두 번째 숫자를 입력하세요 : 100\n",
            "*** 더할 숫자를 입력하세요 : 3\n",
            "1+4+...+100는 1717 입니다. \n"
          ]
        }
      ],
      "source": [
        "firnum =  int(input(\"*** 첫 번째 숫자를 입력하세요 : \"))\n",
        "secnum =  int(input(\"*** 두 번째 숫자를 입력하세요 : \"))\n",
        "plusnum =  int(input(\"*** 더할 숫자를 입력하세요 : \"))\n",
        "sumnum = 0\n",
        "for i in range(firnum, secnum+1, plusnum):\n",
        "    sumnum += i\n",
        "print(\"%d+%d+...+%d는 %d 입니다. \" %(firnum, firnum+plusnum, secnum, sumnum))\n"
      ]
    },
    {
      "cell_type": "markdown",
      "source": [
        "### 6_2 나이를 입력받아 판별하는 프로그램"
      ],
      "metadata": {
        "id": "FCg6MJSYJhEr"
      },
      "id": "FCg6MJSYJhEr"
    },
    {
      "cell_type": "code",
      "source": [
        "age = int(input(\"나이를 입력하세요: \"))\n",
        "if age >= 20:\n",
        "    printage = \"you are adult\"\n",
        "elif age >= 10:\n",
        "    printage = \"you are adolescent\"\n",
        "else:\n",
        "    printage = \"you are baby\"\n",
        "\n",
        "print(printage)"
      ],
      "metadata": {
        "id": "yz4e6WphJyQq",
        "outputId": "939291ca-cf53-40ad-b983-187128cdd8c5",
        "colab": {
          "base_uri": "https://localhost:8080/"
        }
      },
      "id": "yz4e6WphJyQq",
      "execution_count": 3,
      "outputs": [
        {
          "output_type": "stream",
          "name": "stdout",
          "text": [
            "나이를 입력하세요: 20\n",
            "you are adult\n"
          ]
        }
      ]
    },
    {
      "cell_type": "markdown",
      "id": "dcd48654",
      "metadata": {
        "id": "dcd48654"
      },
      "source": [
        "### 6_3 자릿수 판별하기"
      ]
    },
    {
      "cell_type": "code",
      "execution_count": null,
      "id": "28e7acd8",
      "metadata": {
        "id": "28e7acd8",
        "outputId": "03bb0913-3536-456c-a9c2-873f34ceae78"
      },
      "outputs": [
        {
          "name": "stdout",
          "output_type": "stream",
          "text": [
            "숫자를 입력하세요: 1000\n",
            "세 자릿수 이상\n"
          ]
        }
      ],
      "source": [
        "num = str(input(\"숫자를 입력하세요: \"))\n",
        "numlen = len(num)\n",
        "if numlen == 1:\n",
        "    print(\"한 자릿수\")\n",
        "elif numlen == 2:\n",
        "    print(\"두 자릿수\")\n",
        "elif numlen == 3:\n",
        "    print(\"세 자릿수\")\n",
        "else:\n",
        "    print(\"세 자릿수 이상\")"
      ]
    },
    {
      "cell_type": "code",
      "execution_count": null,
      "id": "09829f2f",
      "metadata": {
        "id": "09829f2f",
        "outputId": "fb8d3611-24ea-44ae-b936-d60bf091fca1"
      },
      "outputs": [
        {
          "name": "stdout",
          "output_type": "stream",
          "text": [
            "숫자를 입력하세요: 388\n",
            "세 자릿수\n"
          ]
        }
      ],
      "source": [
        "num = int(input(\"숫자를 입력하세요: \"))\n",
        "if num < 10:\n",
        "    print(\"한 자릿수\")\n",
        "elif num < 100:\n",
        "    print(\"두 자릿수\")\n",
        "elif num < 1000:\n",
        "    print(\"세 자릿수\")\n",
        "else:\n",
        "    print(\"세 자릿수 이상\")"
      ]
    },
    {
      "cell_type": "markdown",
      "source": [
        "### 6_4학생수준평가 합격여부"
      ],
      "metadata": {
        "id": "hTDUu3HHK0t7"
      },
      "id": "hTDUu3HHK0t7"
    },
    {
      "cell_type": "code",
      "execution_count": 7,
      "id": "83d00707",
      "metadata": {
        "id": "83d00707",
        "outputId": "c4735d2f-2ecd-49c2-90ba-7f7d8dde5ff9",
        "colab": {
          "base_uri": "https://localhost:8080/"
        }
      },
      "outputs": [
        {
          "output_type": "stream",
          "name": "stdout",
          "text": [
            "영어점수를 입력하세요: 40\n",
            "수학점수를 입력하세요: 90\n",
            "합격\n"
          ]
        }
      ],
      "source": [
        "eng = int(input(\"영어점수를 입력하세요: \"))\n",
        "math = int(input(\"수학점수를 입력하세요: \"))\n",
        "total = eng+math\n",
        "if total < 110:\n",
        "    print(\"불합격:총합 점수가 부족합니다.\")\n",
        "elif (eng>=40) and (math >= 40):\n",
        "    print(\"합격\")\n",
        "else:\n",
        "    if eng <40:\n",
        "        print(\"불합격:영어 점수가 부족합니다.\")\n",
        "    else:\n",
        "        print(\"불합격: 수학 점수가 부족합니다.\")\n"
      ]
    }
  ],
  "metadata": {
    "kernelspec": {
      "display_name": "Python 3 (ipykernel)",
      "language": "python",
      "name": "python3"
    },
    "language_info": {
      "codemirror_mode": {
        "name": "ipython",
        "version": 3
      },
      "file_extension": ".py",
      "mimetype": "text/x-python",
      "name": "python",
      "nbconvert_exporter": "python",
      "pygments_lexer": "ipython3",
      "version": "3.9.13"
    },
    "colab": {
      "provenance": []
    }
  },
  "nbformat": 4,
  "nbformat_minor": 5
}