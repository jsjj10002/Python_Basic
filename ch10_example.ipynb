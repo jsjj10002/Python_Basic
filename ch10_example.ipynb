{
  "nbformat": 4,
  "nbformat_minor": 0,
  "metadata": {
    "colab": {
      "provenance": [],
      "authorship_tag": "ABX9TyOm1VQYUPxlEufrzPu+EhT1",
      "include_colab_link": true
    },
    "kernelspec": {
      "name": "python3",
      "display_name": "Python 3"
    },
    "language_info": {
      "name": "python"
    }
  },
  "cells": [
    {
      "cell_type": "markdown",
      "metadata": {
        "id": "view-in-github",
        "colab_type": "text"
      },
      "source": [
        "<a href=\"https://colab.research.google.com/github/jsjj10002/Python_Basic/blob/main/ch10_example.ipynb\" target=\"_parent\"><img src=\"https://colab.research.google.com/assets/colab-badge.svg\" alt=\"Open In Colab\"/></a>"
      ]
    },
    {
      "cell_type": "code",
      "execution_count": 1,
      "metadata": {
        "id": "uRyHEDqF0xyl"
      },
      "outputs": [],
      "source": [
        "import numpy as np\n",
        "import random"
      ]
    },
    {
      "cell_type": "code",
      "source": [
        "arr=[[0 for i in range(5)] for j in range(10)]\n",
        "arr"
      ],
      "metadata": {
        "colab": {
          "base_uri": "https://localhost:8080/"
        },
        "id": "ow4qCwgM1dPN",
        "outputId": "b1594439-03bb-472e-a7c0-1b7e8b045908"
      },
      "execution_count": null,
      "outputs": [
        {
          "output_type": "execute_result",
          "data": {
            "text/plain": [
              "[[0, 0, 0, 0, 0],\n",
              " [0, 0, 0, 0, 0],\n",
              " [0, 0, 0, 0, 0],\n",
              " [0, 0, 0, 0, 0],\n",
              " [0, 0, 0, 0, 0],\n",
              " [0, 0, 0, 0, 0],\n",
              " [0, 0, 0, 0, 0],\n",
              " [0, 0, 0, 0, 0],\n",
              " [0, 0, 0, 0, 0],\n",
              " [0, 0, 0, 0, 0]]"
            ]
          },
          "metadata": {},
          "execution_count": 4
        }
      ]
    },
    {
      "cell_type": "code",
      "source": [
        "arr = np.array([[1,2,3],[4,5,6]])\n",
        "print(arr)"
      ],
      "metadata": {
        "colab": {
          "base_uri": "https://localhost:8080/"
        },
        "id": "p4O0T1jg13Ft",
        "outputId": "dd66a8fb-492d-4c3a-c524-658419d8919a"
      },
      "execution_count": null,
      "outputs": [
        {
          "output_type": "stream",
          "name": "stdout",
          "text": [
            "[[1 2 3]\n",
            " [4 5 6]]\n"
          ]
        }
      ]
    },
    {
      "cell_type": "code",
      "source": [
        "size=5\n",
        "numpyAry =np.random.randint(0,255,size=(size,size))\n",
        "print(numpyAry)\n"
      ],
      "metadata": {
        "colab": {
          "base_uri": "https://localhost:8080/"
        },
        "id": "AZxulaB32KOV",
        "outputId": "d86b5ebc-0ff7-41be-c4ee-d77121a88f59"
      },
      "execution_count": null,
      "outputs": [
        {
          "output_type": "stream",
          "name": "stdout",
          "text": [
            "[[ 82 224 117  84 250]\n",
            " [242   7 144 109 115]\n",
            " [174 117 166 215 219]\n",
            " [ 23 160  49 204 222]\n",
            " [ 28  57  83 239 118]]\n"
          ]
        }
      ]
    },
    {
      "cell_type": "code",
      "source": [
        "numpyAry+=100\n",
        "print(numpyAry)"
      ],
      "metadata": {
        "colab": {
          "base_uri": "https://localhost:8080/"
        },
        "id": "8eaSt1Ww2gW9",
        "outputId": "25513ac7-0ed4-4ae1-90c5-eab8044e694c"
      },
      "execution_count": null,
      "outputs": [
        {
          "output_type": "stream",
          "name": "stdout",
          "text": [
            "[[182 324 217 184 350]\n",
            " [342 107 244 209 215]\n",
            " [274 217 266 315 319]\n",
            " [123 260 149 304 322]\n",
            " [128 157 183 339 218]]\n"
          ]
        }
      ]
    },
    {
      "cell_type": "code",
      "source": [
        "pylist = [random.randint(0,225) for _ in range(5)]\n",
        "print(pylist)\n"
      ],
      "metadata": {
        "colab": {
          "base_uri": "https://localhost:8080/"
        },
        "id": "oVB0L1Md4Mhl",
        "outputId": "fec09199-db29-47ba-805e-78343419840a"
      },
      "execution_count": null,
      "outputs": [
        {
          "output_type": "stream",
          "name": "stdout",
          "text": [
            "[215, 123, 210, 90, 129]\n"
          ]
        }
      ]
    },
    {
      "cell_type": "code",
      "source": [
        "numary1 = np.array(pylist)\n",
        "print(numary1)"
      ],
      "metadata": {
        "colab": {
          "base_uri": "https://localhost:8080/"
        },
        "id": "vMD53p5s4ut3",
        "outputId": "8c921a91-c9d5-4223-aa24-58d626e7ccbc"
      },
      "execution_count": null,
      "outputs": [
        {
          "output_type": "stream",
          "name": "stdout",
          "text": [
            "[215 123 210  90 129]\n"
          ]
        }
      ]
    },
    {
      "cell_type": "code",
      "source": [
        "numary2 = np.arange(5)\n",
        "print(numary2)"
      ],
      "metadata": {
        "colab": {
          "base_uri": "https://localhost:8080/"
        },
        "id": "mKynXybO43xl",
        "outputId": "a6ab03dc-62e8-43f5-a524-2a57b75ecc6b"
      },
      "execution_count": null,
      "outputs": [
        {
          "output_type": "stream",
          "name": "stdout",
          "text": [
            "[0 1 2 3 4]\n"
          ]
        }
      ]
    },
    {
      "cell_type": "code",
      "source": [
        "numary3 = np.arange(3,8)\n",
        "print(numary3)"
      ],
      "metadata": {
        "colab": {
          "base_uri": "https://localhost:8080/"
        },
        "id": "D6tmTbyp5CRV",
        "outputId": "ba3cd0ef-6ccf-4f72-eafa-cd8c7b1c9a36"
      },
      "execution_count": null,
      "outputs": [
        {
          "output_type": "stream",
          "name": "stdout",
          "text": [
            "[3 4 5 6 7]\n"
          ]
        }
      ]
    },
    {
      "cell_type": "code",
      "source": [
        "numary4 = np.arange(0,100,20)\n",
        "print(numary4)"
      ],
      "metadata": {
        "colab": {
          "base_uri": "https://localhost:8080/"
        },
        "id": "ZB7jvRl_5KDN",
        "outputId": "7945b8bc-58e5-4d66-d404-7b0e0c0379c3"
      },
      "execution_count": null,
      "outputs": [
        {
          "output_type": "stream",
          "name": "stdout",
          "text": [
            "[ 0 20 40 60 80]\n"
          ]
        }
      ]
    },
    {
      "cell_type": "code",
      "source": [
        "numary5 = np.ones(5)\n",
        "print(numary5)"
      ],
      "metadata": {
        "colab": {
          "base_uri": "https://localhost:8080/"
        },
        "id": "Ru0pnS3q5U8W",
        "outputId": "cf9a3f24-c888-4104-8e2e-c3c015c334e4"
      },
      "execution_count": null,
      "outputs": [
        {
          "output_type": "stream",
          "name": "stdout",
          "text": [
            "[1. 1. 1. 1. 1.]\n"
          ]
        }
      ]
    },
    {
      "cell_type": "code",
      "source": [
        "numary6 = np.zeros(5)\n",
        "print(numary6)"
      ],
      "metadata": {
        "colab": {
          "base_uri": "https://localhost:8080/"
        },
        "id": "jAHKjvjW5duO",
        "outputId": "73208ae7-269d-40b7-8416-ba289f5c0a56"
      },
      "execution_count": null,
      "outputs": [
        {
          "output_type": "stream",
          "name": "stdout",
          "text": [
            "[0. 0. 0. 0. 0.]\n"
          ]
        }
      ]
    },
    {
      "cell_type": "code",
      "source": [
        "numary7 = np.empty(6)\n",
        "print(numary7)"
      ],
      "metadata": {
        "colab": {
          "base_uri": "https://localhost:8080/"
        },
        "id": "HXoH7jYf5rB3",
        "outputId": "151e2c86-c681-46b2-f8b5-f6818902c37e"
      },
      "execution_count": null,
      "outputs": [
        {
          "output_type": "stream",
          "name": "stdout",
          "text": [
            "[4.98582198e-310 0.00000000e+000 1.12426267e+166 5.98129759e-154\n",
            " 5.04758700e+223 1.34452577e+161]\n"
          ]
        }
      ]
    },
    {
      "cell_type": "code",
      "source": [
        "numaary8 = np.full(5,33)\n",
        "print(numaary8)"
      ],
      "metadata": {
        "colab": {
          "base_uri": "https://localhost:8080/"
        },
        "id": "z8tqvFdS51AF",
        "outputId": "5c26283b-7047-4456-b1f3-9ef01c76ec73"
      },
      "execution_count": null,
      "outputs": [
        {
          "output_type": "stream",
          "name": "stdout",
          "text": [
            "[33 33 33 33 33]\n"
          ]
        }
      ]
    },
    {
      "cell_type": "code",
      "source": [
        "numary9 = np.identity(5)\n",
        "print(numary9)"
      ],
      "metadata": {
        "colab": {
          "base_uri": "https://localhost:8080/"
        },
        "id": "UAK7-Bq56AGO",
        "outputId": "77d0e8d5-1014-4eb0-b70a-0df6740cdf67"
      },
      "execution_count": null,
      "outputs": [
        {
          "output_type": "stream",
          "name": "stdout",
          "text": [
            "[[1. 0. 0. 0. 0.]\n",
            " [0. 1. 0. 0. 0.]\n",
            " [0. 0. 1. 0. 0.]\n",
            " [0. 0. 0. 1. 0.]\n",
            " [0. 0. 0. 0. 1.]]\n"
          ]
        }
      ]
    },
    {
      "cell_type": "code",
      "source": [
        "pylist1 = [10,20,30,40]\n",
        "pylist2 = [10,20,30,40.0]\n",
        "numary10 = np.array(pylist1)\n",
        "print(numary10.dtype)\n",
        "numary11 = np.array(pylist2)\n",
        "print(numary11.dtype)\n",
        "numary12 = np.array(pylist1, dtype=np.float32)\n",
        "print(numary12,numary12.dtype)"
      ],
      "metadata": {
        "colab": {
          "base_uri": "https://localhost:8080/"
        },
        "id": "s-S3Sd5F6Ia3",
        "outputId": "a44bbe84-fca9-4da5-e1a9-b126e1c26c14"
      },
      "execution_count": null,
      "outputs": [
        {
          "output_type": "stream",
          "name": "stdout",
          "text": [
            "int64\n",
            "float64\n",
            "[10. 20. 30. 40.] float32\n"
          ]
        }
      ]
    },
    {
      "cell_type": "code",
      "source": [
        "ary = np.random.randint(0,255,size=(2,3))\n",
        "ary"
      ],
      "metadata": {
        "colab": {
          "base_uri": "https://localhost:8080/"
        },
        "id": "b0RBq5647Lmc",
        "outputId": "11c76ca1-b686-4d34-e301-dfed31e5dc76"
      },
      "execution_count": null,
      "outputs": [
        {
          "output_type": "execute_result",
          "data": {
            "text/plain": [
              "array([[ 58,  13, 124],\n",
              "       [224, 220,  53]])"
            ]
          },
          "metadata": {},
          "execution_count": 27
        }
      ]
    },
    {
      "cell_type": "code",
      "source": [
        "ary.ndim"
      ],
      "metadata": {
        "colab": {
          "base_uri": "https://localhost:8080/"
        },
        "id": "5WsaBIKr8Xct",
        "outputId": "db017555-1633-4012-c206-c935a311e854"
      },
      "execution_count": null,
      "outputs": [
        {
          "output_type": "execute_result",
          "data": {
            "text/plain": [
              "2"
            ]
          },
          "metadata": {},
          "execution_count": 28
        }
      ]
    },
    {
      "cell_type": "code",
      "source": [
        "ary.shape"
      ],
      "metadata": {
        "colab": {
          "base_uri": "https://localhost:8080/"
        },
        "id": "waTTNX-38a9l",
        "outputId": "b5120732-870d-428a-8c91-11a8246e0be3"
      },
      "execution_count": null,
      "outputs": [
        {
          "output_type": "execute_result",
          "data": {
            "text/plain": [
              "(2, 3)"
            ]
          },
          "metadata": {},
          "execution_count": 29
        }
      ]
    },
    {
      "cell_type": "code",
      "source": [
        "ary1 = np.arange(10)\n",
        "ary1[0] =100\n",
        "ary1"
      ],
      "metadata": {
        "colab": {
          "base_uri": "https://localhost:8080/"
        },
        "id": "-eY_kXcm8c1F",
        "outputId": "f1cf7431-344d-4c7f-c250-435d84329238"
      },
      "execution_count": null,
      "outputs": [
        {
          "output_type": "execute_result",
          "data": {
            "text/plain": [
              "array([100,   1,   2,   3,   4,   5,   6,   7,   8,   9])"
            ]
          },
          "metadata": {},
          "execution_count": 34
        }
      ]
    },
    {
      "cell_type": "code",
      "source": [
        "ary1_sub1 = ary1[3:7]\n",
        "ary1_sub1"
      ],
      "metadata": {
        "colab": {
          "base_uri": "https://localhost:8080/"
        },
        "id": "3pOX9lw99iyM",
        "outputId": "c3c4ff3c-4ac2-471e-814d-628a549339c1"
      },
      "execution_count": null,
      "outputs": [
        {
          "output_type": "execute_result",
          "data": {
            "text/plain": [
              "array([3, 4, 5, 6])"
            ]
          },
          "metadata": {},
          "execution_count": 35
        }
      ]
    },
    {
      "cell_type": "code",
      "source": [
        "ary1_sub1[:] = 77\n",
        "ary1_sub1"
      ],
      "metadata": {
        "colab": {
          "base_uri": "https://localhost:8080/"
        },
        "id": "8pH1hpS59x5k",
        "outputId": "9ecb321a-04c9-49c8-957b-e8bdfaebdf57"
      },
      "execution_count": null,
      "outputs": [
        {
          "output_type": "execute_result",
          "data": {
            "text/plain": [
              "array([77, 77, 77, 77])"
            ]
          },
          "metadata": {},
          "execution_count": 38
        }
      ]
    },
    {
      "cell_type": "code",
      "source": [
        "ary1"
      ],
      "metadata": {
        "colab": {
          "base_uri": "https://localhost:8080/"
        },
        "id": "w_D0lVZc96SV",
        "outputId": "5e15559d-05a5-4dc2-bc3c-324e57462ab1"
      },
      "execution_count": null,
      "outputs": [
        {
          "output_type": "execute_result",
          "data": {
            "text/plain": [
              "array([100,   1,   2,  77,  77,  77,  77,   7,   8,   9])"
            ]
          },
          "metadata": {},
          "execution_count": 39
        }
      ]
    },
    {
      "cell_type": "code",
      "source": [
        "ary1 = np.arange(10)\n",
        "ary1_sub2 =ary1[3:7].copy()\n",
        "ary1_sub2"
      ],
      "metadata": {
        "colab": {
          "base_uri": "https://localhost:8080/"
        },
        "id": "J0CxiD-q8wNF",
        "outputId": "bf369322-2377-4cf3-a0ec-a4d29c0fc9b3"
      },
      "execution_count": null,
      "outputs": [
        {
          "output_type": "execute_result",
          "data": {
            "text/plain": [
              "array([3, 4, 5, 6])"
            ]
          },
          "metadata": {},
          "execution_count": 40
        }
      ]
    },
    {
      "cell_type": "code",
      "source": [
        "ary1_sub2[:]=88\n",
        "ary1_sub2"
      ],
      "metadata": {
        "colab": {
          "base_uri": "https://localhost:8080/"
        },
        "id": "cnz3brA8-ZMm",
        "outputId": "3eb530f4-4a76-42d4-cf55-10a7faedc15e"
      },
      "execution_count": null,
      "outputs": [
        {
          "output_type": "execute_result",
          "data": {
            "text/plain": [
              "array([88, 88, 88, 88])"
            ]
          },
          "metadata": {},
          "execution_count": 41
        }
      ]
    },
    {
      "cell_type": "code",
      "source": [
        "ary1"
      ],
      "metadata": {
        "colab": {
          "base_uri": "https://localhost:8080/"
        },
        "id": "b6MkKpCs-get",
        "outputId": "3b924620-0d25-4cf5-f13b-d4187b26c40e"
      },
      "execution_count": null,
      "outputs": [
        {
          "output_type": "execute_result",
          "data": {
            "text/plain": [
              "array([0, 1, 2, 3, 4, 5, 6, 7, 8, 9])"
            ]
          },
          "metadata": {},
          "execution_count": 42
        }
      ]
    },
    {
      "cell_type": "code",
      "source": [
        "ary2 = np.arange(1,26)\n",
        "ary2 = ary2.reshape(5,5)\n",
        "ary2"
      ],
      "metadata": {
        "colab": {
          "base_uri": "https://localhost:8080/"
        },
        "id": "B-7DdbJm-hvF",
        "outputId": "cd3d5e89-0eaf-4d21-bcd1-edc3ae91ee51"
      },
      "execution_count": null,
      "outputs": [
        {
          "output_type": "execute_result",
          "data": {
            "text/plain": [
              "array([[ 1,  2,  3,  4,  5],\n",
              "       [ 6,  7,  8,  9, 10],\n",
              "       [11, 12, 13, 14, 15],\n",
              "       [16, 17, 18, 19, 20],\n",
              "       [21, 22, 23, 24, 25]])"
            ]
          },
          "metadata": {},
          "execution_count": 46
        }
      ]
    },
    {
      "cell_type": "code",
      "source": [
        "ary2 = np.arange(1,26).reshape(5,5)\n",
        "ary2"
      ],
      "metadata": {
        "colab": {
          "base_uri": "https://localhost:8080/"
        },
        "id": "29wSNN1m-wzs",
        "outputId": "c64dd479-279e-4ff9-8a84-7f2035bd04ca"
      },
      "execution_count": null,
      "outputs": [
        {
          "output_type": "execute_result",
          "data": {
            "text/plain": [
              "array([[ 1,  2,  3,  4,  5],\n",
              "       [ 6,  7,  8,  9, 10],\n",
              "       [11, 12, 13, 14, 15],\n",
              "       [16, 17, 18, 19, 20],\n",
              "       [21, 22, 23, 24, 25]])"
            ]
          },
          "metadata": {},
          "execution_count": 47
        }
      ]
    },
    {
      "cell_type": "code",
      "source": [
        "ary3 = ary2.reshape(25)\n",
        "ary3"
      ],
      "metadata": {
        "colab": {
          "base_uri": "https://localhost:8080/"
        },
        "id": "WKkYnC1i-xll",
        "outputId": "512fb1fc-a658-42a8-c9f2-e1eb3e4615b7"
      },
      "execution_count": null,
      "outputs": [
        {
          "output_type": "execute_result",
          "data": {
            "text/plain": [
              "array([ 1,  2,  3,  4,  5,  6,  7,  8,  9, 10, 11, 12, 13, 14, 15, 16, 17,\n",
              "       18, 19, 20, 21, 22, 23, 24, 25])"
            ]
          },
          "metadata": {},
          "execution_count": 49
        }
      ]
    },
    {
      "cell_type": "code",
      "source": [
        "ary4 = np.arange(16).reshape(4,4)\n",
        "ary4[1]"
      ],
      "metadata": {
        "colab": {
          "base_uri": "https://localhost:8080/"
        },
        "id": "LmhvOCfO_ERk",
        "outputId": "3a2e4b6b-9d6e-448c-f07d-10435cff68b6"
      },
      "execution_count": 2,
      "outputs": [
        {
          "output_type": "execute_result",
          "data": {
            "text/plain": [
              "array([4, 5, 6, 7])"
            ]
          },
          "metadata": {},
          "execution_count": 2
        }
      ]
    },
    {
      "cell_type": "code",
      "source": [
        "ary4_sub =ary4[:,1:2]\n",
        "print(ary4_sub)\n",
        "ary4_sub.shape"
      ],
      "metadata": {
        "id": "aiCkOpsBkMrC",
        "outputId": "e913202b-dd9f-4bdb-f873-33432e965f74",
        "colab": {
          "base_uri": "https://localhost:8080/"
        }
      },
      "execution_count": 5,
      "outputs": [
        {
          "output_type": "stream",
          "name": "stdout",
          "text": [
            "[[ 1]\n",
            " [ 5]\n",
            " [ 9]\n",
            " [13]]\n"
          ]
        },
        {
          "output_type": "execute_result",
          "data": {
            "text/plain": [
              "(4, 1)"
            ]
          },
          "metadata": {},
          "execution_count": 5
        }
      ]
    },
    {
      "cell_type": "code",
      "source": [
        "ary4[1:3,1:3]"
      ],
      "metadata": {
        "id": "1ZBskHgmls7w",
        "outputId": "49c07aaa-3983-4969-b474-788500dedf6b",
        "colab": {
          "base_uri": "https://localhost:8080/"
        }
      },
      "execution_count": 6,
      "outputs": [
        {
          "output_type": "execute_result",
          "data": {
            "text/plain": [
              "array([[ 5,  6],\n",
              "       [ 9, 10]])"
            ]
          },
          "metadata": {},
          "execution_count": 6
        }
      ]
    },
    {
      "cell_type": "code",
      "source": [
        "ary5 = np.zeros((2,2),dtype=np.int8)\n",
        "print(ary5)\n",
        "ary6 =np.ones((2,2), dtype=np.int8)\n",
        "print(ary6)\n",
        "print(np.concatenate((ary5,ary6), axis=0))\n",
        "print(np.concatenate((ary5,ary6), axis=1))"
      ],
      "metadata": {
        "id": "pwmMcThClyEv",
        "outputId": "8abfeff6-090a-4916-ba09-972cb3d80bba",
        "colab": {
          "base_uri": "https://localhost:8080/"
        }
      },
      "execution_count": 9,
      "outputs": [
        {
          "output_type": "stream",
          "name": "stdout",
          "text": [
            "[[0 0]\n",
            " [0 0]]\n",
            "[[1 1]\n",
            " [1 1]]\n",
            "[[0 0]\n",
            " [0 0]\n",
            " [1 1]\n",
            " [1 1]]\n",
            "[[0 0 1 1]\n",
            " [0 0 1 1]]\n"
          ]
        }
      ]
    },
    {
      "cell_type": "code",
      "source": [
        "ary7 = np.array([[1,2,3],[4,5,6]])\n",
        "print(ary7.T,\"\\n\")\n",
        "print(ary7.transpose(1,0),\"\\n\")\n",
        "print(ary7.transpose(0,1),\"\\n\")\n"
      ],
      "metadata": {
        "id": "1_wgcRpBlq8v",
        "outputId": "dbcb66ad-b1d5-401e-d7a1-f30823fea5e8",
        "colab": {
          "base_uri": "https://localhost:8080/"
        }
      },
      "execution_count": 10,
      "outputs": [
        {
          "output_type": "stream",
          "name": "stdout",
          "text": [
            "[[1 4]\n",
            " [2 5]\n",
            " [3 6]] \n",
            "\n",
            "[[1 4]\n",
            " [2 5]\n",
            " [3 6]] \n",
            "\n",
            "[[1 2 3]\n",
            " [4 5 6]] \n",
            "\n"
          ]
        }
      ]
    }
  ]
}