{
  "nbformat": 4,
  "nbformat_minor": 0,
  "metadata": {
    "colab": {
      "provenance": [],
      "mount_file_id": "1Bbx7G3kMeUVQZtTha1GsPYLjyYl3hS5D",
      "authorship_tag": "ABX9TyOcLF1oBRekHivNP4j1Ek4O",
      "include_colab_link": true
    },
    "kernelspec": {
      "name": "python3",
      "display_name": "Python 3"
    },
    "language_info": {
      "name": "python"
    }
  },
  "cells": [
    {
      "cell_type": "markdown",
      "metadata": {
        "id": "view-in-github",
        "colab_type": "text"
      },
      "source": [
        "<a href=\"https://colab.research.google.com/github/jsjj10002/Python_Basic/blob/main/ch07_example.ipynb\" target=\"_parent\"><img src=\"https://colab.research.google.com/assets/colab-badge.svg\" alt=\"Open In Colab\"/></a>"
      ]
    },
    {
      "cell_type": "code",
      "execution_count": 1,
      "metadata": {
        "colab": {
          "base_uri": "https://localhost:8080/"
        },
        "id": "ih7-DHgFhosW",
        "outputId": "f989d39a-a470-4a06-ae07-7b044e191bc9"
      },
      "outputs": [
        {
          "output_type": "stream",
          "name": "stdout",
          "text": [
            "워크시트는 2개 입니다. \n",
            "** 워크시트 이름: senior\n",
            "행 수는 6, 열 개수는 7입니다.\n",
            "** 워크시트 이름: junior\n",
            "행 수는 6, 열 개수는 7입니다.\n"
          ]
        }
      ],
      "source": [
        "import xlrd\n",
        "\n",
        "workbook = xlrd.open_workbook(\"/content/drive/MyDrive/12주차_수업자료/singer.xls\")\n",
        "sheetCount = workbook.nsheets\n",
        "print(f\"워크시트는 {sheetCount}개 입니다. \")\n",
        "wsheetList = workbook.sheets()\n",
        "for worksheet in wsheetList:\n",
        "    print(f\"** 워크시트 이름: {worksheet.name}\")\n",
        "    print(f\"행 수는 {worksheet.nrows}, 열 개수는 {worksheet.ncols}입니다.\")"
      ]
    },
    {
      "cell_type": "markdown",
      "source": [
        "엑셀 파일의 모든 내용을 출력하는 코드"
      ],
      "metadata": {
        "id": "IDzxJuQ5kud7"
      }
    },
    {
      "cell_type": "code",
      "source": [
        "workbook = xlrd.open_workbook(\"/content/drive/MyDrive/12주차_수업자료/singer.xls\")\n",
        "sheetCount = workbook.nsheets\n",
        "\n",
        "wsheetList= workbook.sheets()\n",
        "for worksheet in wsheetList:\n",
        "    print('** 워크시트의이름: %s' % (worksheet.name) )\n",
        "    for row in range(worksheet.nrows) :\n",
        "        for col in range(worksheet.ncols) :\n",
        "            print(\"%-10s\" % worksheet.cell_value(row, col), end = '\\t')\n",
        "        print(\"\\n\")\n",
        "    print()\n"
      ],
      "metadata": {
        "colab": {
          "base_uri": "https://localhost:8080/"
        },
        "id": "tvRIc1ANjM0a",
        "outputId": "ed29669a-d382-4801-8991-79e6fe40e310"
      },
      "execution_count": 19,
      "outputs": [
        {
          "output_type": "stream",
          "name": "stdout",
          "text": [
            "** 워크시트의이름: senior\n",
            "아이디       \t이름        \t인원        \t주소        \t평균 키      \t데뷔 일자     \t유튜브 조회수   \t\n",
            "\n",
            "WMN       \t여자친구      \t6.0       \t경기        \t166.0     \t2015.01.15\t800.0     \t\n",
            "\n",
            "GRL       \t소녀시대      \t8.0       \t서울        \t168.0     \t2007.08.02\t1114600.0 \t\n",
            "\n",
            "RED       \t레드벨벳      \t4.0       \t경북        \t161.0     \t2014.08.01\t44500.0   \t\n",
            "\n",
            "APN       \t에이핑크      \t6.0       \t경기        \t164.0     \t2011.02.10\t2900.0    \t\n",
            "\n",
            "MMU       \t마마무       \t4.0       \t전남        \t165.0     \t2014.06.19\t6900.0    \t\n",
            "\n",
            "\n",
            "** 워크시트의이름: junior\n",
            "아이디       \t이름        \t인원        \t주소        \t평균 키      \t데뷔 일자     \t유튜브 조회수   \t\n",
            "\n",
            "TWC       \t트와이스      \t9.0       \t서울        \t167.0     \t2015.10.19\t3334500.0 \t\n",
            "\n",
            "BLK       \t블랙핑크      \t4.0       \t경남        \t163.0     \t2016.08.08\t443700.0  \t\n",
            "\n",
            "OMY       \t오마이걸      \t7.0       \t서울        \t160.0     \t2015.04.21\t3500.0    \t\n",
            "\n",
            "ITZ       \t있지        \t5.0       \t경남        \t167.0     \t2019.02.12\t21300.0   \t\n",
            "\n",
            "SPC       \t우주소녀      \t13.0      \t서울        \t162.0     \t2016.02.25\t350.0     \t\n",
            "\n",
            "\n"
          ]
        }
      ]
    },
    {
      "cell_type": "code",
      "source": [
        "workbook = xlrd.open_workbook(\"/content/drive/MyDrive/12주차_수업자료/singer.xls\")\n",
        "sheetCount = workbook.nsheets\n",
        "personNum= 0\n",
        "personIdx= 2\n",
        "rowCount= 0\n",
        "wsheetList= workbook.sheets()\n",
        "for worksheet in wsheetList:\n",
        "    rowCount+= worksheet.nrows-1\n",
        "    for row in range(1, worksheet.nrows) :\n",
        "        personNum+= int(worksheet.cell_value(row, personIdx))\n",
        "print(\"전체가수그룹인원합계: \", personNum)\n",
        "print(\"가수그룹인원평균: \", personNum/rowCount)"
      ],
      "metadata": {
        "colab": {
          "base_uri": "https://localhost:8080/"
        },
        "id": "l1wU-mOql7VL",
        "outputId": "02391596-447f-4344-8a9b-1f16381d6ed8"
      },
      "execution_count": 25,
      "outputs": [
        {
          "output_type": "stream",
          "name": "stdout",
          "text": [
            "전체가수그룹인원합계:  66\n",
            "가수그룹인원평균:  6.6\n"
          ]
        }
      ]
    },
    {
      "cell_type": "code",
      "source": [
        "!pip install xlwt"
      ],
      "metadata": {
        "colab": {
          "base_uri": "https://localhost:8080/"
        },
        "id": "aGfn1UDCmxUR",
        "outputId": "10f886a4-9acb-48cb-cd26-08b86f89b010"
      },
      "execution_count": 21,
      "outputs": [
        {
          "output_type": "stream",
          "name": "stdout",
          "text": [
            "Collecting xlwt\n",
            "  Downloading xlwt-1.3.0-py2.py3-none-any.whl (99 kB)\n",
            "\u001b[2K     \u001b[90m━━━━━━━━━━━━━━━━━━━━━━━━━━━━━━━━━━━━━━━━\u001b[0m \u001b[32m100.0/100.0 kB\u001b[0m \u001b[31m1.0 MB/s\u001b[0m eta \u001b[36m0:00:00\u001b[0m\n",
            "\u001b[?25hInstalling collected packages: xlwt\n",
            "Successfully installed xlwt-1.3.0\n"
          ]
        }
      ]
    },
    {
      "cell_type": "code",
      "source": [
        "import xlwt\n",
        "workbook = xlrd.open_workbook(\"/content/drive/MyDrive/12주차_수업자료/singer.xls\")\n",
        "outWorkbook= xlwt.Workbook()\n",
        "wsheetList= workbook.sheets()\n",
        "for worksheet in wsheetList:\n",
        "    outSheet= outWorkbook.add_sheet(worksheet.name)\n",
        "    for row in range(worksheet.nrows) :\n",
        "        for col in range(worksheet.ncols) :\n",
        "            outSheet.write(row, col, worksheet.cell_value(row, col))\n",
        "outWorkbook.save(\"/content/drive/MyDrive/12주차_수업자료/outSinger1.xls\")\n",
        "print(\"Save. OK~\")\n"
      ],
      "metadata": {
        "colab": {
          "base_uri": "https://localhost:8080/"
        },
        "id": "qkPDj2_XnNZp",
        "outputId": "b3cf8ec7-af7d-4b27-916e-d07ef72ba366"
      },
      "execution_count": 28,
      "outputs": [
        {
          "output_type": "stream",
          "name": "stdout",
          "text": [
            "Save. OK~\n"
          ]
        }
      ]
    },
    {
      "cell_type": "code",
      "source": [
        "workbook = xlrd.open_workbook(\"/content/drive/MyDrive/12주차_수업자료/singer.xls\")\n",
        "outWorkbook= xlwt.Workbook()\n",
        "idx= 4 # 평균키의인덱스\n",
        "wsheetList= workbook.sheets()\n",
        "outSheet= outWorkbook.add_sheet(\"singer\")\n",
        "worksheet = wsheetList[0]\n",
        "for col in range(worksheet.ncols):\n",
        "    outSheet.write(0, col, worksheet.cell_value(0, col))\n",
        "totalRow= 0\n",
        "for worksheet in wsheetList:\n",
        "    for row in range(1, worksheet.nrows) :\n",
        "        height = worksheet.cell_value(row, idx)\n",
        "        if int(height) >= 165 :\n",
        "            totalRow+= 1\n",
        "            for col in range(worksheet.ncols) :\n",
        "                outSheet.write(totalRow, col, worksheet.cell_value(row, col))\n",
        "outWorkbook.save(\"/content/drive/MyDrive/12주차_수업자료/outSinger2.xls\")\n",
        "print(\"Save. OK~\")"
      ],
      "metadata": {
        "colab": {
          "base_uri": "https://localhost:8080/"
        },
        "id": "XlB6pJJbn8Ru",
        "outputId": "3230d034-fc76-4138-c176-847df169f99e"
      },
      "execution_count": 43,
      "outputs": [
        {
          "output_type": "stream",
          "name": "stdout",
          "text": [
            "Save. OK~\n"
          ]
        }
      ]
    },
    {
      "cell_type": "code",
      "source": [
        "import csv\n",
        "workbook = xlrd.open_workbook(\"/content/drive/MyDrive/12주차_수업자료/singer.xls\")\n",
        "wsheetList = workbook.sheets()\n",
        "for worksheet in wsheetList :\n",
        "    with open(\"/content/drive/MyDrive/12주차_수업자료/singer_\" + worksheet.name + \".csv\", \"w\", newline='') as outFp:\n",
        "        csvWriter = csv.writer(outFp)\n",
        "        for row in range(worksheet.nrows) :\n",
        "            row_list = worksheet.row_values(row)\n",
        "            csvWriter.writerow(row_list)\n",
        "print(\"Save. OK~\")\n"
      ],
      "metadata": {
        "colab": {
          "base_uri": "https://localhost:8080/"
        },
        "id": "brQfCtVroXVH",
        "outputId": "b0bab32d-cd88-468a-d5af-06439fc73d2d"
      },
      "execution_count": 44,
      "outputs": [
        {
          "output_type": "stream",
          "name": "stdout",
          "text": [
            "Save. OK~\n"
          ]
        }
      ]
    },
    {
      "cell_type": "code",
      "source": [
        "import os\n",
        "csvFileList= [\"/content/drive/MyDrive/11주차_수업자료/singerA.csv\", \"/content/drive/MyDrive/11주차_수업자료/singerB.csv\"]\n",
        "outWorkbook= xlwt.Workbook()\n",
        "for csvFileName in csvFileList:\n",
        "    rowCount= 0\n",
        "    with open(csvFileName, \"r\", encoding=\"cp949\") as inFp:\n",
        "        csvReader= csv.reader(inFp)\n",
        "        header_list= next(csvReader)\n",
        "        outSheet= outWorkbook.add_sheet(os.path.basename(csvFileName))\n",
        "        for col in range(len(header_list)) :\n",
        "            outSheet.write(rowCount, col, header_list[col])\n",
        "        for row_list in csvReader:\n",
        "            rowCount+= 1\n",
        "        for col in range(len(row_list)):\n",
        "            if row_list[col].isnumeric() :\n",
        "                outSheet.write(rowCount, col, float(row_list[col]))\n",
        "        else :\n",
        "            outSheet.write(rowCount, col, row_list[col])\n",
        "outWorkbook.save('/content/drive/MyDrive/12주차_수업자료/singerCSV.xls')\n",
        "print(\"Save. OK~\")\n"
      ],
      "metadata": {
        "colab": {
          "base_uri": "https://localhost:8080/"
        },
        "id": "dIFYt2VSqtjB",
        "outputId": "9f35ea56-05ad-4707-c414-714aaecb4570"
      },
      "execution_count": 47,
      "outputs": [
        {
          "output_type": "stream",
          "name": "stdout",
          "text": [
            "Save. OK~\n"
          ]
        }
      ]
    },
    {
      "cell_type": "code",
      "source": [
        "!pip install openpyxl"
      ],
      "metadata": {
        "colab": {
          "base_uri": "https://localhost:8080/"
        },
        "id": "sCmQGs_Xrsc0",
        "outputId": "71532601-f114-4f3c-8072-0d0a68dfccc6"
      },
      "execution_count": 48,
      "outputs": [
        {
          "output_type": "stream",
          "name": "stdout",
          "text": [
            "Requirement already satisfied: openpyxl in /usr/local/lib/python3.10/dist-packages (3.1.2)\n",
            "Requirement already satisfied: et-xmlfile in /usr/local/lib/python3.10/dist-packages (from openpyxl) (1.1.0)\n"
          ]
        }
      ]
    },
    {
      "cell_type": "code",
      "source": [
        "import xlrd\n",
        "import csv\n",
        "workbook = xlrd.open_workbook('/content/drive/MyDrive/12주차_수업자료/singer.xls')\n",
        "findColumn= ['이름', '주소', '유튜브조회수']\n",
        "findIndex= []\n",
        "wsheetList= workbook.sheets()\n",
        "worksheet = wsheetList[0]\n",
        "header_list= worksheet.row_values(0)\n",
        "for name in findColumn:\n",
        "    findIndex.append(header_list.index(name))\n",
        "wsheetList= workbook.sheets()\n",
        "with open(\"/content/drive/MyDrive/12주차_수업자료/singer_youtube.csv\", \"w\", newline='') as outFp:\n",
        "    csvWriter= csv.writer(outFp)\n",
        "    csvWriter.writerow(findColumn)\n",
        "    for worksheet in wsheetList :\n",
        "        for row in range(1, worksheet.nrows) :\n",
        "            findList = []\n",
        "            for col in range(worksheet.ncols) :\n",
        "                if col in findIndex :\n",
        "                    findList.append(worksheet.row_values(row)[col])\n",
        "            csvWriter.writerow(findList)\n",
        "print(\"Save. OK~\")\n"
      ],
      "metadata": {
        "colab": {
          "base_uri": "https://localhost:8080/",
          "height": 221
        },
        "id": "Z7PByg-Qr4Er",
        "outputId": "715c5592-c331-4238-d5c1-665ba620c7d0"
      },
      "execution_count": 49,
      "outputs": [
        {
          "output_type": "error",
          "ename": "ValueError",
          "evalue": "'유튜브조회수' is not in list",
          "traceback": [
            "\u001b[0;31m---------------------------------------------------------------------------\u001b[0m",
            "\u001b[0;31mValueError\u001b[0m                                Traceback (most recent call last)",
            "\u001b[0;32m<ipython-input-49-e7a6dc2740dc>\u001b[0m in \u001b[0;36m<cell line: 9>\u001b[0;34m()\u001b[0m\n\u001b[1;32m      8\u001b[0m \u001b[0mheader_list\u001b[0m\u001b[0;34m=\u001b[0m \u001b[0mworksheet\u001b[0m\u001b[0;34m.\u001b[0m\u001b[0mrow_values\u001b[0m\u001b[0;34m(\u001b[0m\u001b[0;36m0\u001b[0m\u001b[0;34m)\u001b[0m\u001b[0;34m\u001b[0m\u001b[0;34m\u001b[0m\u001b[0m\n\u001b[1;32m      9\u001b[0m \u001b[0;32mfor\u001b[0m \u001b[0mname\u001b[0m \u001b[0;32min\u001b[0m \u001b[0mfindColumn\u001b[0m\u001b[0;34m:\u001b[0m\u001b[0;34m\u001b[0m\u001b[0;34m\u001b[0m\u001b[0m\n\u001b[0;32m---> 10\u001b[0;31m     \u001b[0mfindIndex\u001b[0m\u001b[0;34m.\u001b[0m\u001b[0mappend\u001b[0m\u001b[0;34m(\u001b[0m\u001b[0mheader_list\u001b[0m\u001b[0;34m.\u001b[0m\u001b[0mindex\u001b[0m\u001b[0;34m(\u001b[0m\u001b[0mname\u001b[0m\u001b[0;34m)\u001b[0m\u001b[0;34m)\u001b[0m\u001b[0;34m\u001b[0m\u001b[0;34m\u001b[0m\u001b[0m\n\u001b[0m\u001b[1;32m     11\u001b[0m \u001b[0mwsheetList\u001b[0m\u001b[0;34m=\u001b[0m \u001b[0mworkbook\u001b[0m\u001b[0;34m.\u001b[0m\u001b[0msheets\u001b[0m\u001b[0;34m(\u001b[0m\u001b[0;34m)\u001b[0m\u001b[0;34m\u001b[0m\u001b[0;34m\u001b[0m\u001b[0m\n\u001b[1;32m     12\u001b[0m \u001b[0;32mwith\u001b[0m \u001b[0mopen\u001b[0m\u001b[0;34m(\u001b[0m\u001b[0;34m\"/content/drive/MyDrive/12주차_수업자료/singer_youtube.csv\"\u001b[0m\u001b[0;34m,\u001b[0m \u001b[0;34m\"w\"\u001b[0m\u001b[0;34m,\u001b[0m \u001b[0mnewline\u001b[0m\u001b[0;34m=\u001b[0m\u001b[0;34m''\u001b[0m\u001b[0;34m)\u001b[0m \u001b[0;32mas\u001b[0m \u001b[0moutFp\u001b[0m\u001b[0;34m:\u001b[0m\u001b[0;34m\u001b[0m\u001b[0;34m\u001b[0m\u001b[0m\n",
            "\u001b[0;31mValueError\u001b[0m: '유튜브조회수' is not in list"
          ]
        }
      ]
    }
  ]
}