{
  "nbformat": 4,
  "nbformat_minor": 0,
  "metadata": {
    "colab": {
      "provenance": [],
      "authorship_tag": "ABX9TyPag1IAVh1eKPCSXwa9HHqk",
      "include_colab_link": true
    },
    "kernelspec": {
      "name": "python3",
      "display_name": "Python 3"
    },
    "language_info": {
      "name": "python"
    }
  },
  "cells": [
    {
      "cell_type": "markdown",
      "metadata": {
        "id": "view-in-github",
        "colab_type": "text"
      },
      "source": [
        "<a href=\"https://colab.research.google.com/github/jsjj10002/Python_Basic/blob/main/ch3_3example.ipynb\" target=\"_parent\"><img src=\"https://colab.research.google.com/assets/colab-badge.svg\" alt=\"Open In Colab\"/></a>"
      ]
    },
    {
      "cell_type": "markdown",
      "source": [
        "### for-range() 횟수 반복"
      ],
      "metadata": {
        "id": "2yG-S5ZeSmdW"
      }
    },
    {
      "cell_type": "code",
      "source": [
        "for i in range(0, 11):\n",
        "    print(i)"
      ],
      "metadata": {
        "colab": {
          "base_uri": "https://localhost:8080/"
        },
        "id": "0mT3JrF5SvYu",
        "outputId": "043433c6-0cc0-4f34-deab-aa8da963db5f"
      },
      "execution_count": null,
      "outputs": [
        {
          "output_type": "stream",
          "name": "stdout",
          "text": [
            "0\n",
            "1\n",
            "2\n",
            "3\n",
            "4\n",
            "5\n",
            "6\n",
            "7\n",
            "8\n",
            "9\n",
            "10\n"
          ]
        }
      ]
    },
    {
      "cell_type": "code",
      "execution_count": null,
      "metadata": {
        "colab": {
          "base_uri": "https://localhost:8080/"
        },
        "id": "lnyqFHSGOszx",
        "outputId": "c8ac7093-8344-4f22-9e8c-c11d84e7529c"
      },
      "outputs": [
        {
          "output_type": "stream",
          "name": "stdout",
          "text": [
            "5\n",
            "6\n",
            "7\n",
            "8\n",
            "9\n",
            "10\n",
            "11\n",
            "12\n",
            "13\n",
            "14\n",
            "15\n"
          ]
        }
      ],
      "source": [
        "for i in range(5,16):\n",
        "    print(i)"
      ]
    },
    {
      "cell_type": "code",
      "source": [
        "for i in range(2,22,2):\n",
        "    print(i)"
      ],
      "metadata": {
        "colab": {
          "base_uri": "https://localhost:8080/"
        },
        "id": "I08GptGKTAem",
        "outputId": "4941f364-3742-4d90-f44f-be4df5a160cf"
      },
      "execution_count": null,
      "outputs": [
        {
          "output_type": "stream",
          "name": "stdout",
          "text": [
            "2\n",
            "4\n",
            "6\n",
            "8\n",
            "10\n",
            "12\n",
            "14\n",
            "16\n",
            "18\n",
            "20\n"
          ]
        }
      ]
    },
    {
      "cell_type": "code",
      "source": [
        "for i in range(-100,101,4):\n",
        "    if i != 0:\n",
        "        print(i)"
      ],
      "metadata": {
        "colab": {
          "base_uri": "https://localhost:8080/"
        },
        "id": "wbQn8UBgTIql",
        "outputId": "cc68e7b7-ae80-4e41-b1c8-ca9903cc8f92"
      },
      "execution_count": null,
      "outputs": [
        {
          "output_type": "stream",
          "name": "stdout",
          "text": [
            "-100\n",
            "-96\n",
            "-92\n",
            "-88\n",
            "-84\n",
            "-80\n",
            "-76\n",
            "-72\n",
            "-68\n",
            "-64\n",
            "-60\n",
            "-56\n",
            "-52\n",
            "-48\n",
            "-44\n",
            "-40\n",
            "-36\n",
            "-32\n",
            "-28\n",
            "-24\n",
            "-20\n",
            "-16\n",
            "-12\n",
            "-8\n",
            "-4\n",
            "4\n",
            "8\n",
            "12\n",
            "16\n",
            "20\n",
            "24\n",
            "28\n",
            "32\n",
            "36\n",
            "40\n",
            "44\n",
            "48\n",
            "52\n",
            "56\n",
            "60\n",
            "64\n",
            "68\n",
            "72\n",
            "76\n",
            "80\n",
            "84\n",
            "88\n",
            "92\n",
            "96\n",
            "100\n"
          ]
        }
      ]
    },
    {
      "cell_type": "code",
      "source": [
        "a=[i for i in range(0,11)]\n",
        "print(a)"
      ],
      "metadata": {
        "colab": {
          "base_uri": "https://localhost:8080/"
        },
        "id": "QLjH4U5RTgIO",
        "outputId": "0ac1eb54-af46-4b23-bfab-919c02f9346f"
      },
      "execution_count": null,
      "outputs": [
        {
          "output_type": "stream",
          "name": "stdout",
          "text": [
            "[0, 1, 2, 3, 4, 5, 6, 7, 8, 9, 10]\n"
          ]
        }
      ]
    },
    {
      "cell_type": "code",
      "source": [
        "for i in range(0,21,1):\n",
        "    print(\"aa\")"
      ],
      "metadata": {
        "colab": {
          "base_uri": "https://localhost:8080/"
        },
        "id": "IkZuqq2HT_5V",
        "outputId": "1cca7081-c07a-4d2e-f9f3-10d65af0ae69"
      },
      "execution_count": null,
      "outputs": [
        {
          "output_type": "stream",
          "name": "stdout",
          "text": [
            "aa\n",
            "aa\n",
            "aa\n",
            "aa\n",
            "aa\n",
            "aa\n",
            "aa\n",
            "aa\n",
            "aa\n",
            "aa\n",
            "aa\n",
            "aa\n",
            "aa\n",
            "aa\n",
            "aa\n",
            "aa\n",
            "aa\n",
            "aa\n",
            "aa\n",
            "aa\n",
            "aa\n"
          ]
        }
      ]
    },
    {
      "cell_type": "code",
      "source": [
        "for i in range( 0,3,1):\n",
        "    print(\"%d\"%i,end=\" \")"
      ],
      "metadata": {
        "colab": {
          "base_uri": "https://localhost:8080/"
        },
        "id": "RPT8XLFVUZPd",
        "outputId": "a5f35ba9-5287-4f12-eea8-b6c31462ad07"
      },
      "execution_count": null,
      "outputs": [
        {
          "output_type": "stream",
          "name": "stdout",
          "text": [
            "0 1 2 "
          ]
        }
      ]
    },
    {
      "cell_type": "code",
      "source": [
        "hap=0\n",
        "for i in range(11):\n",
        "    hap+=i\n",
        "print(hap)"
      ],
      "metadata": {
        "colab": {
          "base_uri": "https://localhost:8080/"
        },
        "id": "ydu19ZxVV0kV",
        "outputId": "16ae34e4-e719-4e45-9b7a-c748aec29732"
      },
      "execution_count": null,
      "outputs": [
        {
          "output_type": "stream",
          "name": "stdout",
          "text": [
            "55\n"
          ]
        }
      ]
    },
    {
      "cell_type": "code",
      "source": [
        "sum=0\n",
        "for i in range(501,1000,2):\n",
        "    sum+=i\n",
        "print(sum)"
      ],
      "metadata": {
        "colab": {
          "base_uri": "https://localhost:8080/"
        },
        "id": "VA_2kPjKXjXj",
        "outputId": "7afd18bc-e04a-434c-f226-19d7f37aff41"
      },
      "execution_count": null,
      "outputs": [
        {
          "output_type": "stream",
          "name": "stdout",
          "text": [
            "187500\n"
          ]
        }
      ]
    },
    {
      "cell_type": "code",
      "source": [
        "sum=0\n",
        "for i in range(500,1001,2):\n",
        "    sum+=i\n",
        "print(sum)"
      ],
      "metadata": {
        "colab": {
          "base_uri": "https://localhost:8080/"
        },
        "id": "Vte6d7bgX1RD",
        "outputId": "85021731-5de7-41fb-e354-062b12759933"
      },
      "execution_count": null,
      "outputs": [
        {
          "output_type": "stream",
          "name": "stdout",
          "text": [
            "188250\n"
          ]
        }
      ]
    },
    {
      "cell_type": "code",
      "source": [
        "for i in range(2,10):\n",
        "    print(\"%d 단 ******\"%i)\n",
        "    for k in range(1,10):\n",
        "        print(\"%d X %d = %d\"%(i,k,i*k))\n"
      ],
      "metadata": {
        "colab": {
          "base_uri": "https://localhost:8080/"
        },
        "id": "rt2bceSQeX6o",
        "outputId": "dcec72e3-6fcb-4f52-863d-007c2ff8300c"
      },
      "execution_count": null,
      "outputs": [
        {
          "output_type": "stream",
          "name": "stdout",
          "text": [
            "2 단 ******\n",
            "2 X 1 = 2\n",
            "2 X 2 = 4\n",
            "2 X 3 = 6\n",
            "2 X 4 = 8\n",
            "2 X 5 = 10\n",
            "2 X 6 = 12\n",
            "2 X 7 = 14\n",
            "2 X 8 = 16\n",
            "2 X 9 = 18\n",
            "3 단 ******\n",
            "3 X 1 = 3\n",
            "3 X 2 = 6\n",
            "3 X 3 = 9\n",
            "3 X 4 = 12\n",
            "3 X 5 = 15\n",
            "3 X 6 = 18\n",
            "3 X 7 = 21\n",
            "3 X 8 = 24\n",
            "3 X 9 = 27\n",
            "4 단 ******\n",
            "4 X 1 = 4\n",
            "4 X 2 = 8\n",
            "4 X 3 = 12\n",
            "4 X 4 = 16\n",
            "4 X 5 = 20\n",
            "4 X 6 = 24\n",
            "4 X 7 = 28\n",
            "4 X 8 = 32\n",
            "4 X 9 = 36\n",
            "5 단 ******\n",
            "5 X 1 = 5\n",
            "5 X 2 = 10\n",
            "5 X 3 = 15\n",
            "5 X 4 = 20\n",
            "5 X 5 = 25\n",
            "5 X 6 = 30\n",
            "5 X 7 = 35\n",
            "5 X 8 = 40\n",
            "5 X 9 = 45\n",
            "6 단 ******\n",
            "6 X 1 = 6\n",
            "6 X 2 = 12\n",
            "6 X 3 = 18\n",
            "6 X 4 = 24\n",
            "6 X 5 = 30\n",
            "6 X 6 = 36\n",
            "6 X 7 = 42\n",
            "6 X 8 = 48\n",
            "6 X 9 = 54\n",
            "7 단 ******\n",
            "7 X 1 = 7\n",
            "7 X 2 = 14\n",
            "7 X 3 = 21\n",
            "7 X 4 = 28\n",
            "7 X 5 = 35\n",
            "7 X 6 = 42\n",
            "7 X 7 = 49\n",
            "7 X 8 = 56\n",
            "7 X 9 = 63\n",
            "8 단 ******\n",
            "8 X 1 = 8\n",
            "8 X 2 = 16\n",
            "8 X 3 = 24\n",
            "8 X 4 = 32\n",
            "8 X 5 = 40\n",
            "8 X 6 = 48\n",
            "8 X 7 = 56\n",
            "8 X 8 = 64\n",
            "8 X 9 = 72\n",
            "9 단 ******\n",
            "9 X 1 = 9\n",
            "9 X 2 = 18\n",
            "9 X 3 = 27\n",
            "9 X 4 = 36\n",
            "9 X 5 = 45\n",
            "9 X 6 = 54\n",
            "9 X 7 = 63\n",
            "9 X 8 = 72\n",
            "9 X 9 = 81\n"
          ]
        }
      ]
    },
    {
      "cell_type": "code",
      "source": [
        "for i in range(2,10):\n",
        "    print(\"%d단: \"%i, end=\"\")\n",
        "    for k in range(1,10):\n",
        "        print(\"%d \"%(i*k),end=\"\")\n",
        "    print(\"\")\n"
      ],
      "metadata": {
        "colab": {
          "base_uri": "https://localhost:8080/"
        },
        "id": "9YCjLRPifI5T",
        "outputId": "8c60b6f2-2b32-4fe8-aa2f-150546f77005"
      },
      "execution_count": null,
      "outputs": [
        {
          "output_type": "stream",
          "name": "stdout",
          "text": [
            "2단: 2 4 6 8 10 12 14 16 18 \n",
            "3단: 3 6 9 12 15 18 21 24 27 \n",
            "4단: 4 8 12 16 20 24 28 32 36 \n",
            "5단: 5 10 15 20 25 30 35 40 45 \n",
            "6단: 6 12 18 24 30 36 42 48 54 \n",
            "7단: 7 14 21 28 35 42 49 56 63 \n",
            "8단: 8 16 24 32 40 48 56 64 72 \n",
            "9단: 9 18 27 36 45 54 63 72 81 \n"
          ]
        }
      ]
    },
    {
      "cell_type": "code",
      "source": [
        "num=0\n",
        "while num!=1:\n",
        "    num = int(input(\"(종료 '1')몇 단 출력?: \"))\n",
        "    i =1\n",
        "    while i<10:\n",
        "        print(num, \"X\", i,\"=\",num*i)\n",
        "        i+=1"
      ],
      "metadata": {
        "colab": {
          "base_uri": "https://localhost:8080/"
        },
        "id": "g0Tv0wAGg_Ww",
        "outputId": "2d5d832e-5e39-4d42-d729-98fd59a4bd24"
      },
      "execution_count": null,
      "outputs": [
        {
          "output_type": "stream",
          "name": "stdout",
          "text": [
            "(종료 '1')몇 단 출력?: 4\n",
            "4 X 1 = 4\n",
            "4 X 2 = 8\n",
            "4 X 3 = 12\n",
            "4 X 4 = 16\n",
            "4 X 5 = 20\n",
            "4 X 6 = 24\n",
            "4 X 7 = 28\n",
            "4 X 8 = 32\n",
            "4 X 9 = 36\n",
            "(종료 '1')몇 단 출력?: 5\n",
            "5 X 1 = 5\n",
            "5 X 2 = 10\n",
            "5 X 3 = 15\n",
            "5 X 4 = 20\n",
            "5 X 5 = 25\n",
            "5 X 6 = 30\n",
            "5 X 7 = 35\n",
            "5 X 8 = 40\n",
            "5 X 9 = 45\n",
            "(종료 '1')몇 단 출력?: 1\n",
            "1 X 1 = 1\n",
            "1 X 2 = 2\n",
            "1 X 3 = 3\n",
            "1 X 4 = 4\n",
            "1 X 5 = 5\n",
            "1 X 6 = 6\n",
            "1 X 7 = 7\n",
            "1 X 8 = 8\n",
            "1 X 9 = 9\n"
          ]
        }
      ]
    },
    {
      "cell_type": "code",
      "source": [
        "import random\n",
        "answer = random.randint(1,100)\n",
        "num = 0\n",
        "while num != answer:\n",
        "    num = int(input(\"예상 숫자 입력: \"))\n",
        "    if num > answer:\n",
        "        print(\"Down\")\n",
        "    elif num <answer:\n",
        "        print(\"Up\")\n",
        "    else:\n",
        "        print(\"정답\")"
      ],
      "metadata": {
        "colab": {
          "base_uri": "https://localhost:8080/"
        },
        "id": "hZ4r4E3hmYb7",
        "outputId": "9c930430-61f9-44a7-ea31-a135b1837a2b"
      },
      "execution_count": null,
      "outputs": [
        {
          "output_type": "stream",
          "name": "stdout",
          "text": [
            "예상 숫자 입력: 50\n",
            "Down\n",
            "예상 숫자 입력: 25\n",
            "Down\n",
            "예상 숫자 입력: 13\n",
            "Down\n",
            "예상 숫자 입력: 6\n",
            "정답\n"
          ]
        }
      ]
    },
    {
      "cell_type": "code",
      "source": [
        "for i in range(1,100):\n",
        "    print(\"for문을 %d 번 반복\" %i)\n",
        "    break"
      ],
      "metadata": {
        "colab": {
          "base_uri": "https://localhost:8080/"
        },
        "id": "FLAAZSFbovLQ",
        "outputId": "d4f81b16-f907-4b92-d83e-28918d936067"
      },
      "execution_count": null,
      "outputs": [
        {
          "output_type": "stream",
          "name": "stdout",
          "text": [
            "for문을 1 번 반복\n"
          ]
        }
      ]
    },
    {
      "cell_type": "code",
      "source": [
        "sum = 0\n",
        "while True:\n",
        "    a = int(input(\"더할 수를 입력하시오: \"))\n",
        "    if a == 0:\n",
        "        break\n",
        "    sum += a\n",
        "print(sum)"
      ],
      "metadata": {
        "colab": {
          "base_uri": "https://localhost:8080/"
        },
        "id": "ks_SbXB-pwfw",
        "outputId": "bbca87db-be4c-45f8-f4b4-f946dd300177"
      },
      "execution_count": null,
      "outputs": [
        {
          "output_type": "stream",
          "name": "stdout",
          "text": [
            "더할 수를 입력하시오: 2\n",
            "더할 수를 입력하시오: 3\n",
            "더할 수를 입력하시오: 4\n",
            "더할 수를 입력하시오: 0\n",
            "9\n"
          ]
        }
      ]
    },
    {
      "cell_type": "code",
      "source": [
        "sum = 0\n",
        "for i in range(1,101):\n",
        "    if i%3==0:\n",
        "        continue\n",
        "    sum+=i\n",
        "print(sum)"
      ],
      "metadata": {
        "colab": {
          "base_uri": "https://localhost:8080/"
        },
        "id": "qo4zFtnkLPE0",
        "outputId": "79986d9e-66ed-4f48-ea5c-098b90b0d8c1"
      },
      "execution_count": null,
      "outputs": [
        {
          "output_type": "stream",
          "name": "stdout",
          "text": [
            "3367\n"
          ]
        }
      ]
    },
    {
      "cell_type": "code",
      "source": [
        "sum = 0\n",
        "for i in range(1,101):\n",
        "    if i%2==0:\n",
        "        continue\n",
        "    sum+=i\n",
        "print(sum)"
      ],
      "metadata": {
        "colab": {
          "base_uri": "https://localhost:8080/"
        },
        "id": "pW4xWGLSNM-X",
        "outputId": "38d47769-f953-4176-cf6f-242c2cae00c4"
      },
      "execution_count": null,
      "outputs": [
        {
          "output_type": "stream",
          "name": "stdout",
          "text": [
            "2500\n"
          ]
        }
      ]
    },
    {
      "cell_type": "code",
      "source": [
        "sum = 0\n",
        "for i in range(1,101):\n",
        "    if i%3==0:\n",
        "        break\n",
        "    sum+=i\n",
        "print(sum)"
      ],
      "metadata": {
        "colab": {
          "base_uri": "https://localhost:8080/"
        },
        "id": "jPj48kZUOz5l",
        "outputId": "0b6f743f-110e-4c40-d612-456258d24526"
      },
      "execution_count": null,
      "outputs": [
        {
          "output_type": "stream",
          "name": "stdout",
          "text": [
            "3\n"
          ]
        }
      ]
    },
    {
      "cell_type": "code",
      "source": [
        "num=0\n",
        "while True:\n",
        "    num = int(input(\"(종료 '1')몇 단 출력?: \"))\n",
        "    if num == 1:\n",
        "        print(\"종료\")\n",
        "        break\n",
        "    i =1\n",
        "    while i<10:\n",
        "        print(num, \"X\", i,\"=\",num*i)\n",
        "        i+=1"
      ],
      "metadata": {
        "colab": {
          "base_uri": "https://localhost:8080/"
        },
        "id": "UvcfG7auPMPL",
        "outputId": "143a8378-d587-43c6-9c8f-f76770bdb634"
      },
      "execution_count": null,
      "outputs": [
        {
          "output_type": "stream",
          "name": "stdout",
          "text": [
            "(종료 '1')몇 단 출력?: 2\n",
            "2 X 1 = 2\n",
            "2 X 2 = 4\n",
            "2 X 3 = 6\n",
            "2 X 4 = 8\n",
            "2 X 5 = 10\n",
            "2 X 6 = 12\n",
            "2 X 7 = 14\n",
            "2 X 8 = 16\n",
            "2 X 9 = 18\n",
            "(종료 '1')몇 단 출력?: 3\n",
            "3 X 1 = 3\n",
            "3 X 2 = 6\n",
            "3 X 3 = 9\n",
            "3 X 4 = 12\n",
            "3 X 5 = 15\n",
            "3 X 6 = 18\n",
            "3 X 7 = 21\n",
            "3 X 8 = 24\n",
            "3 X 9 = 27\n",
            "(종료 '1')몇 단 출력?: 1\n",
            "종료\n"
          ]
        }
      ]
    },
    {
      "cell_type": "code",
      "source": [
        "#연습문제 20\n",
        "sum = 0\n",
        "for i in range(3333,10000):\n",
        "    if i%1234==0:\n",
        "        continue\n",
        "    sum+=i\n",
        "    if sum >100000:\n",
        "        break\n",
        "sum-=i\n",
        "print(sum)"
      ],
      "metadata": {
        "colab": {
          "base_uri": "https://localhost:8080/"
        },
        "id": "69JLNe6BTViy",
        "outputId": "7b58f629-f769-464d-a750-f425ef4e50ed"
      },
      "execution_count": null,
      "outputs": [
        {
          "output_type": "stream",
          "name": "stdout",
          "text": [
            "97063\n"
          ]
        }
      ]
    },
    {
      "cell_type": "code",
      "source": [
        "grade = int(input(\"input grade: \"))\n",
        "if grade >=4.0:\n",
        "    print(\"해외연수기회부여\")\n",
        "else:\n",
        "    print(\"끝\")"
      ],
      "metadata": {
        "colab": {
          "base_uri": "https://localhost:8080/"
        },
        "id": "d3EDu8VuWKFq",
        "outputId": "1b410c6d-0f35-4c62-8ee0-7864e9306a28"
      },
      "execution_count": null,
      "outputs": [
        {
          "output_type": "stream",
          "name": "stdout",
          "text": [
            "input grade: 4\n",
            "해외연수기회부여\n"
          ]
        }
      ]
    },
    {
      "cell_type": "code",
      "source": [
        "age = int(input(\"input age\"))\n",
        "if age >=65:\n",
        "    print(\"경로우대입니다\\n승차권무료발급대상\")\n",
        "\n",
        "print(\"이용해주셔서 감사합니다.\")"
      ],
      "metadata": {
        "colab": {
          "base_uri": "https://localhost:8080/"
        },
        "id": "QO0j7WDrXuyj",
        "outputId": "f13b98cc-b9b2-413c-c21f-ab50dcf8efac"
      },
      "execution_count": null,
      "outputs": [
        {
          "output_type": "stream",
          "name": "stdout",
          "text": [
            "input age24\n",
            "이용해주셔서 감사합니다.\n"
          ]
        }
      ]
    },
    {
      "cell_type": "code",
      "source": [
        "name = input(\"input name: \")\n",
        "score = float(input(\"input score: \"))\n",
        "if score >=60:\n",
        "    print(\"%s: 합격\\n점수: %.2f\" %(name, score))\n",
        "else:\n",
        "    print(\"%s: 불합격\\n점수: %.2f\" %(name, score))"
      ],
      "metadata": {
        "colab": {
          "base_uri": "https://localhost:8080/"
        },
        "id": "f3XqvjrjYouZ",
        "outputId": "3fc3880e-c171-474e-d085-118b183c3001"
      },
      "execution_count": null,
      "outputs": [
        {
          "output_type": "stream",
          "name": "stdout",
          "text": [
            "input name: js\n",
            "input score: 68\n",
            "js: 합격\n",
            "점수: 68.00\n"
          ]
        }
      ]
    },
    {
      "cell_type": "code",
      "source": [
        "age = int(input(\"input age\"))\n",
        "if age >=65:\n",
        "    print(\"경로우대입니다\\n승차권무료발급대상\")\n",
        "else:\n",
        "    print(\"일반 승차권 발급 가능\")\n",
        "\n",
        "print(\"이용해주셔서 감사합니다.\")"
      ],
      "metadata": {
        "id": "WKxdAF-VaLb6",
        "outputId": "87b3ed15-c44c-4a34-86d3-8a00194d5f02",
        "colab": {
          "base_uri": "https://localhost:8080/"
        }
      },
      "execution_count": null,
      "outputs": [
        {
          "output_type": "stream",
          "name": "stdout",
          "text": [
            "input age55\n",
            "일반 승차권 발급 가능\n",
            "이용해주셔서 감사합니다.\n"
          ]
        }
      ]
    },
    {
      "cell_type": "code",
      "source": [
        "tmp = 0\n",
        "num1 = int(input(\"num1: \"))\n",
        "num2 = int(input(\"num2: \"))\n",
        "if num1<num2:\n",
        "    tmp = num2\n",
        "    num2 = num1\n",
        "    num1 = tmp\n",
        "print(\"첫번째: %d\\n두번째: %d\"%(num1, num2))"
      ],
      "metadata": {
        "id": "kWmFhauyaY7y",
        "outputId": "7464b717-43ed-4eca-9e84-552f399ce20f",
        "colab": {
          "base_uri": "https://localhost:8080/"
        }
      },
      "execution_count": null,
      "outputs": [
        {
          "output_type": "stream",
          "name": "stdout",
          "text": [
            "num1: 2\n",
            "num2: 80\n",
            "첫번째: 80\n",
            "두번째: 2\n"
          ]
        }
      ]
    },
    {
      "cell_type": "code",
      "source": [
        "#세 개의 양의 정수를 받아 가장 큰 수를 작성\n",
        "max=0\n",
        "num1=int(input(\"fir: \"))\n",
        "num2=int(input(\"sec: \"))\n",
        "num3=int(input(\"thi: \"))\n",
        "if (num1 >= num2 and num2 > num3) or (num1 >= num3 and num3 > num2):\n",
        "    max=num1\n",
        "elif (num2>=num1 and num1 >num3) or (num2 >= num3 and num3 > num1):\n",
        "    max = num2\n",
        "else:\n",
        "    max=num3\n",
        "print(max)"
      ],
      "metadata": {
        "id": "GAD1Z7K_gauC",
        "outputId": "3333f084-ba16-4b50-b675-6e515a500251",
        "colab": {
          "base_uri": "https://localhost:8080/"
        }
      },
      "execution_count": 11,
      "outputs": [
        {
          "output_type": "stream",
          "name": "stdout",
          "text": [
            "fir: 80\n",
            "sec: 90\n",
            "thi: 90\n",
            "90\n"
          ]
        }
      ]
    },
    {
      "cell_type": "code",
      "source": [
        "#세 개의 양의 정수를 받아 가장 작은 수를 작성\n",
        "min=0\n",
        "num1=int(input(\"fir: \"))\n",
        "num2=int(input(\"sec: \"))\n",
        "num3=int(input(\"thi: \"))\n",
        "if (num1 <= num2 and num2 < num3) or (num1 <=num3 and num3 < num2):\n",
        "    min=num1\n",
        "elif (num2<=num1 and num1 <num3) or (num2 <= num3 and num3 < num1):\n",
        "    min = num2\n",
        "else:\n",
        "    min=num3\n",
        "print(min)"
      ],
      "metadata": {
        "id": "CUMxSVxBiVyR",
        "outputId": "0e6d318f-db94-4620-da4c-f5a1346405e3",
        "colab": {
          "base_uri": "https://localhost:8080/"
        }
      },
      "execution_count": 12,
      "outputs": [
        {
          "output_type": "stream",
          "name": "stdout",
          "text": [
            "fir: 1\n",
            "sec: 8\n",
            "thi: 9\n",
            "1\n"
          ]
        }
      ]
    },
    {
      "cell_type": "code",
      "source": [
        "num=1\n",
        "sum=0\n",
        "while True:\n",
        "    sum+=num\n",
        "    num+=1\n",
        "    if num >100:\n",
        "        break\n",
        "print(sum)"
      ],
      "metadata": {
        "id": "CcXAh43Vd5F5",
        "outputId": "6702b7b7-108f-441d-94af-fac4503523a8",
        "colab": {
          "base_uri": "https://localhost:8080/"
        }
      },
      "execution_count": 2,
      "outputs": [
        {
          "output_type": "stream",
          "name": "stdout",
          "text": [
            "5050\n"
          ]
        }
      ]
    },
    {
      "cell_type": "code",
      "source": [
        "sum=0\n",
        "for i in range(101):\n",
        "    sum+=i\n",
        "print(sum)"
      ],
      "metadata": {
        "id": "ZFTxWj9jkCmp",
        "outputId": "16503a7c-0705-4008-b77a-597d0e45f656",
        "colab": {
          "base_uri": "https://localhost:8080/"
        }
      },
      "execution_count": 13,
      "outputs": [
        {
          "output_type": "stream",
          "name": "stdout",
          "text": [
            "5050\n"
          ]
        }
      ]
    },
    {
      "cell_type": "code",
      "source": [
        "for i in range(10):\n",
        "    print(\"*\"*10)"
      ],
      "metadata": {
        "id": "4vu-lJ2mgErZ",
        "outputId": "56c6f394-cf87-4a59-d36b-c88f98db8a92",
        "colab": {
          "base_uri": "https://localhost:8080/"
        }
      },
      "execution_count": 3,
      "outputs": [
        {
          "output_type": "stream",
          "name": "stdout",
          "text": [
            "**********\n",
            "**********\n",
            "**********\n",
            "**********\n",
            "**********\n",
            "**********\n",
            "**********\n",
            "**********\n",
            "**********\n",
            "**********\n"
          ]
        }
      ]
    },
    {
      "cell_type": "code",
      "source": [
        "count=1\n",
        "sum = 0\n",
        "mean = 0\n",
        "while count<=5:\n",
        "    count+=1\n",
        "    score = int(input(\"score: \"))\n",
        "    sum +=score\n",
        "\n",
        "mean = sum/count\n",
        "print(\"총점%d\\n평균%.2f\"%(sum,mean))\n"
      ],
      "metadata": {
        "id": "H7Kk7blGkAlq",
        "outputId": "d4afa60a-6c03-4785-c7a4-5b0c19251040",
        "colab": {
          "base_uri": "https://localhost:8080/"
        }
      },
      "execution_count": 20,
      "outputs": [
        {
          "output_type": "stream",
          "name": "stdout",
          "text": [
            "score: 98\n",
            "score: 71\n",
            "score: 72\n",
            "score: 80\n",
            "score: 601\n",
            "총점922\n",
            "평균153.67\n"
          ]
        }
      ]
    },
    {
      "cell_type": "code",
      "source": [
        "for i in range(10):\n",
        "    print(\"*\"*20)"
      ],
      "metadata": {
        "id": "Cb5kzgwbrA5Z",
        "outputId": "a103b62a-044f-4053-df8d-b0c4457287e1",
        "colab": {
          "base_uri": "https://localhost:8080/"
        }
      },
      "execution_count": 22,
      "outputs": [
        {
          "output_type": "stream",
          "name": "stdout",
          "text": [
            "********************\n",
            "********************\n",
            "********************\n",
            "********************\n",
            "********************\n",
            "********************\n",
            "********************\n",
            "********************\n",
            "********************\n",
            "********************\n"
          ]
        }
      ]
    },
    {
      "cell_type": "code",
      "source": [
        "sum =0\n",
        "count=0\n",
        "for i in range(10):\n",
        "    num=int(input())\n",
        "    if  num >0:\n",
        "        sum+=num\n",
        "        count +=1\n",
        "print(sum/count, count)\n"
      ],
      "metadata": {
        "id": "iCBKTYa1reoZ",
        "outputId": "228d30b0-e04a-4d65-bf33-8f16d30c026c",
        "colab": {
          "base_uri": "https://localhost:8080/"
        }
      },
      "execution_count": 24,
      "outputs": [
        {
          "output_type": "stream",
          "name": "stdout",
          "text": [
            "7\n",
            "8\n",
            "4\n",
            "6\n",
            "80\n",
            "88\n",
            "789\n",
            "55\n",
            "3\n",
            "-30\n",
            "115.55555555555556 9\n"
          ]
        }
      ]
    }
  ]
}