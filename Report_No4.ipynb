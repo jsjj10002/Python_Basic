{
  "nbformat": 4,
  "nbformat_minor": 0,
  "metadata": {
    "colab": {
      "provenance": [],
      "authorship_tag": "ABX9TyNCbZEwXQABSqQZu+HbqCWP",
      "include_colab_link": true
    },
    "kernelspec": {
      "name": "python3",
      "display_name": "Python 3"
    },
    "language_info": {
      "name": "python"
    }
  },
  "cells": [
    {
      "cell_type": "markdown",
      "metadata": {
        "id": "view-in-github",
        "colab_type": "text"
      },
      "source": [
        "<a href=\"https://colab.research.google.com/github/jsjj10002/Python_Basic/blob/main/Report_No4.ipynb\" target=\"_parent\"><img src=\"https://colab.research.google.com/assets/colab-badge.svg\" alt=\"Open In Colab\"/></a>"
      ]
    },
    {
      "cell_type": "markdown",
      "source": [
        "### code06-03"
      ],
      "metadata": {
        "id": "4Vysd534nk4Y"
      }
    },
    {
      "cell_type": "code",
      "execution_count": null,
      "metadata": {
        "id": "tFMH5Nq5nda4"
      },
      "outputs": [],
      "source": [
        "def printList(pList):\n",
        "    # 전달된 리스트 pList의 각 요소에 대해 반복\n",
        "    for data in pList:\n",
        "        # 각 요소를 10자 너비의 필드에 좌측 정렬하여 출력\n",
        "        # 요소 사이에 탭 문자를 구분자로 사용\n",
        "        print(\"%-10s\" % data, end='\\t')\n",
        "    # 한 줄 출력 완료 후 줄 바꿈\n",
        "    print()\n",
        "# 파일을 읽기 모드로 열기 (인코딩은 CP949)\n",
        "with open(\"/content/drive/MyDrive/11주차_수업자료/singer1.csv\", \"r\", encoding=\"CP949\") as inFp:\n",
        "    # 파일의 첫 줄(헤더)을 읽음\n",
        "    header = inFp.readline()\n",
        "    # 헤더의 양쪽 공백 제거\n",
        "    header = header.strip()\n",
        "    # 헤더를 쉼표(,)를 기준으로 나눠 리스트로 변환\n",
        "    header_list = header.split(',')\n",
        "    # 헤더 리스트를 출력\n",
        "    printList(header_list)\n",
        "    # 파일의 각 줄에 대해 반복\n",
        "    for inStr in inFp:\n",
        "        # 줄의 양쪽 공백 제거\n",
        "        inStr = inStr.strip()\n",
        "        # 줄을 쉼표(,)를 기준으로 나눠 리스트로 변환\n",
        "        row_list = inStr.split(',')\n",
        "        # 행 리스트를 출력\n",
        "        printList(row_list)"
      ]
    },
    {
      "cell_type": "markdown",
      "source": [
        "이 코드는 CSV 파일을 읽어 헤더와 각 행을 출력한다. printList 함수는 리스트의 요소들을 일정한 형식으로 출력한다. 파일을 읽는 과정에서는 첫 번째 줄을 헤더로 처리하고, 이후 각 줄을 읽어와서 리스트로 변환한 후 출력한다."
      ],
      "metadata": {
        "id": "CEgOWd3foEdF"
      }
    },
    {
      "cell_type": "markdown",
      "source": [
        "### code06-04"
      ],
      "metadata": {
        "id": "WIDvYYB8omBP"
      }
    },
    {
      "cell_type": "code",
      "source": [
        "# CSV 파일을 읽기 모드로 열기 (인코딩은 CP949)\n",
        "with open(\"/content/drive/MyDrive/11주차_수업자료/singer1.csv\", \"r\", encoding=\"CP949\") as inFp:\n",
        "    # 새로운 CSV 파일을 쓰기 모드로 열기 (인코딩은 CP949)\n",
        "    with open(\"/content/drive/MyDrive/11주차_수업자료/new_singer1.csv\", \"w\", encoding=\"CP949\") as outFp:\n",
        "        # 첫 번째 줄(헤더)을 읽음\n",
        "        header = inFp.readline()\n",
        "        # 헤더의 양쪽 공백 제거\n",
        "        header = header.strip()\n",
        "        # 헤더를 쉼표(,)를 기준으로 나눠 리스트로 변환\n",
        "        header_list = header.split(',')\n",
        "        # 헤더 리스트를 다시 쉼표(,)로 연결하여 문자열로 변환\n",
        "        header_str = ','.join(map(str, header_list))\n",
        "        # 새로운 파일에 헤더 문자열을 쓰고 줄 바꿈\n",
        "        outFp.write(header_str + '\\n')\n",
        "        # 파일의 각 줄에 대해 반복\n",
        "        for inStr in inFp:\n",
        "            # 줄의 양쪽 공백 제거\n",
        "            inStr = inStr.strip()\n",
        "            # 줄을 쉼표(,)를 기준으로 나눠 리스트로 변환\n",
        "            row_list = inStr.split(',')\n",
        "            # 리스트의 마지막 요소에서 쉼표를 슬래시(/)로 대체\n",
        "            row_list[-1] = row_list[-1].replace(',', '/')\n",
        "            # 키(height) 값을 소수점 둘째 자리까지 형식화\n",
        "            height_str = \"{0:.2f}\".format(int(row_list[-2]))\n",
        "            # 형식화된 키 값을 리스트에 반영\n",
        "            row_list[-2] = height_str\n",
        "            # 리스트를 다시 쉼표(,)로 연결하여 문자열로 변환\n",
        "            row_str = ','.join(map(str, row_list))\n",
        "            # 새로운 파일에 변환된 문자열을 쓰고 줄 바꿈\n",
        "            outFp.write(row_str + '\\n')\n",
        "# 파일 저장 완료 메시지 출력\n",
        "print('Save.')\n"
      ],
      "metadata": {
        "id": "pKgOrjrWoqNS"
      },
      "execution_count": null,
      "outputs": []
    },
    {
      "cell_type": "markdown",
      "source": [
        "이 코드는 기존 CSV 파일(singer1.csv)을 읽고, 내용을 수정하여 새로운 CSV 파일(new_singer1.csv)에 저장하는 작업을 수행한다."
      ],
      "metadata": {
        "id": "rxHZwhrRoutG"
      }
    },
    {
      "cell_type": "markdown",
      "source": [
        "### code06-05"
      ],
      "metadata": {
        "id": "6IyGZ5R4pF06"
      }
    },
    {
      "cell_type": "code",
      "source": [
        "# CSV 파일을 읽기 모드로 열기 (인코딩은 CP949)\n",
        "with open(\"/content/drive/MyDrive/11주차_수업자료/singer1.csv\", \"r\", encoding=\"CP949\") as inFp:\n",
        "    # 새로운 CSV 파일을 쓰기 모드로 열기 (인코딩은 CP949)\n",
        "    with open(\"/content/drive/MyDrive/11주차_수업자료/new_singer2.csv\", \"w\", encoding=\"CP949\") as outFp:\n",
        "        # 첫 번째 줄(헤더)을 읽음\n",
        "        header = inFp.readline()\n",
        "        # 헤더의 양쪽 공백 제거\n",
        "        header = header.strip()\n",
        "        # 헤더를 쉼표(,)를 기준으로 나눠 리스트로 변환\n",
        "        header_list = header.split(',')\n",
        "        # '아이디', '이름', '평균 키' 열의 인덱스를 찾음\n",
        "        idx1 = header_list.index('아이디')\n",
        "        idx2 = header_list.index('이름')\n",
        "        idx3 = header_list.index('평균 키')\n",
        "        # 선택된 열만 포함하는 새로운 헤더 리스트 생성\n",
        "        header_list = [header_list[idx1], header_list[idx2], header_list[idx3]]\n",
        "        # 새로운 헤더 리스트를 쉼표(,)로 연결하여 문자열로 변환\n",
        "        header_str = ','.join(map(str, header_list))\n",
        "        # 새로운 파일에 헤더 문자열을 쓰고 줄 바꿈\n",
        "        outFp.write(header_str + '\\n')\n",
        "        # 파일의 각 줄에 대해 반복\n",
        "        for inStr in inFp:\n",
        "            # 줄의 양쪽 공백 제거\n",
        "            inStr = inStr.strip()\n",
        "            # 줄을 쉼표(,)를 기준으로 나눠 리스트로 변환\n",
        "            row_list = inStr.split(',')\n",
        "            # '평균 키' 값이 165 이상인 경우에만 처리\n",
        "            if int(row_list[idx3]) >= 165:\n",
        "                # 선택된 열만 포함하는 새로운 행 리스트 생성\n",
        "                row_list = [row_list[idx1], row_list[idx2], row_list[idx3]]\n",
        "                # 새로운 행 리스트를 쉼표(,)로 연결하여 문자열로 변환\n",
        "                row_str = ','.join(map(str, row_list))\n",
        "                # 새로운 파일에 변환된 문자열을 쓰고 줄 바꿈\n",
        "                outFp.write(row_str + '\\n')\n",
        "# 파일 저장 완료 메시지 출력\n",
        "print('Save.')\n"
      ],
      "metadata": {
        "id": "XeMFeONIpLmP"
      },
      "execution_count": null,
      "outputs": []
    },
    {
      "cell_type": "markdown",
      "source": [
        "이 코드는 기존 CSV 파일(singer1.csv)에서 특정 열(아이디, 이름, 평균 키)만을 추출하여 새로운 CSV 파일(new_singer2.csv)에 저장한다. 이 때, 평균 키 값이 165 이상인 행만 포함된다."
      ],
      "metadata": {
        "id": "Ue4xjrfQpgE0"
      }
    },
    {
      "cell_type": "markdown",
      "source": [
        "### cdoe06-07"
      ],
      "metadata": {
        "id": "Bz0B71-TppkD"
      }
    },
    {
      "cell_type": "code",
      "source": [
        "import csv\n",
        "# CSV 파일을 읽기 모드로 열기 (인코딩은 CP949)\n",
        "with open(\"/content/drive/MyDrive/11주차_수업자료/singer2.csv\", \"r\", encoding=\"CP949\") as inFp:\n",
        "    # csv.reader를 사용하여 파일을 읽기\n",
        "    csvReader = csv.reader(inFp)\n",
        "    # 첫 번째 줄(헤더)을 읽음\n",
        "    header_list = next(csvReader)\n",
        "    # 헤더 리스트의 2번째와 7번째 요소를 출력 (인덱스는 0부터 시작)\n",
        "    print(header_list[1], header_list[6])\n",
        "\n",
        "    # 파일의 각 줄(데이터 행)에 대해 반복\n",
        "    for row_list in csvReader:\n",
        "        # 7번째 요소의 쉼표를 제거하고 정수로 변환\n",
        "        youtube = int(row_list[6].replace(',', ''))\n",
        "        # 조회수를 만 단위로 변환\n",
        "        youtube = int(youtube / 10000)\n",
        "        # 가수 이름과 변환된 조회수를 출력\n",
        "        print(row_list[1], str(youtube) + \"만\")\n"
      ],
      "metadata": {
        "id": "QEY2voGlrNaG"
      },
      "execution_count": null,
      "outputs": []
    },
    {
      "cell_type": "markdown",
      "source": [
        "이 코드는 singer2.csv 파일을 읽어와서 가수의 이름과 YouTube 조회수를 출력한다. 조회수는 만 단위로 변환하여 출력한다."
      ],
      "metadata": {
        "id": "xg8YsKlIrRkH"
      }
    },
    {
      "cell_type": "markdown",
      "source": [
        "### code06-08"
      ],
      "metadata": {
        "id": "o0UfFzAQrb8L"
      }
    },
    {
      "cell_type": "code",
      "source": [
        "import csv\n",
        "# singerA.csv 파일을 읽기 모드로 열기 (인코딩은 CP949)\n",
        "with open(\"/content/drive/MyDrive/11주차_수업자료/singerA.csv\", \"r\", encoding=\"CP949\") as inFpA:\n",
        "    # singerB.csv 파일을 읽기 모드로 열기 (인코딩은 CP949)\n",
        "    with open(\"/content/drive/MyDrive/11주차_수업자료/singerB.csv\", \"r\", encoding=\"CP949\") as inFpB:\n",
        "        # singerSum.csv 파일을 쓰기 모드로 열기 (newline=''을 사용하여 자동 줄 바꿈 방지)\n",
        "        with open(\"/content/drive/MyDrive/11주차_수업자료/singerSum.csv\", \"w\", newline='') as outFp:\n",
        "            # csv.reader를 사용하여 파일을 읽기\n",
        "            csvReaderA = csv.reader(inFpA)\n",
        "            csvReaderB = csv.reader(inFpB)\n",
        "            # csv.writer를 사용하여 파일에 쓰기\n",
        "            csvWriter = csv.writer(outFp)\n",
        "            # 각 파일에서 첫 번째 줄(헤더)을 읽음\n",
        "            header_list = next(csvReaderA)\n",
        "            header_list = next(csvReaderB)\n",
        "            # 헤더를 합친 파일에 씀\n",
        "            csvWriter.writerow(header_list)\n",
        "            # singerA.csv 파일의 각 데이터 행에 대해 반복\n",
        "            for row_list in csvReaderA:\n",
        "                # 데이터를 합친 파일에 씀\n",
        "                csvWriter.writerow(row_list)\n",
        "            # singerB.csv 파일의 각 데이터 행에 대해 반복\n",
        "            for row_list in csvReaderB:\n",
        "                # 데이터를 합친 파일에 씀\n",
        "                csvWriter.writerow(row_list)\n",
        "# 파일 저장 완료 메시지 출력\n",
        "print(\"save\")"
      ],
      "metadata": {
        "id": "4YjIxcetrbhb"
      },
      "execution_count": null,
      "outputs": []
    },
    {
      "cell_type": "markdown",
      "source": [
        "이 코드는 singerA.csv와 singerB.csv 파일을 읽어와서 두 파일의 데이터를 합쳐서 새로운 CSV 파일(singerSum.csv)에 저장한다."
      ],
      "metadata": {
        "id": "VWtbrAZSrk8Z"
      }
    },
    {
      "cell_type": "markdown",
      "source": [
        "### code07-02"
      ],
      "metadata": {
        "id": "EJ-T8UbAu0zW"
      }
    },
    {
      "cell_type": "code",
      "source": [
        "import xlrd\n",
        "# 엑셀 파일을 열기\n",
        "workbook = xlrd.open_workbook(\"/content/drive/MyDrive/12주차_수업자료/singer.xls\")\n",
        "# 워크북 내 시트의 개수를 가져오기\n",
        "sheetCount = workbook.nsheets\n",
        "# 워크북 내 모든 시트를 리스트로 가져오기\n",
        "wsheetList = workbook.sheets()\n",
        "# 각 워크시트에 대해 반복\n",
        "for worksheet in wsheetList:\n",
        "    # 워크시트의 이름을 출력\n",
        "    print('** 워크시트의 이름: %s' % (worksheet.name))\n",
        "    # 워크시트의 각 행에 대해 반복\n",
        "    for row in range(worksheet.nrows):\n",
        "        # 각 행의 각 열에 대해 반복\n",
        "        for col in range(worksheet.ncols):\n",
        "            # 셀의 값을 10자리 너비로 출력하고 탭으로 구분\n",
        "            print(\"%-10s\" % worksheet.cell_value(row, col), end='\\t')\n",
        "        # 한 행이 끝나면 줄 바꿈\n",
        "        print(\"\\n\")\n",
        "    # 각 워크시트가 끝날 때마다 줄 바꿈\n",
        "    print()"
      ],
      "metadata": {
        "id": "GpptiFkpu4qT"
      },
      "execution_count": null,
      "outputs": []
    },
    {
      "cell_type": "markdown",
      "source": [
        "이 코드는 엑셀 파일(singer.xls)을 읽어 각 워크시트의 이름과 내용을 출력한다."
      ],
      "metadata": {
        "id": "hHu7yy72u87a"
      }
    },
    {
      "cell_type": "markdown",
      "source": [
        "### code07-04"
      ],
      "metadata": {
        "id": "_PspCVcZvdnI"
      }
    },
    {
      "cell_type": "code",
      "source": [
        "import xlrd\n",
        "import xlwt\n",
        "# 기존 엑셀 파일(singer.xls)을 읽기 모드로 열기\n",
        "workbook = xlrd.open_workbook(\"/content/drive/MyDrive/12주차_수업자료/singer.xls\")\n",
        "# 새로운 엑셀 파일을 쓰기 모드로 생성\n",
        "outWorkbook = xlwt.Workbook()\n",
        "# 기존 워크북 내의 모든 시트를 리스트로 가져오기\n",
        "wsheetList = workbook.sheets()\n",
        "# 각 워크시트에 대해 반복\n",
        "for worksheet in wsheetList:\n",
        "    # 새로운 워크북에 동일한 이름의 시트를 추가\n",
        "    outSheet = outWorkbook.add_sheet(worksheet.name)\n",
        "    # 기존 워크시트의 각 행에 대해 반복\n",
        "    for row in range(worksheet.nrows):\n",
        "        # 각 행의 각 열에 대해 반복\n",
        "        for col in range(worksheet.ncols):\n",
        "            # 새로운 워크시트에 기존 워크시트의 셀 값을 씀\n",
        "            outSheet.write(row, col, worksheet.cell_value(row, col))\n",
        "# 새로운 엑셀 파일을 지정된 경로에 저장\n",
        "outWorkbook.save(\"/content/drive/MyDrive/12주차_수업자료/outSinger1.xls\")\n",
        "# 파일 저장 완료 메시지 출력\n",
        "print(\"Save. OK~\")"
      ],
      "metadata": {
        "id": "eSAQkfQyvYwQ"
      },
      "execution_count": null,
      "outputs": []
    },
    {
      "cell_type": "markdown",
      "source": [
        "이 코드는 기존의 엑셀 파일(singer.xls)을 읽어와서 동일한 내용을 새로운 엑셀 파일(outSinger1.xls)에 저장한다."
      ],
      "metadata": {
        "id": "OLuC2x75vgLE"
      }
    },
    {
      "cell_type": "markdown",
      "source": [
        "### code07-05"
      ],
      "metadata": {
        "id": "mrF_GoA2vmNa"
      }
    },
    {
      "cell_type": "code",
      "source": [
        "import xlrd\n",
        "import xlwt\n",
        "# 기존 엑셀 파일(singer.xls)을 읽기 모드로 열기\n",
        "workbook = xlrd.open_workbook(\"/content/drive/MyDrive/12주차_수업자료/singer.xls\")\n",
        "# 새로운 엑셀 파일을 쓰기 모드로 생성\n",
        "outWorkbook = xlwt.Workbook()\n",
        "# '평균 키' 열의 인덱스를 저장\n",
        "idx = 4\n",
        "# 기존 워크북 내의 모든 시트를 리스트로 가져오기\n",
        "wsheetList = workbook.sheets()\n",
        "# 새로운 워크북에 'singer'라는 이름의 시트를 추가\n",
        "outSheet = outWorkbook.add_sheet(\"singer\")\n",
        "# 첫 번째 워크시트 가져오기\n",
        "worksheet = wsheetList[0]\n",
        "# 첫 번째 워크시트의 헤더(첫 번째 행)을 새로운 시트에 복사\n",
        "for col in range(worksheet.ncols):\n",
        "    outSheet.write(0, col, worksheet.cell_value(0, col))\n",
        "# 새로운 시트에 쓸 행 번호를 위한 변수 초기화\n",
        "totalRow = 0\n",
        "# 각 워크시트에 대해 반복\n",
        "for worksheet in wsheetList:\n",
        "    # 첫 번째 행(헤더)을 제외한 각 행에 대해 반복\n",
        "    for row in range(1, worksheet.nrows):\n",
        "        # 현재 행의 '평균 키' 값을 가져오기\n",
        "        height = worksheet.cell_value(row, idx)\n",
        "        # '평균 키' 값이 165 이상인 경우\n",
        "        if int(height) >= 165:\n",
        "            # 새로운 시트에 쓸 행 번호를 증가\n",
        "            totalRow += 1\n",
        "            # 해당 행의 각 열에 대해 반복\n",
        "            for col in range(worksheet.ncols):\n",
        "                # 새로운 시트에 값을 복사\n",
        "                outSheet.write(totalRow, col, worksheet.cell_value(row, col))\n",
        "# 새로운 엑셀 파일을 지정된 경로에 저장\n",
        "outWorkbook.save(\"/content/drive/MyDrive/12주차_수업자료/outSinger2.xls\")\n",
        "# 파일 저장 완료 메시지 출력\n",
        "print(\"Save. OK~\")"
      ],
      "metadata": {
        "id": "ujHREJlZv8fP"
      },
      "execution_count": null,
      "outputs": []
    },
    {
      "cell_type": "markdown",
      "source": [
        "\n",
        "이 코드는 기존의 엑셀 파일(singer.xls)에서 '평균 키' 값이 165 이상인 행들만을 추출하여 새로운 엑셀 파일(outSinger2.xls)에 저장한다.\n"
      ],
      "metadata": {
        "id": "nPexydPxwAGw"
      }
    },
    {
      "cell_type": "markdown",
      "source": [
        "### code07-06"
      ],
      "metadata": {
        "id": "UoDcIqowwdCg"
      }
    },
    {
      "cell_type": "code",
      "source": [
        "import csv\n",
        "import xlrd\n",
        "# 엑셀 파일을 읽기 모드로 열기\n",
        "workbook = xlrd.open_workbook(\"/content/drive/MyDrive/12주차_수업자료/singer.xls\")\n",
        "# 워크북 내의 모든 시트를 가져오기\n",
        "wsheetList = workbook.sheets()\n",
        "# 각 워크시트에 대해 반복\n",
        "for worksheet in wsheetList:\n",
        "    # 현재 워크시트 이름으로 CSV 파일을 쓰기 모드로 열기 (newline='' 사용)\n",
        "    with open(\"/content/drive/MyDrive/12주차_수업자료/singer_\" + worksheet.name + \".csv\", \"w\", newline='') as outFp:\n",
        "        # csv.writer 객체 생성\n",
        "        csvWriter = csv.writer(outFp)\n",
        "        # 워크시트의 각 행에 대해 반복\n",
        "        for row in range(worksheet.nrows):\n",
        "            # 현재 행의 모든 셀 값을 리스트로 가져오기\n",
        "            row_list = worksheet.row_values(row)\n",
        "            # CSV 파일에 현재 행을 쓰기\n",
        "            csvWriter.writerow(row_list)\n",
        "# 파일 저장 완료 메시지 출력\n",
        "print(\"Save. OK~\")"
      ],
      "metadata": {
        "id": "dU6X-dAHwiWr"
      },
      "execution_count": null,
      "outputs": []
    },
    {
      "cell_type": "markdown",
      "source": [
        "이 코드는 엑셀 파일(singer.xls)의 각 워크시트를 별도의 CSV 파일로 저장한다."
      ],
      "metadata": {
        "id": "owLs0oyWxme5"
      }
    },
    {
      "cell_type": "markdown",
      "source": [
        "### code07-07"
      ],
      "metadata": {
        "id": "nS-ap10Cxp7-"
      }
    },
    {
      "cell_type": "code",
      "source": [
        "import os\n",
        "import csv\n",
        "import xlwt\n",
        "# 처리할 CSV 파일 목록을 저장\n",
        "csvFileList = [\"/content/drive/MyDrive/11주차_수업자료/singerA.csv\", \"/content/drive/MyDrive/11주차_수업자료/singerB.csv\"]\n",
        "# 새로운 엑셀 파일을 생성\n",
        "outWorkbook = xlwt.Workbook()\n",
        "# 각 CSV 파일에 대해 반복\n",
        "for csvFileName in csvFileList:\n",
        "    rowCount = 0  # 행 번호 초기화\n",
        "    # CSV 파일을 읽기 모드로 열기 (인코딩은 CP949)\n",
        "    with open(csvFileName, \"r\", encoding=\"cp949\") as inFp:\n",
        "        csvReader = csv.reader(inFp)  # CSV 읽기 객체 생성\n",
        "        header_list = next(csvReader)  # 첫 번째 줄(헤더)을 읽기\n",
        "        # 현재 CSV 파일 이름으로 시트를 추가\n",
        "        outSheet = outWorkbook.add_sheet(os.path.basename(csvFileName))\n",
        "        # 헤더를 시트의 첫 번째 행에 쓰기\n",
        "        for col in range(len(header_list)):\n",
        "            outSheet.write(rowCount, col, header_list[col])\n",
        "        # CSV 파일의 각 데이터 행에 대해 반복\n",
        "        for row_list in csvReader:\n",
        "            rowCount += 1  # 행 번호 증가\n",
        "            for col in range(len(row_list)):\n",
        "                # 셀 값이 숫자인 경우\n",
        "                if row_list[col].isnumeric():\n",
        "                    outSheet.write(rowCount, col, float(row_list[col]))  # 숫자로 변환하여 쓰기\n",
        "                else:\n",
        "                    outSheet.write(rowCount, col, row_list[col])  # 그대로 쓰기\n",
        "# 엑셀 파일 저장\n",
        "outWorkbook.save('/content/drive/MyDrive/12주차_수업자료/singerCSV.xls')\n",
        "# 파일 저장 완료 메시지 출력\n",
        "print(\"Save. OK~\")"
      ],
      "metadata": {
        "id": "JHDrQP-2xtVa"
      },
      "execution_count": null,
      "outputs": []
    },
    {
      "cell_type": "markdown",
      "source": [
        "이 코드는 두 개의 CSV 파일(singerA.csv, singerB.csv)을 읽어와서 하나의 엑셀 파일(singerCSV.xls)에 각 파일의 데이터를 별도의 시트에 저장한다."
      ],
      "metadata": {
        "id": "RINtVFxZypMx"
      }
    }
  ]
}