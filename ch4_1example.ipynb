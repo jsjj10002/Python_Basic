{
  "nbformat": 4,
  "nbformat_minor": 0,
  "metadata": {
    "colab": {
      "provenance": [],
      "authorship_tag": "ABX9TyNxbgzaaJ93o5MGLcmKmncx",
      "include_colab_link": true
    },
    "kernelspec": {
      "name": "python3",
      "display_name": "Python 3"
    },
    "language_info": {
      "name": "python"
    }
  },
  "cells": [
    {
      "cell_type": "markdown",
      "metadata": {
        "id": "view-in-github",
        "colab_type": "text"
      },
      "source": [
        "<a href=\"https://colab.research.google.com/github/jsjj10002/Python_Basic/blob/main/ch4_1example.ipynb\" target=\"_parent\"><img src=\"https://colab.research.google.com/assets/colab-badge.svg\" alt=\"Open In Colab\"/></a>"
      ]
    },
    {
      "cell_type": "code",
      "execution_count": null,
      "metadata": {
        "colab": {
          "base_uri": "https://localhost:8080/"
        },
        "id": "ePZsSqT-Pr7R",
        "outputId": "ceb830ea-b776-45a0-a93c-ec77ea5a9d87"
      },
      "outputs": [
        {
          "output_type": "stream",
          "name": "stdout",
          "text": [
            "1번째 숫자: 1\n",
            "2번째 숫자: 2\n",
            "3번째 숫자: 3\n",
            "4번째 숫자: 4\n",
            "10\n"
          ]
        }
      ],
      "source": [
        "a,b,c,d=0,0,0,0\n",
        "sum=0\n",
        "a=int(input(\"1번째 숫자: \"))\n",
        "b=int(input(\"2번째 숫자: \"))\n",
        "c=int(input(\"3번째 숫자: \"))\n",
        "d=int(input(\"4번째 숫자: \"))\n",
        "sum=a+b+c+d\n",
        "print(sum)"
      ]
    },
    {
      "cell_type": "code",
      "source": [
        "aa=[10,20,30,40]"
      ],
      "metadata": {
        "id": "G8OcPC8fURmn"
      },
      "execution_count": null,
      "outputs": []
    },
    {
      "cell_type": "code",
      "source": [
        "score_list = [87,84,95,67,88,94,63]\n",
        "score_list\n",
        "print(score_list[0],score_list[1])"
      ],
      "metadata": {
        "colab": {
          "base_uri": "https://localhost:8080/"
        },
        "id": "I_f6yA43UVBA",
        "outputId": "e561e781-e501-43c9-b2aa-7143645a87de"
      },
      "execution_count": null,
      "outputs": [
        {
          "output_type": "stream",
          "name": "stdout",
          "text": [
            "87 84\n"
          ]
        }
      ]
    },
    {
      "cell_type": "code",
      "source": [
        "aa=[0,0,0,0]\n",
        "sum = 0\n",
        "aa[0]=int(input())\n",
        "aa[1]=int(input())\n",
        "aa[2]=int(input())\n",
        "aa[3]=int(input())\n",
        "sum= aa[0]+aa[1]+aa[2]+aa[3]\n",
        "print(sum)"
      ],
      "metadata": {
        "colab": {
          "base_uri": "https://localhost:8080/"
        },
        "id": "TwVyw_lnVDTS",
        "outputId": "3e80dda2-61b3-438c-92bc-a28eab6b8298"
      },
      "execution_count": null,
      "outputs": [
        {
          "output_type": "stream",
          "name": "stdout",
          "text": [
            "1\n",
            "2\n",
            "3\n",
            "4\n",
            "10\n"
          ]
        }
      ]
    },
    {
      "cell_type": "code",
      "source": [
        "fruits = ['banana','apple', 'orange','kiwi']\n",
        "fruits\n"
      ],
      "metadata": {
        "colab": {
          "base_uri": "https://localhost:8080/"
        },
        "id": "iKNJweQSWfBx",
        "outputId": "6616c7ce-97e6-4519-bdc0-437ca03d9c54"
      },
      "execution_count": null,
      "outputs": [
        {
          "output_type": "execute_result",
          "data": {
            "text/plain": [
              "['banana', 'apple', 'orange', 'kiwi']"
            ]
          },
          "metadata": {},
          "execution_count": 9
        }
      ]
    },
    {
      "cell_type": "code",
      "source": [
        "mixed_list=[100,200,'apple',400]\n",
        "mixed_list"
      ],
      "metadata": {
        "colab": {
          "base_uri": "https://localhost:8080/"
        },
        "id": "vPc7pTwrW-Ei",
        "outputId": "3cbbfae0-7896-4f7e-e894-69b03893bcd7"
      },
      "execution_count": null,
      "outputs": [
        {
          "output_type": "execute_result",
          "data": {
            "text/plain": [
              "[100, 200, 'apple', 400]"
            ]
          },
          "metadata": {},
          "execution_count": 10
        }
      ]
    },
    {
      "cell_type": "code",
      "source": [
        "list1 =list()\n",
        "list2=[]\n",
        "list4=list(range(1,10))\n"
      ],
      "metadata": {
        "id": "ghCu4dahWn2P"
      },
      "execution_count": null,
      "outputs": []
    },
    {
      "cell_type": "code",
      "source": [
        "aa=[10,20,30,40]\n",
        "print(aa[-1])"
      ],
      "metadata": {
        "colab": {
          "base_uri": "https://localhost:8080/"
        },
        "id": "QBm9vMFqWoCn",
        "outputId": "be7657b5-1a9e-492f-dfd9-713d88f5222e"
      },
      "execution_count": null,
      "outputs": [
        {
          "output_type": "stream",
          "name": "stdout",
          "text": [
            "40\n"
          ]
        }
      ]
    },
    {
      "cell_type": "code",
      "source": [
        "aa[0:3]"
      ],
      "metadata": {
        "colab": {
          "base_uri": "https://localhost:8080/"
        },
        "id": "MBmvZxZUWoQH",
        "outputId": "75bd2cd0-d1a3-49b4-d00e-887c351c6970"
      },
      "execution_count": null,
      "outputs": [
        {
          "output_type": "execute_result",
          "data": {
            "text/plain": [
              "[10, 20, 30]"
            ]
          },
          "metadata": {},
          "execution_count": 15
        }
      ]
    },
    {
      "cell_type": "code",
      "source": [
        "aa[2:4]"
      ],
      "metadata": {
        "colab": {
          "base_uri": "https://localhost:8080/"
        },
        "id": "qb8cDsLOce8K",
        "outputId": "e1015d41-d1d6-4cca-c9e3-ad4e0083dcfb"
      },
      "execution_count": null,
      "outputs": [
        {
          "output_type": "execute_result",
          "data": {
            "text/plain": [
              "[30, 40]"
            ]
          },
          "metadata": {},
          "execution_count": 16
        }
      ]
    },
    {
      "cell_type": "code",
      "source": [
        "aa[2:]"
      ],
      "metadata": {
        "colab": {
          "base_uri": "https://localhost:8080/"
        },
        "id": "fWcGhyxLcmAp",
        "outputId": "1e4d7181-736e-4d86-9182-dd141732721c"
      },
      "execution_count": null,
      "outputs": [
        {
          "output_type": "execute_result",
          "data": {
            "text/plain": [
              "[30, 40]"
            ]
          },
          "metadata": {},
          "execution_count": 17
        }
      ]
    },
    {
      "cell_type": "code",
      "source": [
        "aa[:2]"
      ],
      "metadata": {
        "colab": {
          "base_uri": "https://localhost:8080/"
        },
        "id": "FP6w9svact2q",
        "outputId": "5f47204b-8864-4e3e-b8a8-f61c882be59d"
      },
      "execution_count": null,
      "outputs": [
        {
          "output_type": "execute_result",
          "data": {
            "text/plain": [
              "[10, 20]"
            ]
          },
          "metadata": {},
          "execution_count": 18
        }
      ]
    },
    {
      "cell_type": "code",
      "source": [
        "bb=[40,50,60]"
      ],
      "metadata": {
        "id": "LpibyTWxcveP"
      },
      "execution_count": null,
      "outputs": []
    },
    {
      "cell_type": "code",
      "source": [
        "aa+bb"
      ],
      "metadata": {
        "colab": {
          "base_uri": "https://localhost:8080/"
        },
        "id": "T-LY66W2czlx",
        "outputId": "7324aa18-eaef-4456-ba70-1ed333b5506e"
      },
      "execution_count": null,
      "outputs": [
        {
          "output_type": "execute_result",
          "data": {
            "text/plain": [
              "[10, 20, 30, 40, 40, 50, 60]"
            ]
          },
          "metadata": {},
          "execution_count": 20
        }
      ]
    },
    {
      "cell_type": "code",
      "source": [
        "aa*3"
      ],
      "metadata": {
        "colab": {
          "base_uri": "https://localhost:8080/"
        },
        "id": "ElHLrVe4c1KQ",
        "outputId": "b6cc5667-ff86-456a-c5a3-5b2fda77a529"
      },
      "execution_count": null,
      "outputs": [
        {
          "output_type": "execute_result",
          "data": {
            "text/plain": [
              "[10, 20, 30, 40, 10, 20, 30, 40, 10, 20, 30, 40]"
            ]
          },
          "metadata": {},
          "execution_count": 22
        }
      ]
    },
    {
      "cell_type": "code",
      "source": [
        "aa[1]=200"
      ],
      "metadata": {
        "id": "his-6h9Xc544"
      },
      "execution_count": null,
      "outputs": []
    },
    {
      "cell_type": "code",
      "source": [
        "aa"
      ],
      "metadata": {
        "colab": {
          "base_uri": "https://localhost:8080/"
        },
        "id": "89TOCMf7dCvZ",
        "outputId": "5c6bb4e4-28cd-47bf-ae0d-5cdb0d62642c"
      },
      "execution_count": null,
      "outputs": [
        {
          "output_type": "execute_result",
          "data": {
            "text/plain": [
              "[10, 200, 30, 40]"
            ]
          },
          "metadata": {},
          "execution_count": 25
        }
      ]
    },
    {
      "cell_type": "code",
      "source": [
        "aa[1:2]"
      ],
      "metadata": {
        "colab": {
          "base_uri": "https://localhost:8080/"
        },
        "id": "BUT6j2wsdE1J",
        "outputId": "849c3e75-5459-4ded-8f1c-723e66f6b78d"
      },
      "execution_count": null,
      "outputs": [
        {
          "output_type": "execute_result",
          "data": {
            "text/plain": [
              "[200]"
            ]
          },
          "metadata": {},
          "execution_count": 26
        }
      ]
    },
    {
      "cell_type": "code",
      "source": [
        "a_list =[\"a\",\"b\",\"c\"]\n",
        "a_list.append('F')\n",
        "a_list"
      ],
      "metadata": {
        "id": "e2UHszU9dHsY",
        "outputId": "67a24faf-d3cb-492a-eeef-13a5a9bf91e8",
        "colab": {
          "base_uri": "https://localhost:8080/"
        }
      },
      "execution_count": 1,
      "outputs": [
        {
          "output_type": "execute_result",
          "data": {
            "text/plain": [
              "['a', 'b', 'c', 'F']"
            ]
          },
          "metadata": {},
          "execution_count": 1
        }
      ]
    },
    {
      "cell_type": "code",
      "source": [
        "aa=[10,20,30,40,50]\n",
        "aa[1:4]=[]\n",
        "aa"
      ],
      "metadata": {
        "id": "-AKgBFTwkZdw",
        "outputId": "8b623439-ecda-49e7-eec7-82b437c7992b",
        "colab": {
          "base_uri": "https://localhost:8080/"
        }
      },
      "execution_count": 2,
      "outputs": [
        {
          "output_type": "execute_result",
          "data": {
            "text/plain": [
              "[10, 50]"
            ]
          },
          "metadata": {},
          "execution_count": 2
        }
      ]
    },
    {
      "cell_type": "code",
      "source": [
        "del(aa)"
      ],
      "metadata": {
        "id": "0eHb-4BQlUoe"
      },
      "execution_count": 3,
      "outputs": []
    },
    {
      "cell_type": "code",
      "source": [
        "a=[1,2,3]"
      ],
      "metadata": {
        "id": "TS_Dt1QWlZKN"
      },
      "execution_count": 5,
      "outputs": []
    },
    {
      "cell_type": "code",
      "source": [
        "a=None"
      ],
      "metadata": {
        "id": "RpcIAXQolf8l"
      },
      "execution_count": 6,
      "outputs": []
    },
    {
      "cell_type": "code",
      "source": [
        "a"
      ],
      "metadata": {
        "id": "A_kusLKmli3Q"
      },
      "execution_count": 7,
      "outputs": []
    },
    {
      "cell_type": "code",
      "source": [
        "a=[1,2,3,45]\n",
        "a.remove(45)\n",
        "a"
      ],
      "metadata": {
        "id": "-3VJOM_uljXP",
        "outputId": "edcbf34f-c781-4b82-c188-5eb59c68d586",
        "colab": {
          "base_uri": "https://localhost:8080/"
        }
      },
      "execution_count": 8,
      "outputs": [
        {
          "output_type": "execute_result",
          "data": {
            "text/plain": [
              "[1, 2, 3]"
            ]
          },
          "metadata": {},
          "execution_count": 8
        }
      ]
    },
    {
      "cell_type": "code",
      "source": [
        "a=[10,20,30,40]\n",
        "print(10 in a)\n",
        "print(50 in a)\n",
        "print(10 not in a)"
      ],
      "metadata": {
        "id": "ciANFFAsmoSp",
        "outputId": "06ff2c7a-b04d-49a1-bad1-31f99ef6f9c2",
        "colab": {
          "base_uri": "https://localhost:8080/"
        }
      },
      "execution_count": 9,
      "outputs": [
        {
          "output_type": "stream",
          "name": "stdout",
          "text": [
            "True\n",
            "False\n",
            "False\n"
          ]
        }
      ]
    },
    {
      "cell_type": "code",
      "source": [
        "a=[11,22,33,4,55,66]\n",
        "if 55 in a:\n",
        "    a.remove(55)"
      ],
      "metadata": {
        "id": "ipyINDbUn9zT"
      },
      "execution_count": 10,
      "outputs": []
    },
    {
      "cell_type": "code",
      "source": [
        "list1 =[20,30,40,50,60]\n",
        "print(min(list1 ), max(list1 ), sum(list1 ))"
      ],
      "metadata": {
        "id": "31CB-G9Eovh8",
        "outputId": "3008ea80-ab70-4cad-f206-84a1f4a43ed0",
        "colab": {
          "base_uri": "https://localhost:8080/"
        }
      },
      "execution_count": 12,
      "outputs": [
        {
          "output_type": "stream",
          "name": "stdout",
          "text": [
            "20 60 200\n"
          ]
        }
      ]
    },
    {
      "cell_type": "code",
      "source": [
        "fruits=['banana','orange','apple']\n",
        "korean=['각','난','닫']\n",
        "print(min(fruits), min(korean))"
      ],
      "metadata": {
        "id": "fmpGVr5UpN9x",
        "outputId": "95965b74-496f-4877-b3dc-7d27f1521fa5",
        "colab": {
          "base_uri": "https://localhost:8080/"
        }
      },
      "execution_count": 15,
      "outputs": [
        {
          "output_type": "stream",
          "name": "stdout",
          "text": [
            "apple 각\n"
          ]
        }
      ]
    },
    {
      "cell_type": "code",
      "source": [
        "list1.sort()"
      ],
      "metadata": {
        "id": "g8_AXvl_p_Ge"
      },
      "execution_count": 16,
      "outputs": []
    },
    {
      "cell_type": "code",
      "source": [
        "list1"
      ],
      "metadata": {
        "id": "3YzdNFs1qNAN",
        "outputId": "145ed4d5-09fd-4c4a-d0ac-81e049b5ce0d",
        "colab": {
          "base_uri": "https://localhost:8080/"
        }
      },
      "execution_count": 17,
      "outputs": [
        {
          "output_type": "execute_result",
          "data": {
            "text/plain": [
              "[20, 30, 40, 50, 60]"
            ]
          },
          "metadata": {},
          "execution_count": 17
        }
      ]
    },
    {
      "cell_type": "code",
      "source": [
        "list1.sort(reverse=True)\n",
        "list1"
      ],
      "metadata": {
        "id": "qX7chJNPqO0l",
        "outputId": "42279ef6-6e2a-4138-b2f2-4ed05a14685b",
        "colab": {
          "base_uri": "https://localhost:8080/"
        }
      },
      "execution_count": 18,
      "outputs": [
        {
          "output_type": "execute_result",
          "data": {
            "text/plain": [
              "[60, 50, 40, 30, 20]"
            ]
          },
          "metadata": {},
          "execution_count": 18
        }
      ]
    },
    {
      "cell_type": "code",
      "source": [
        "list1.index(20)"
      ],
      "metadata": {
        "id": "IcR7c7W6qUw9",
        "outputId": "5993f60d-c283-4477-9cd9-44487626bdd7",
        "colab": {
          "base_uri": "https://localhost:8080/"
        }
      },
      "execution_count": 19,
      "outputs": [
        {
          "output_type": "execute_result",
          "data": {
            "text/plain": [
              "4"
            ]
          },
          "metadata": {},
          "execution_count": 19
        }
      ]
    },
    {
      "cell_type": "code",
      "source": [
        "list2=[1,1,1,3,4,5,6,6,7,7,7,8,10,20,22,22,2,2,22,3,1,1,4,5,6,7,8]"
      ],
      "metadata": {
        "id": "xx7vpO4Fq2Xz"
      },
      "execution_count": 20,
      "outputs": []
    },
    {
      "cell_type": "code",
      "source": [
        "list2.count(1)"
      ],
      "metadata": {
        "id": "IqicUx0uq-xS",
        "outputId": "2e181df5-c928-4ed9-eee1-043554f06317",
        "colab": {
          "base_uri": "https://localhost:8080/"
        }
      },
      "execution_count": 21,
      "outputs": [
        {
          "output_type": "execute_result",
          "data": {
            "text/plain": [
              "5"
            ]
          },
          "metadata": {},
          "execution_count": 21
        }
      ]
    },
    {
      "cell_type": "code",
      "source": [
        "list2.sort(reverse=True)\n",
        "print(list2)"
      ],
      "metadata": {
        "id": "TcHmSz8vrCTp",
        "outputId": "335b3ad5-814b-4348-dd3c-383f3679acc5",
        "colab": {
          "base_uri": "https://localhost:8080/"
        }
      },
      "execution_count": 24,
      "outputs": [
        {
          "output_type": "stream",
          "name": "stdout",
          "text": [
            "[22, 22, 22, 20, 10, 8, 8, 7, 7, 7, 7, 6, 6, 6, 5, 5, 4, 4, 3, 3, 2, 2, 1, 1, 1, 1, 1]\n"
          ]
        }
      ]
    },
    {
      "cell_type": "code",
      "source": [
        "list2.count(3)"
      ],
      "metadata": {
        "id": "K3j7vbhYrQYp",
        "outputId": "49d89d6c-ae5e-4e96-cb77-94b06b6c3db5",
        "colab": {
          "base_uri": "https://localhost:8080/"
        }
      },
      "execution_count": 25,
      "outputs": [
        {
          "output_type": "execute_result",
          "data": {
            "text/plain": [
              "2"
            ]
          },
          "metadata": {},
          "execution_count": 25
        }
      ]
    },
    {
      "cell_type": "code",
      "source": [
        "list2.count(100)"
      ],
      "metadata": {
        "id": "aRGVdshRrXBh",
        "outputId": "ba5f96fe-9699-433a-bf0a-625cf6644c83",
        "colab": {
          "base_uri": "https://localhost:8080/"
        }
      },
      "execution_count": 26,
      "outputs": [
        {
          "output_type": "execute_result",
          "data": {
            "text/plain": [
              "0"
            ]
          },
          "metadata": {},
          "execution_count": 26
        }
      ]
    },
    {
      "cell_type": "code",
      "source": [
        "list1.extend(list2)"
      ],
      "metadata": {
        "id": "tnZmCNqhrZYh"
      },
      "execution_count": 27,
      "outputs": []
    },
    {
      "cell_type": "code",
      "source": [
        "print(list1)"
      ],
      "metadata": {
        "id": "0VoKouCKrhUP",
        "outputId": "c38e3ced-40de-461e-bc0a-39134b01e9b4",
        "colab": {
          "base_uri": "https://localhost:8080/"
        }
      },
      "execution_count": 29,
      "outputs": [
        {
          "output_type": "stream",
          "name": "stdout",
          "text": [
            "[60, 50, 40, 30, 20, 22, 22, 22, 20, 10, 8, 8, 7, 7, 7, 7, 6, 6, 6, 5, 5, 4, 4, 3, 3, 2, 2, 1, 1, 1, 1, 1]\n"
          ]
        }
      ]
    },
    {
      "cell_type": "code",
      "source": [
        "list3=[1,2,3]\n",
        "list3.insert(4,4)\n",
        "list3"
      ],
      "metadata": {
        "id": "0PFKBaknrlQf",
        "outputId": "c8a6485a-1ae6-45e3-a9bb-ea37426dfb43",
        "colab": {
          "base_uri": "https://localhost:8080/"
        }
      },
      "execution_count": 36,
      "outputs": [
        {
          "output_type": "execute_result",
          "data": {
            "text/plain": [
              "[1, 2, 3, 4]"
            ]
          },
          "metadata": {},
          "execution_count": 36
        }
      ]
    },
    {
      "cell_type": "code",
      "source": [
        "list3.pop()"
      ],
      "metadata": {
        "id": "xsdqQKbis5Sb",
        "outputId": "a1d2960c-8abd-4d2f-b684-d82cce44ae3e",
        "colab": {
          "base_uri": "https://localhost:8080/"
        }
      },
      "execution_count": 37,
      "outputs": [
        {
          "output_type": "execute_result",
          "data": {
            "text/plain": [
              "4"
            ]
          },
          "metadata": {},
          "execution_count": 37
        }
      ]
    },
    {
      "cell_type": "code",
      "source": [
        "mylist=[30,10,20]\n",
        "print(\"현재 리스트: %s\" %mylist)\n",
        "mylist.append(40)\n",
        "print(\"after append %s\"%mylist)\n",
        "print(\"pop %s\"%mylist.pop())\n",
        "mylist.sort()\n",
        "print(\"AFTER SORT%s\"%mylist)\n",
        "mylist.reverse()\n",
        "print(\"after reverse%s\"%mylist)\n",
        "mylist.insert(2,222)\n",
        "print(\"after insert %s\"%mylist)\n",
        "mylist.remove(222)\n",
        "print(\"after remove %s\"%mylist)\n",
        "mylist.extend([77,88,99])\n",
        "print(\"after extend %s\"%mylist)\n",
        "print(\"count 77: %d\"%mylist.count(77))"
      ],
      "metadata": {
        "id": "2lwPqA6ztAxc",
        "outputId": "534c6ee6-4e60-4fec-e863-9451574b0867",
        "colab": {
          "base_uri": "https://localhost:8080/"
        }
      },
      "execution_count": 39,
      "outputs": [
        {
          "output_type": "stream",
          "name": "stdout",
          "text": [
            "현재 리스트: [30, 10, 20]\n",
            "after append [30, 10, 20, 40]\n",
            "pop 40\n",
            "AFTER SORT[10, 20, 30]\n",
            "after reverse[30, 20, 10]\n",
            "after insert [30, 20, 222, 10]\n",
            "after remove [30, 20, 10]\n",
            "after extend [30, 20, 10, 77, 88, 99]\n",
            "count 77: 1\n"
          ]
        }
      ]
    },
    {
      "cell_type": "code",
      "source": [],
      "metadata": {
        "id": "e5rNpBeLvUEN"
      },
      "execution_count": null,
      "outputs": []
    },
    {
      "cell_type": "code",
      "source": [],
      "metadata": {
        "id": "H8LxVAjJvTB-"
      },
      "execution_count": null,
      "outputs": []
    },
    {
      "cell_type": "code",
      "source": [],
      "metadata": {
        "id": "NfnAOxDyssgl"
      },
      "execution_count": null,
      "outputs": []
    },
    {
      "cell_type": "code",
      "source": [],
      "metadata": {
        "id": "zei5lkFosm4i"
      },
      "execution_count": null,
      "outputs": []
    },
    {
      "cell_type": "code",
      "source": [],
      "metadata": {
        "id": "4PxpkICosgQp"
      },
      "execution_count": null,
      "outputs": []
    },
    {
      "cell_type": "code",
      "source": [],
      "metadata": {
        "id": "zzkqdqC2sTOM"
      },
      "execution_count": null,
      "outputs": []
    },
    {
      "cell_type": "code",
      "source": [],
      "metadata": {
        "id": "hgwTMWE2sRI9"
      },
      "execution_count": null,
      "outputs": []
    },
    {
      "cell_type": "code",
      "source": [],
      "metadata": {
        "id": "3nJuKdB2sOEl"
      },
      "execution_count": null,
      "outputs": []
    }
  ]
}