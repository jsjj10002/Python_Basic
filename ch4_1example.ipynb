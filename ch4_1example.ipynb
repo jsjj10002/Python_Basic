{
  "nbformat": 4,
  "nbformat_minor": 0,
  "metadata": {
    "colab": {
      "provenance": [],
      "authorship_tag": "ABX9TyOYO8k1LaIhKRGk+/ZkxMPO",
      "include_colab_link": true
    },
    "kernelspec": {
      "name": "python3",
      "display_name": "Python 3"
    },
    "language_info": {
      "name": "python"
    }
  },
  "cells": [
    {
      "cell_type": "markdown",
      "metadata": {
        "id": "view-in-github",
        "colab_type": "text"
      },
      "source": [
        "<a href=\"https://colab.research.google.com/github/jsjj10002/Python_Basic/blob/main/ch4_1example.ipynb\" target=\"_parent\"><img src=\"https://colab.research.google.com/assets/colab-badge.svg\" alt=\"Open In Colab\"/></a>"
      ]
    },
    {
      "cell_type": "code",
      "execution_count": null,
      "metadata": {
        "colab": {
          "base_uri": "https://localhost:8080/"
        },
        "id": "ePZsSqT-Pr7R",
        "outputId": "ceb830ea-b776-45a0-a93c-ec77ea5a9d87"
      },
      "outputs": [
        {
          "output_type": "stream",
          "name": "stdout",
          "text": [
            "1번째 숫자: 1\n",
            "2번째 숫자: 2\n",
            "3번째 숫자: 3\n",
            "4번째 숫자: 4\n",
            "10\n"
          ]
        }
      ],
      "source": [
        "a,b,c,d=0,0,0,0\n",
        "sum=0\n",
        "a=int(input(\"1번째 숫자: \"))\n",
        "b=int(input(\"2번째 숫자: \"))\n",
        "c=int(input(\"3번째 숫자: \"))\n",
        "d=int(input(\"4번째 숫자: \"))\n",
        "sum=a+b+c+d\n",
        "print(sum)"
      ]
    },
    {
      "cell_type": "code",
      "source": [
        "aa=[10,20,30,40]"
      ],
      "metadata": {
        "id": "G8OcPC8fURmn"
      },
      "execution_count": null,
      "outputs": []
    },
    {
      "cell_type": "code",
      "source": [
        "score_list = [87,84,95,67,88,94,63]\n",
        "score_list\n",
        "print(score_list[0],score_list[1])"
      ],
      "metadata": {
        "colab": {
          "base_uri": "https://localhost:8080/"
        },
        "id": "I_f6yA43UVBA",
        "outputId": "e561e781-e501-43c9-b2aa-7143645a87de"
      },
      "execution_count": null,
      "outputs": [
        {
          "output_type": "stream",
          "name": "stdout",
          "text": [
            "87 84\n"
          ]
        }
      ]
    },
    {
      "cell_type": "code",
      "source": [
        "aa=[0,0,0,0]\n",
        "sum = 0\n",
        "aa[0]=int(input())\n",
        "aa[1]=int(input())\n",
        "aa[2]=int(input())\n",
        "aa[3]=int(input())\n",
        "sum= aa[0]+aa[1]+aa[2]+aa[3]\n",
        "print(sum)"
      ],
      "metadata": {
        "colab": {
          "base_uri": "https://localhost:8080/"
        },
        "id": "TwVyw_lnVDTS",
        "outputId": "3e80dda2-61b3-438c-92bc-a28eab6b8298"
      },
      "execution_count": null,
      "outputs": [
        {
          "output_type": "stream",
          "name": "stdout",
          "text": [
            "1\n",
            "2\n",
            "3\n",
            "4\n",
            "10\n"
          ]
        }
      ]
    },
    {
      "cell_type": "code",
      "source": [
        "fruits = ['banana','apple', 'orange','kiwi']\n",
        "fruits\n"
      ],
      "metadata": {
        "colab": {
          "base_uri": "https://localhost:8080/"
        },
        "id": "iKNJweQSWfBx",
        "outputId": "6616c7ce-97e6-4519-bdc0-437ca03d9c54"
      },
      "execution_count": null,
      "outputs": [
        {
          "output_type": "execute_result",
          "data": {
            "text/plain": [
              "['banana', 'apple', 'orange', 'kiwi']"
            ]
          },
          "metadata": {},
          "execution_count": 9
        }
      ]
    },
    {
      "cell_type": "code",
      "source": [
        "mixed_list=[100,200,'apple',400]\n",
        "mixed_list"
      ],
      "metadata": {
        "colab": {
          "base_uri": "https://localhost:8080/"
        },
        "id": "vPc7pTwrW-Ei",
        "outputId": "3cbbfae0-7896-4f7e-e894-69b03893bcd7"
      },
      "execution_count": null,
      "outputs": [
        {
          "output_type": "execute_result",
          "data": {
            "text/plain": [
              "[100, 200, 'apple', 400]"
            ]
          },
          "metadata": {},
          "execution_count": 10
        }
      ]
    },
    {
      "cell_type": "code",
      "source": [
        "list1 =list()\n",
        "list2=[]\n",
        "list4=list(range(1,10))\n"
      ],
      "metadata": {
        "id": "ghCu4dahWn2P"
      },
      "execution_count": null,
      "outputs": []
    },
    {
      "cell_type": "code",
      "source": [
        "aa=[10,20,30,40]\n",
        "print(aa[-1])"
      ],
      "metadata": {
        "colab": {
          "base_uri": "https://localhost:8080/"
        },
        "id": "QBm9vMFqWoCn",
        "outputId": "be7657b5-1a9e-492f-dfd9-713d88f5222e"
      },
      "execution_count": null,
      "outputs": [
        {
          "output_type": "stream",
          "name": "stdout",
          "text": [
            "40\n"
          ]
        }
      ]
    },
    {
      "cell_type": "code",
      "source": [
        "aa[0:3]"
      ],
      "metadata": {
        "colab": {
          "base_uri": "https://localhost:8080/"
        },
        "id": "MBmvZxZUWoQH",
        "outputId": "75bd2cd0-d1a3-49b4-d00e-887c351c6970"
      },
      "execution_count": null,
      "outputs": [
        {
          "output_type": "execute_result",
          "data": {
            "text/plain": [
              "[10, 20, 30]"
            ]
          },
          "metadata": {},
          "execution_count": 15
        }
      ]
    },
    {
      "cell_type": "code",
      "source": [
        "aa[2:4]"
      ],
      "metadata": {
        "colab": {
          "base_uri": "https://localhost:8080/"
        },
        "id": "qb8cDsLOce8K",
        "outputId": "e1015d41-d1d6-4cca-c9e3-ad4e0083dcfb"
      },
      "execution_count": null,
      "outputs": [
        {
          "output_type": "execute_result",
          "data": {
            "text/plain": [
              "[30, 40]"
            ]
          },
          "metadata": {},
          "execution_count": 16
        }
      ]
    },
    {
      "cell_type": "code",
      "source": [
        "aa[2:]"
      ],
      "metadata": {
        "colab": {
          "base_uri": "https://localhost:8080/"
        },
        "id": "fWcGhyxLcmAp",
        "outputId": "1e4d7181-736e-4d86-9182-dd141732721c"
      },
      "execution_count": null,
      "outputs": [
        {
          "output_type": "execute_result",
          "data": {
            "text/plain": [
              "[30, 40]"
            ]
          },
          "metadata": {},
          "execution_count": 17
        }
      ]
    },
    {
      "cell_type": "code",
      "source": [
        "aa[:2]"
      ],
      "metadata": {
        "colab": {
          "base_uri": "https://localhost:8080/"
        },
        "id": "FP6w9svact2q",
        "outputId": "5f47204b-8864-4e3e-b8a8-f61c882be59d"
      },
      "execution_count": null,
      "outputs": [
        {
          "output_type": "execute_result",
          "data": {
            "text/plain": [
              "[10, 20]"
            ]
          },
          "metadata": {},
          "execution_count": 18
        }
      ]
    },
    {
      "cell_type": "code",
      "source": [
        "bb=[40,50,60]"
      ],
      "metadata": {
        "id": "LpibyTWxcveP"
      },
      "execution_count": null,
      "outputs": []
    },
    {
      "cell_type": "code",
      "source": [
        "aa+bb"
      ],
      "metadata": {
        "colab": {
          "base_uri": "https://localhost:8080/"
        },
        "id": "T-LY66W2czlx",
        "outputId": "7324aa18-eaef-4456-ba70-1ed333b5506e"
      },
      "execution_count": null,
      "outputs": [
        {
          "output_type": "execute_result",
          "data": {
            "text/plain": [
              "[10, 20, 30, 40, 40, 50, 60]"
            ]
          },
          "metadata": {},
          "execution_count": 20
        }
      ]
    },
    {
      "cell_type": "code",
      "source": [
        "aa*3"
      ],
      "metadata": {
        "colab": {
          "base_uri": "https://localhost:8080/"
        },
        "id": "ElHLrVe4c1KQ",
        "outputId": "b6cc5667-ff86-456a-c5a3-5b2fda77a529"
      },
      "execution_count": null,
      "outputs": [
        {
          "output_type": "execute_result",
          "data": {
            "text/plain": [
              "[10, 20, 30, 40, 10, 20, 30, 40, 10, 20, 30, 40]"
            ]
          },
          "metadata": {},
          "execution_count": 22
        }
      ]
    },
    {
      "cell_type": "code",
      "source": [
        "aa[1]=200"
      ],
      "metadata": {
        "id": "his-6h9Xc544"
      },
      "execution_count": null,
      "outputs": []
    },
    {
      "cell_type": "code",
      "source": [
        "aa"
      ],
      "metadata": {
        "colab": {
          "base_uri": "https://localhost:8080/"
        },
        "id": "89TOCMf7dCvZ",
        "outputId": "5c6bb4e4-28cd-47bf-ae0d-5cdb0d62642c"
      },
      "execution_count": null,
      "outputs": [
        {
          "output_type": "execute_result",
          "data": {
            "text/plain": [
              "[10, 200, 30, 40]"
            ]
          },
          "metadata": {},
          "execution_count": 25
        }
      ]
    },
    {
      "cell_type": "code",
      "source": [
        "aa[1:2]"
      ],
      "metadata": {
        "colab": {
          "base_uri": "https://localhost:8080/"
        },
        "id": "BUT6j2wsdE1J",
        "outputId": "849c3e75-5459-4ded-8f1c-723e66f6b78d"
      },
      "execution_count": null,
      "outputs": [
        {
          "output_type": "execute_result",
          "data": {
            "text/plain": [
              "[200]"
            ]
          },
          "metadata": {},
          "execution_count": 26
        }
      ]
    },
    {
      "cell_type": "code",
      "source": [
        "a_list =[\"a\",\"b\",\"c\"]\n",
        "a_list.append('F')\n",
        "a_list"
      ],
      "metadata": {
        "id": "e2UHszU9dHsY",
        "outputId": "67a24faf-d3cb-492a-eeef-13a5a9bf91e8",
        "colab": {
          "base_uri": "https://localhost:8080/"
        }
      },
      "execution_count": null,
      "outputs": [
        {
          "output_type": "execute_result",
          "data": {
            "text/plain": [
              "['a', 'b', 'c', 'F']"
            ]
          },
          "metadata": {},
          "execution_count": 1
        }
      ]
    },
    {
      "cell_type": "code",
      "source": [
        "aa=[10,20,30,40,50]\n",
        "aa[1:4]=[]\n",
        "aa"
      ],
      "metadata": {
        "id": "-AKgBFTwkZdw",
        "outputId": "8b623439-ecda-49e7-eec7-82b437c7992b",
        "colab": {
          "base_uri": "https://localhost:8080/"
        }
      },
      "execution_count": null,
      "outputs": [
        {
          "output_type": "execute_result",
          "data": {
            "text/plain": [
              "[10, 50]"
            ]
          },
          "metadata": {},
          "execution_count": 2
        }
      ]
    },
    {
      "cell_type": "code",
      "source": [
        "del(aa)"
      ],
      "metadata": {
        "id": "0eHb-4BQlUoe"
      },
      "execution_count": null,
      "outputs": []
    },
    {
      "cell_type": "code",
      "source": [
        "a=[1,2,3]"
      ],
      "metadata": {
        "id": "TS_Dt1QWlZKN"
      },
      "execution_count": null,
      "outputs": []
    },
    {
      "cell_type": "code",
      "source": [
        "a=None"
      ],
      "metadata": {
        "id": "RpcIAXQolf8l"
      },
      "execution_count": null,
      "outputs": []
    },
    {
      "cell_type": "code",
      "source": [
        "a"
      ],
      "metadata": {
        "id": "A_kusLKmli3Q"
      },
      "execution_count": null,
      "outputs": []
    },
    {
      "cell_type": "code",
      "source": [
        "a=[1,2,3,45]\n",
        "a.remove(45)\n",
        "a"
      ],
      "metadata": {
        "id": "-3VJOM_uljXP",
        "outputId": "edcbf34f-c781-4b82-c188-5eb59c68d586",
        "colab": {
          "base_uri": "https://localhost:8080/"
        }
      },
      "execution_count": null,
      "outputs": [
        {
          "output_type": "execute_result",
          "data": {
            "text/plain": [
              "[1, 2, 3]"
            ]
          },
          "metadata": {},
          "execution_count": 8
        }
      ]
    },
    {
      "cell_type": "code",
      "source": [
        "a=[10,20,30,40]\n",
        "print(10 in a)\n",
        "print(50 in a)\n",
        "print(10 not in a)"
      ],
      "metadata": {
        "id": "ciANFFAsmoSp",
        "outputId": "06ff2c7a-b04d-49a1-bad1-31f99ef6f9c2",
        "colab": {
          "base_uri": "https://localhost:8080/"
        }
      },
      "execution_count": null,
      "outputs": [
        {
          "output_type": "stream",
          "name": "stdout",
          "text": [
            "True\n",
            "False\n",
            "False\n"
          ]
        }
      ]
    },
    {
      "cell_type": "code",
      "source": [
        "a=[11,22,33,4,55,66]\n",
        "if 55 in a:\n",
        "    a.remove(55)"
      ],
      "metadata": {
        "id": "ipyINDbUn9zT"
      },
      "execution_count": null,
      "outputs": []
    },
    {
      "cell_type": "code",
      "source": [
        "list1 =[20,30,40,50,60]\n",
        "print(min(list1 ), max(list1 ), sum(list1 ))"
      ],
      "metadata": {
        "id": "31CB-G9Eovh8",
        "outputId": "3008ea80-ab70-4cad-f206-84a1f4a43ed0",
        "colab": {
          "base_uri": "https://localhost:8080/"
        }
      },
      "execution_count": null,
      "outputs": [
        {
          "output_type": "stream",
          "name": "stdout",
          "text": [
            "20 60 200\n"
          ]
        }
      ]
    },
    {
      "cell_type": "code",
      "source": [
        "fruits=['banana','orange','apple']\n",
        "korean=['각','난','닫']\n",
        "print(min(fruits), min(korean))"
      ],
      "metadata": {
        "id": "fmpGVr5UpN9x",
        "outputId": "95965b74-496f-4877-b3dc-7d27f1521fa5",
        "colab": {
          "base_uri": "https://localhost:8080/"
        }
      },
      "execution_count": null,
      "outputs": [
        {
          "output_type": "stream",
          "name": "stdout",
          "text": [
            "apple 각\n"
          ]
        }
      ]
    },
    {
      "cell_type": "code",
      "source": [
        "list1.sort()"
      ],
      "metadata": {
        "id": "g8_AXvl_p_Ge"
      },
      "execution_count": null,
      "outputs": []
    },
    {
      "cell_type": "code",
      "source": [
        "list1"
      ],
      "metadata": {
        "id": "3YzdNFs1qNAN",
        "outputId": "145ed4d5-09fd-4c4a-d0ac-81e049b5ce0d",
        "colab": {
          "base_uri": "https://localhost:8080/"
        }
      },
      "execution_count": null,
      "outputs": [
        {
          "output_type": "execute_result",
          "data": {
            "text/plain": [
              "[20, 30, 40, 50, 60]"
            ]
          },
          "metadata": {},
          "execution_count": 17
        }
      ]
    },
    {
      "cell_type": "code",
      "source": [
        "list1.sort(reverse=True)\n",
        "list1"
      ],
      "metadata": {
        "id": "qX7chJNPqO0l",
        "outputId": "42279ef6-6e2a-4138-b2f2-4ed05a14685b",
        "colab": {
          "base_uri": "https://localhost:8080/"
        }
      },
      "execution_count": null,
      "outputs": [
        {
          "output_type": "execute_result",
          "data": {
            "text/plain": [
              "[60, 50, 40, 30, 20]"
            ]
          },
          "metadata": {},
          "execution_count": 18
        }
      ]
    },
    {
      "cell_type": "code",
      "source": [
        "list1.index(20)"
      ],
      "metadata": {
        "id": "IcR7c7W6qUw9",
        "outputId": "5993f60d-c283-4477-9cd9-44487626bdd7",
        "colab": {
          "base_uri": "https://localhost:8080/"
        }
      },
      "execution_count": null,
      "outputs": [
        {
          "output_type": "execute_result",
          "data": {
            "text/plain": [
              "4"
            ]
          },
          "metadata": {},
          "execution_count": 19
        }
      ]
    },
    {
      "cell_type": "code",
      "source": [
        "list2=[1,1,1,3,4,5,6,6,7,7,7,8,10,20,22,22,2,2,22,3,1,1,4,5,6,7,8]"
      ],
      "metadata": {
        "id": "xx7vpO4Fq2Xz"
      },
      "execution_count": null,
      "outputs": []
    },
    {
      "cell_type": "code",
      "source": [
        "list2.count(1)"
      ],
      "metadata": {
        "id": "IqicUx0uq-xS",
        "outputId": "2e181df5-c928-4ed9-eee1-043554f06317",
        "colab": {
          "base_uri": "https://localhost:8080/"
        }
      },
      "execution_count": null,
      "outputs": [
        {
          "output_type": "execute_result",
          "data": {
            "text/plain": [
              "5"
            ]
          },
          "metadata": {},
          "execution_count": 21
        }
      ]
    },
    {
      "cell_type": "code",
      "source": [
        "list2.sort(reverse=True)\n",
        "print(list2)"
      ],
      "metadata": {
        "id": "TcHmSz8vrCTp",
        "outputId": "335b3ad5-814b-4348-dd3c-383f3679acc5",
        "colab": {
          "base_uri": "https://localhost:8080/"
        }
      },
      "execution_count": null,
      "outputs": [
        {
          "output_type": "stream",
          "name": "stdout",
          "text": [
            "[22, 22, 22, 20, 10, 8, 8, 7, 7, 7, 7, 6, 6, 6, 5, 5, 4, 4, 3, 3, 2, 2, 1, 1, 1, 1, 1]\n"
          ]
        }
      ]
    },
    {
      "cell_type": "code",
      "source": [
        "list2.count(3)"
      ],
      "metadata": {
        "id": "K3j7vbhYrQYp",
        "outputId": "49d89d6c-ae5e-4e96-cb77-94b06b6c3db5",
        "colab": {
          "base_uri": "https://localhost:8080/"
        }
      },
      "execution_count": null,
      "outputs": [
        {
          "output_type": "execute_result",
          "data": {
            "text/plain": [
              "2"
            ]
          },
          "metadata": {},
          "execution_count": 25
        }
      ]
    },
    {
      "cell_type": "code",
      "source": [
        "list2.count(100)"
      ],
      "metadata": {
        "id": "aRGVdshRrXBh",
        "outputId": "ba5f96fe-9699-433a-bf0a-625cf6644c83",
        "colab": {
          "base_uri": "https://localhost:8080/"
        }
      },
      "execution_count": null,
      "outputs": [
        {
          "output_type": "execute_result",
          "data": {
            "text/plain": [
              "0"
            ]
          },
          "metadata": {},
          "execution_count": 26
        }
      ]
    },
    {
      "cell_type": "code",
      "source": [
        "list1.extend(list2)"
      ],
      "metadata": {
        "id": "tnZmCNqhrZYh"
      },
      "execution_count": null,
      "outputs": []
    },
    {
      "cell_type": "code",
      "source": [
        "print(list1)"
      ],
      "metadata": {
        "id": "0VoKouCKrhUP",
        "outputId": "c38e3ced-40de-461e-bc0a-39134b01e9b4",
        "colab": {
          "base_uri": "https://localhost:8080/"
        }
      },
      "execution_count": null,
      "outputs": [
        {
          "output_type": "stream",
          "name": "stdout",
          "text": [
            "[60, 50, 40, 30, 20, 22, 22, 22, 20, 10, 8, 8, 7, 7, 7, 7, 6, 6, 6, 5, 5, 4, 4, 3, 3, 2, 2, 1, 1, 1, 1, 1]\n"
          ]
        }
      ]
    },
    {
      "cell_type": "code",
      "source": [
        "list3=[1,2,3]\n",
        "list3.insert(4,4)\n",
        "list3"
      ],
      "metadata": {
        "id": "0PFKBaknrlQf",
        "outputId": "c8a6485a-1ae6-45e3-a9bb-ea37426dfb43",
        "colab": {
          "base_uri": "https://localhost:8080/"
        }
      },
      "execution_count": null,
      "outputs": [
        {
          "output_type": "execute_result",
          "data": {
            "text/plain": [
              "[1, 2, 3, 4]"
            ]
          },
          "metadata": {},
          "execution_count": 36
        }
      ]
    },
    {
      "cell_type": "code",
      "source": [
        "list3.pop()"
      ],
      "metadata": {
        "id": "xsdqQKbis5Sb",
        "outputId": "a1d2960c-8abd-4d2f-b684-d82cce44ae3e",
        "colab": {
          "base_uri": "https://localhost:8080/"
        }
      },
      "execution_count": null,
      "outputs": [
        {
          "output_type": "execute_result",
          "data": {
            "text/plain": [
              "4"
            ]
          },
          "metadata": {},
          "execution_count": 37
        }
      ]
    },
    {
      "cell_type": "code",
      "source": [
        "mylist=[30,10,20]\n",
        "print(\"현재 리스트: %s\" %mylist)\n",
        "mylist.append(40)\n",
        "print(\"after append %s\"%mylist)\n",
        "print(\"pop %s\"%mylist.pop())\n",
        "mylist.sort()\n",
        "print(\"AFTER SORT%s\"%mylist)\n",
        "mylist.reverse()\n",
        "print(\"after reverse%s\"%mylist)\n",
        "mylist.insert(2,222)\n",
        "print(\"after insert %s\"%mylist)\n",
        "mylist.remove(222)\n",
        "print(\"after remove %s\"%mylist)\n",
        "mylist.extend([77,88,99])\n",
        "print(\"after extend %s\"%mylist)\n",
        "print(\"count 77: %d\"%mylist.count(77))"
      ],
      "metadata": {
        "id": "2lwPqA6ztAxc",
        "outputId": "534c6ee6-4e60-4fec-e863-9451574b0867",
        "colab": {
          "base_uri": "https://localhost:8080/"
        }
      },
      "execution_count": null,
      "outputs": [
        {
          "output_type": "stream",
          "name": "stdout",
          "text": [
            "현재 리스트: [30, 10, 20]\n",
            "after append [30, 10, 20, 40]\n",
            "pop 40\n",
            "AFTER SORT[10, 20, 30]\n",
            "after reverse[30, 20, 10]\n",
            "after insert [30, 20, 222, 10]\n",
            "after remove [30, 20, 10]\n",
            "after extend [30, 20, 10, 77, 88, 99]\n",
            "count 77: 1\n"
          ]
        }
      ]
    },
    {
      "cell_type": "code",
      "source": [
        "list1=[10,20,30,40,50]\n",
        "i=0\n",
        "for n in list1:\n",
        "    list1[i]=n*10\n",
        "    i=i+1\n",
        "print(list1)"
      ],
      "metadata": {
        "id": "e5rNpBeLvUEN",
        "outputId": "227a983d-89a6-4e03-9720-29a92b1704f2",
        "colab": {
          "base_uri": "https://localhost:8080/"
        }
      },
      "execution_count": null,
      "outputs": [
        {
          "output_type": "stream",
          "name": "stdout",
          "text": [
            "[100, 200, 300, 400, 500]\n"
          ]
        }
      ]
    },
    {
      "cell_type": "code",
      "source": [
        "list1=[10,20,30,40,50]\n",
        "list1=[n*10 for n in list1]\n",
        "print(list1)"
      ],
      "metadata": {
        "id": "H8LxVAjJvTB-",
        "outputId": "4c86a35b-7c5f-4055-cee1-6fff5007fa1d",
        "colab": {
          "base_uri": "https://localhost:8080/"
        }
      },
      "execution_count": null,
      "outputs": [
        {
          "output_type": "stream",
          "name": "stdout",
          "text": [
            "[100, 200, 300, 400, 500]\n"
          ]
        }
      ]
    },
    {
      "cell_type": "code",
      "source": [
        "a_list=[10,20,30,40,50,60,70,80]\n",
        "a_list[1:5]\n"
      ],
      "metadata": {
        "id": "NfnAOxDyssgl",
        "outputId": "2834ba2a-2b0b-48c6-e259-52173781351a",
        "colab": {
          "base_uri": "https://localhost:8080/"
        }
      },
      "execution_count": null,
      "outputs": [
        {
          "output_type": "execute_result",
          "data": {
            "text/plain": [
              "[10, 20]"
            ]
          },
          "metadata": {},
          "execution_count": 6
        }
      ]
    },
    {
      "cell_type": "code",
      "source": [
        "a_list[0:1]\n"
      ],
      "metadata": {
        "id": "du-5wZEra2Ym",
        "outputId": "16a9760a-b0a5-4b6c-877c-25f1ebc6dc77",
        "colab": {
          "base_uri": "https://localhost:8080/"
        }
      },
      "execution_count": null,
      "outputs": [
        {
          "output_type": "execute_result",
          "data": {
            "text/plain": [
              "[10]"
            ]
          },
          "metadata": {},
          "execution_count": 7
        }
      ]
    },
    {
      "cell_type": "code",
      "source": [
        "a_list[0:2]"
      ],
      "metadata": {
        "id": "zei5lkFosm4i",
        "outputId": "f086d820-e347-4a87-ce0d-717c610d257d",
        "colab": {
          "base_uri": "https://localhost:8080/"
        }
      },
      "execution_count": null,
      "outputs": [
        {
          "output_type": "execute_result",
          "data": {
            "text/plain": [
              "[10, 20]"
            ]
          },
          "metadata": {},
          "execution_count": 8
        }
      ]
    },
    {
      "cell_type": "code",
      "source": [
        "a_list[-7:-2]"
      ],
      "metadata": {
        "id": "4PxpkICosgQp",
        "outputId": "acb476e6-5844-4dbc-95e4-b77dd7908f48",
        "colab": {
          "base_uri": "https://localhost:8080/"
        }
      },
      "execution_count": null,
      "outputs": [
        {
          "output_type": "execute_result",
          "data": {
            "text/plain": [
              "[20, 30, 40, 50, 60]"
            ]
          },
          "metadata": {},
          "execution_count": 9
        }
      ]
    },
    {
      "cell_type": "code",
      "source": [
        "a_list[-7:]"
      ],
      "metadata": {
        "id": "nRTlZ2hnbCJu",
        "outputId": "dc88d162-aa32-45cc-defb-ca8061c5b8af",
        "colab": {
          "base_uri": "https://localhost:8080/"
        }
      },
      "execution_count": null,
      "outputs": [
        {
          "output_type": "execute_result",
          "data": {
            "text/plain": [
              "[20, 30, 40, 50, 60, 70, 80]"
            ]
          },
          "metadata": {},
          "execution_count": 10
        }
      ]
    },
    {
      "cell_type": "code",
      "source": [
        "a_list[::-1]"
      ],
      "metadata": {
        "id": "_iJKARAGbKFX",
        "outputId": "06059d49-0f30-4d9e-cfd9-b5df2c0736a6",
        "colab": {
          "base_uri": "https://localhost:8080/"
        }
      },
      "execution_count": null,
      "outputs": [
        {
          "output_type": "execute_result",
          "data": {
            "text/plain": [
              "[80, 70, 60, 50, 40, 30, 20, 10]"
            ]
          },
          "metadata": {},
          "execution_count": 11
        }
      ]
    },
    {
      "cell_type": "code",
      "source": [
        "list1=[]\n",
        "list2=[]\n",
        "value=1\n",
        "for i in range(0,3):\n",
        "    for k in range(0,4):\n",
        "        list1.append(value)\n",
        "        value+=1\n",
        "    list2.append(list1)\n",
        "    list1 = []\n",
        "for i in range(0,3):\n",
        "    for k in range(0,4):\n",
        "        print(\"%3d\"%list2[i][k],end=\"\")\n",
        "    print(\"\")"
      ],
      "metadata": {
        "id": "zzkqdqC2sTOM",
        "outputId": "e71e4af7-299d-4e33-a504-6a007ac65c74",
        "colab": {
          "base_uri": "https://localhost:8080/"
        }
      },
      "execution_count": null,
      "outputs": [
        {
          "output_type": "stream",
          "name": "stdout",
          "text": [
            "  1  2  3  4\n",
            "  5  6  7  8\n",
            "  9 10 11 12\n"
          ]
        }
      ]
    },
    {
      "cell_type": "code",
      "source": [
        "list1=[]\n",
        "list2=[]\n",
        "value=0\n",
        "for i in range(0,4):\n",
        "    for k in range(0,5):\n",
        "        list1.append(value)\n",
        "        value+=3\n",
        "    list2.append(list1)\n",
        "    list1 = []\n",
        "for i in range(0,4):\n",
        "    for k in range(0,5):\n",
        "        print(\"%3d\"%list2[i][k],end=\"\")\n",
        "    print(\"\")"
      ],
      "metadata": {
        "id": "eCKyy9L2c_OG",
        "outputId": "4b90b3e9-e5c9-47e1-b2d7-94d7a402e392",
        "colab": {
          "base_uri": "https://localhost:8080/"
        }
      },
      "execution_count": null,
      "outputs": [
        {
          "output_type": "stream",
          "name": "stdout",
          "text": [
            "  0  3  6  9 12\n",
            " 15 18 21 24 27\n",
            " 30 33 36 39 42\n",
            " 45 48 51 54 57\n"
          ]
        }
      ]
    },
    {
      "cell_type": "code",
      "source": [
        "list1=[[i for i in range(k,(4*3)+k+1,3) ]for k in range(0,46,15)]\n",
        "list1\n"
      ],
      "metadata": {
        "id": "hgwTMWE2sRI9",
        "outputId": "c08b2e3e-77ef-44e2-8173-5619fad0bf52",
        "colab": {
          "base_uri": "https://localhost:8080/"
        }
      },
      "execution_count": 20,
      "outputs": [
        {
          "output_type": "execute_result",
          "data": {
            "text/plain": [
              "[[0, 3, 6, 9, 12],\n",
              " [15, 18, 21, 24, 27],\n",
              " [30, 33, 36, 39, 42],\n",
              " [45, 48, 51, 54, 57]]"
            ]
          },
          "metadata": {},
          "execution_count": 20
        }
      ]
    },
    {
      "cell_type": "code",
      "source": [
        "tt1=(10,20,30)\n",
        "tt1"
      ],
      "metadata": {
        "id": "3nJuKdB2sOEl",
        "outputId": "9c3d38e3-2241-43f3-a463-7ce66ed70fea",
        "colab": {
          "base_uri": "https://localhost:8080/"
        }
      },
      "execution_count": null,
      "outputs": [
        {
          "output_type": "execute_result",
          "data": {
            "text/plain": [
              "(10, 20, 30)"
            ]
          },
          "metadata": {},
          "execution_count": 22
        }
      ]
    },
    {
      "cell_type": "code",
      "source": [
        "tt1.append(40)"
      ],
      "metadata": {
        "id": "D2LWNBaahBrO",
        "outputId": "f46cb4f3-7f7e-487e-9ed9-1af39ecd8bc4",
        "colab": {
          "base_uri": "https://localhost:8080/",
          "height": 146
        }
      },
      "execution_count": null,
      "outputs": [
        {
          "output_type": "error",
          "ename": "AttributeError",
          "evalue": "'tuple' object has no attribute 'append'",
          "traceback": [
            "\u001b[0;31m---------------------------------------------------------------------------\u001b[0m",
            "\u001b[0;31mAttributeError\u001b[0m                            Traceback (most recent call last)",
            "\u001b[0;32m<ipython-input-23-27eb90080472>\u001b[0m in \u001b[0;36m<cell line: 1>\u001b[0;34m()\u001b[0m\n\u001b[0;32m----> 1\u001b[0;31m \u001b[0mtt1\u001b[0m\u001b[0;34m.\u001b[0m\u001b[0mappend\u001b[0m\u001b[0;34m(\u001b[0m\u001b[0;36m40\u001b[0m\u001b[0;34m)\u001b[0m\u001b[0;34m\u001b[0m\u001b[0;34m\u001b[0m\u001b[0m\n\u001b[0m",
            "\u001b[0;31mAttributeError\u001b[0m: 'tuple' object has no attribute 'append'"
          ]
        }
      ]
    },
    {
      "cell_type": "code",
      "source": [
        "tt1[0]=40"
      ],
      "metadata": {
        "id": "r1kbcfVHhHFV",
        "outputId": "523b1f3b-9a3a-43ab-abbc-c7f2dfdd5027",
        "colab": {
          "base_uri": "https://localhost:8080/",
          "height": 146
        }
      },
      "execution_count": null,
      "outputs": [
        {
          "output_type": "error",
          "ename": "TypeError",
          "evalue": "'tuple' object does not support item assignment",
          "traceback": [
            "\u001b[0;31m---------------------------------------------------------------------------\u001b[0m",
            "\u001b[0;31mTypeError\u001b[0m                                 Traceback (most recent call last)",
            "\u001b[0;32m<ipython-input-24-f2750fa6ccda>\u001b[0m in \u001b[0;36m<cell line: 1>\u001b[0;34m()\u001b[0m\n\u001b[0;32m----> 1\u001b[0;31m \u001b[0mtt1\u001b[0m\u001b[0;34m[\u001b[0m\u001b[0;36m0\u001b[0m\u001b[0;34m]\u001b[0m\u001b[0;34m=\u001b[0m\u001b[0;36m40\u001b[0m\u001b[0;34m\u001b[0m\u001b[0;34m\u001b[0m\u001b[0m\n\u001b[0m",
            "\u001b[0;31mTypeError\u001b[0m: 'tuple' object does not support item assignment"
          ]
        }
      ]
    },
    {
      "cell_type": "code",
      "source": [
        "del(tt1[0])"
      ],
      "metadata": {
        "id": "vXcBl0TzhJPu",
        "outputId": "ff09fb4d-c15e-4ec5-89ee-8f9572aa6d66",
        "colab": {
          "base_uri": "https://localhost:8080/",
          "height": 146
        }
      },
      "execution_count": null,
      "outputs": [
        {
          "output_type": "error",
          "ename": "TypeError",
          "evalue": "'tuple' object doesn't support item deletion",
          "traceback": [
            "\u001b[0;31m---------------------------------------------------------------------------\u001b[0m",
            "\u001b[0;31mTypeError\u001b[0m                                 Traceback (most recent call last)",
            "\u001b[0;32m<ipython-input-25-049ebb75246d>\u001b[0m in \u001b[0;36m<cell line: 1>\u001b[0;34m()\u001b[0m\n\u001b[0;32m----> 1\u001b[0;31m \u001b[0;32mdel\u001b[0m\u001b[0;34m(\u001b[0m\u001b[0mtt1\u001b[0m\u001b[0;34m[\u001b[0m\u001b[0;36m0\u001b[0m\u001b[0;34m]\u001b[0m\u001b[0;34m)\u001b[0m\u001b[0;34m\u001b[0m\u001b[0;34m\u001b[0m\u001b[0m\n\u001b[0m",
            "\u001b[0;31mTypeError\u001b[0m: 'tuple' object doesn't support item deletion"
          ]
        }
      ]
    },
    {
      "cell_type": "code",
      "source": [
        "tt1[0]"
      ],
      "metadata": {
        "id": "CdhnpV7chLy2",
        "outputId": "a4fb2391-0403-4cf9-c103-efe29ff55c42",
        "colab": {
          "base_uri": "https://localhost:8080/"
        }
      },
      "execution_count": null,
      "outputs": [
        {
          "output_type": "execute_result",
          "data": {
            "text/plain": [
              "10"
            ]
          },
          "metadata": {},
          "execution_count": 26
        }
      ]
    },
    {
      "cell_type": "code",
      "source": [
        "del(tt1)"
      ],
      "metadata": {
        "id": "9SD4mT2JhR5F"
      },
      "execution_count": null,
      "outputs": []
    },
    {
      "cell_type": "code",
      "source": [
        "tt1=(10,20,30,40)\n",
        "tt1[0]+tt1[2]"
      ],
      "metadata": {
        "id": "Fnh2XQp4iGuW",
        "outputId": "4581d456-dd82-4c5e-ed76-e05c1714e66a",
        "colab": {
          "base_uri": "https://localhost:8080/"
        }
      },
      "execution_count": null,
      "outputs": [
        {
          "output_type": "execute_result",
          "data": {
            "text/plain": [
              "40"
            ]
          },
          "metadata": {},
          "execution_count": 30
        }
      ]
    },
    {
      "cell_type": "code",
      "source": [
        "c=(3,4)\n",
        "d,e=c\n",
        "print(d)\n",
        "print(e)"
      ],
      "metadata": {
        "id": "REQfn-WKiNBO",
        "outputId": "725f5d1b-7b90-41ed-c9ed-3088fae6b773",
        "colab": {
          "base_uri": "https://localhost:8080/"
        }
      },
      "execution_count": 1,
      "outputs": [
        {
          "output_type": "stream",
          "name": "stdout",
          "text": [
            "3\n",
            "4\n"
          ]
        }
      ]
    },
    {
      "cell_type": "code",
      "source": [
        "a=100\n",
        "b=200\n",
        "a,b=b,a\n",
        "print(a)\n",
        "print(b)"
      ],
      "metadata": {
        "id": "AfAp9yktp3IY",
        "outputId": "ac5f007a-d4ae-4f51-b8c6-d663482a3f85",
        "colab": {
          "base_uri": "https://localhost:8080/"
        }
      },
      "execution_count": 2,
      "outputs": [
        {
          "output_type": "stream",
          "name": "stdout",
          "text": [
            "200\n",
            "100\n"
          ]
        }
      ]
    },
    {
      "cell_type": "code",
      "source": [
        "t=(10,20,30,20,20,20,10,50)\n",
        "t.count(10)"
      ],
      "metadata": {
        "id": "iEN-tKPGqMPk",
        "outputId": "301902d6-45d9-4320-9876-ac0224b85f54",
        "colab": {
          "base_uri": "https://localhost:8080/"
        }
      },
      "execution_count": 3,
      "outputs": [
        {
          "output_type": "execute_result",
          "data": {
            "text/plain": [
              "2"
            ]
          },
          "metadata": {},
          "execution_count": 3
        }
      ]
    },
    {
      "cell_type": "code",
      "source": [
        "t.count(20)"
      ],
      "metadata": {
        "id": "2pLtcQhXqTqU",
        "outputId": "80243510-4a72-4d52-cd69-0b51781a25dd",
        "colab": {
          "base_uri": "https://localhost:8080/"
        }
      },
      "execution_count": 4,
      "outputs": [
        {
          "output_type": "execute_result",
          "data": {
            "text/plain": [
              "4"
            ]
          },
          "metadata": {},
          "execution_count": 4
        }
      ]
    },
    {
      "cell_type": "code",
      "source": [
        "t.index(30)"
      ],
      "metadata": {
        "id": "CR3k7z0RqVny",
        "outputId": "994b6391-3a66-42e4-b0e6-70a332814113",
        "colab": {
          "base_uri": "https://localhost:8080/"
        }
      },
      "execution_count": 5,
      "outputs": [
        {
          "output_type": "execute_result",
          "data": {
            "text/plain": [
              "2"
            ]
          },
          "metadata": {},
          "execution_count": 5
        }
      ]
    },
    {
      "cell_type": "code",
      "source": [
        "t.index(50)"
      ],
      "metadata": {
        "id": "sNK7cMj9qYNy",
        "outputId": "50cd6122-fdea-40a9-8719-ba4c389d6529",
        "colab": {
          "base_uri": "https://localhost:8080/"
        }
      },
      "execution_count": 6,
      "outputs": [
        {
          "output_type": "execute_result",
          "data": {
            "text/plain": [
              "7"
            ]
          },
          "metadata": {},
          "execution_count": 6
        }
      ]
    },
    {
      "cell_type": "code",
      "source": [
        "t_fruits=('apple','orange','water melon')\n",
        "f_list=list(t_fruits)\n",
        "f_list[1]=\"kiwi\"\n",
        "t_fruits = tuple(f_list)\n",
        "print(t_fruits)"
      ],
      "metadata": {
        "id": "dyZPayx9qaN_",
        "outputId": "faa3571a-043f-4e43-bbef-106572f136dc",
        "colab": {
          "base_uri": "https://localhost:8080/"
        }
      },
      "execution_count": 7,
      "outputs": [
        {
          "output_type": "stream",
          "name": "stdout",
          "text": [
            "('apple', 'kiwi', 'water melon')\n"
          ]
        }
      ]
    },
    {
      "cell_type": "code",
      "source": [
        "tt=((1,2,3),(4,5,6),(7,8,9))\n",
        "print(tt)"
      ],
      "metadata": {
        "id": "DTHwosvQrEzE",
        "outputId": "e5651339-616b-4f3b-b4b3-f0b02f6e8038",
        "colab": {
          "base_uri": "https://localhost:8080/"
        }
      },
      "execution_count": 8,
      "outputs": [
        {
          "output_type": "stream",
          "name": "stdout",
          "text": [
            "((1, 2, 3), (4, 5, 6), (7, 8, 9))\n"
          ]
        }
      ]
    },
    {
      "cell_type": "code",
      "source": [
        "for i in tt:\n",
        "    for j in i:\n",
        "        print(j,end=\" \")\n",
        "    print(\"\")"
      ],
      "metadata": {
        "id": "gL_-BlaJrSqk",
        "outputId": "3820b819-7e9c-4f59-d1a6-56bea80a1eea",
        "colab": {
          "base_uri": "https://localhost:8080/"
        }
      },
      "execution_count": 12,
      "outputs": [
        {
          "output_type": "stream",
          "name": "stdout",
          "text": [
            "1 2 3 \n",
            "4 5 6 \n",
            "7 8 9 \n"
          ]
        }
      ]
    },
    {
      "cell_type": "code",
      "source": [
        "fruits = ['banana', 'apple','orange','kiwi' ]"
      ],
      "metadata": {
        "id": "KjiXZjcErmaX"
      },
      "execution_count": 13,
      "outputs": []
    },
    {
      "cell_type": "code",
      "source": [
        "person = {'이름': '홍길동', '나이':26,\"몸무게\":82}\n",
        "person['이름']"
      ],
      "metadata": {
        "id": "sCYYit9usRQT",
        "outputId": "ec995bb5-e7d3-428a-f9c7-2088b622ac77",
        "colab": {
          "base_uri": "https://localhost:8080/",
          "height": 35
        }
      },
      "execution_count": 14,
      "outputs": [
        {
          "output_type": "execute_result",
          "data": {
            "text/plain": [
              "'홍길동'"
            ],
            "application/vnd.google.colaboratory.intrinsic+json": {
              "type": "string"
            }
          },
          "metadata": {},
          "execution_count": 14
        }
      ]
    },
    {
      "cell_type": "code",
      "source": [
        "person['나이']"
      ],
      "metadata": {
        "id": "9L3Td54HsllT",
        "outputId": "0949381d-9ab8-4c7d-e2b2-dc3ae797c683",
        "colab": {
          "base_uri": "https://localhost:8080/"
        }
      },
      "execution_count": 15,
      "outputs": [
        {
          "output_type": "execute_result",
          "data": {
            "text/plain": [
              "26"
            ]
          },
          "metadata": {},
          "execution_count": 15
        }
      ]
    },
    {
      "cell_type": "code",
      "source": [
        "person['몸무게']"
      ],
      "metadata": {
        "id": "PTldwBxZsrCV",
        "outputId": "5f3caf0a-a7cf-40f8-a620-5106f40eefe2",
        "colab": {
          "base_uri": "https://localhost:8080/"
        }
      },
      "execution_count": 16,
      "outputs": [
        {
          "output_type": "execute_result",
          "data": {
            "text/plain": [
              "82"
            ]
          },
          "metadata": {},
          "execution_count": 16
        }
      ]
    },
    {
      "cell_type": "code",
      "source": [
        "list1=[[i for i in range(k,(4*3)+k+1,3) ]for k in range(0,46,12)]\n",
        "t1=tuple(list1)\n",
        "for i in range(0,3):\n",
        "    for k in range(0,4):\n",
        "        print(\"%3d\"%t1[i][k],end=\"\")\n",
        "    print(\"\")\n",
        "print(t1)"
      ],
      "metadata": {
        "id": "eamR6Julsw9D",
        "outputId": "2231ed3c-c5f2-4e42-d569-8681ce456ceb",
        "colab": {
          "base_uri": "https://localhost:8080/"
        }
      },
      "execution_count": 25,
      "outputs": [
        {
          "output_type": "stream",
          "name": "stdout",
          "text": [
            "  0  3  6  9\n",
            " 12 15 18 21\n",
            " 24 27 30 33\n",
            "([0, 3, 6, 9, 12], [12, 15, 18, 21, 24], [24, 27, 30, 33, 36], [36, 39, 42, 45, 48])\n"
          ]
        }
      ]
    },
    {
      "cell_type": "code",
      "source": [
        "del person['나이']\n",
        "person"
      ],
      "metadata": {
        "id": "32TMYb2urjYI",
        "outputId": "302c6f8d-f164-4dd9-878f-71b1f82da472",
        "colab": {
          "base_uri": "https://localhost:8080/"
        }
      },
      "execution_count": 26,
      "outputs": [
        {
          "output_type": "execute_result",
          "data": {
            "text/plain": [
              "{'이름': '홍길동', '몸무게': 82}"
            ]
          },
          "metadata": {},
          "execution_count": 26
        }
      ]
    },
    {
      "cell_type": "code",
      "source": [
        "person = {'이름': '홍길동', '나이':26,\"몸무게\":82}"
      ],
      "metadata": {
        "id": "V4MD6uMSx5sd"
      },
      "execution_count": 27,
      "outputs": []
    },
    {
      "cell_type": "code",
      "source": [
        "len(person)"
      ],
      "metadata": {
        "id": "c2-2ZVOgrXZd",
        "outputId": "ce15feff-f719-43f1-acaa-4d62fb903df6",
        "colab": {
          "base_uri": "https://localhost:8080/"
        }
      },
      "execution_count": 29,
      "outputs": [
        {
          "output_type": "execute_result",
          "data": {
            "text/plain": [
              "3"
            ]
          },
          "metadata": {},
          "execution_count": 29
        }
      ]
    },
    {
      "cell_type": "code",
      "source": [
        "'이름'in person"
      ],
      "metadata": {
        "id": "TXEP24OEypvA",
        "outputId": "4c77f244-4562-4be9-faac-293557ec37cf",
        "colab": {
          "base_uri": "https://localhost:8080/"
        }
      },
      "execution_count": 30,
      "outputs": [
        {
          "output_type": "execute_result",
          "data": {
            "text/plain": [
              "True"
            ]
          },
          "metadata": {},
          "execution_count": 30
        }
      ]
    },
    {
      "cell_type": "code",
      "source": [
        "d1={'name':'hong','age':26}\n",
        "d2={'age':26,'name':'hong'}\n",
        "d1==d2"
      ],
      "metadata": {
        "id": "CXedZtgRywWa",
        "outputId": "71ae1c25-9210-406b-a403-b2001f6a682b",
        "colab": {
          "base_uri": "https://localhost:8080/"
        }
      },
      "execution_count": 31,
      "outputs": [
        {
          "output_type": "execute_result",
          "data": {
            "text/plain": [
              "True"
            ]
          },
          "metadata": {},
          "execution_count": 31
        }
      ]
    },
    {
      "cell_type": "code",
      "source": [
        "person.keys()"
      ],
      "metadata": {
        "id": "AIU0s1rJzHog",
        "outputId": "8cf388af-79f5-4734-a72a-b0b2f13f060d",
        "colab": {
          "base_uri": "https://localhost:8080/"
        }
      },
      "execution_count": 32,
      "outputs": [
        {
          "output_type": "execute_result",
          "data": {
            "text/plain": [
              "dict_keys(['이름', '나이', '몸무게'])"
            ]
          },
          "metadata": {},
          "execution_count": 32
        }
      ]
    },
    {
      "cell_type": "code",
      "source": [
        "person.values()"
      ],
      "metadata": {
        "id": "PpC2V9QCzTgr",
        "outputId": "ee149828-493c-4592-dbac-450f6b4e4ce6",
        "colab": {
          "base_uri": "https://localhost:8080/"
        }
      },
      "execution_count": 33,
      "outputs": [
        {
          "output_type": "execute_result",
          "data": {
            "text/plain": [
              "dict_values(['홍길동', 26, 82])"
            ]
          },
          "metadata": {},
          "execution_count": 33
        }
      ]
    },
    {
      "cell_type": "code",
      "source": [
        "person.items()"
      ],
      "metadata": {
        "id": "TmjbcbUFzXNz",
        "outputId": "1627861a-6ce0-409d-c0ca-cb4b3fc1df3f",
        "colab": {
          "base_uri": "https://localhost:8080/"
        }
      },
      "execution_count": 35,
      "outputs": [
        {
          "output_type": "execute_result",
          "data": {
            "text/plain": [
              "dict_items([('이름', '홍길동'), ('나이', 26), ('몸무게', 82)])"
            ]
          },
          "metadata": {},
          "execution_count": 35
        }
      ]
    },
    {
      "cell_type": "code",
      "source": [
        "person.popitem()"
      ],
      "metadata": {
        "id": "blXlSifuzddJ",
        "outputId": "7c17254f-575d-4b1b-c4f1-ead68a063106",
        "colab": {
          "base_uri": "https://localhost:8080/"
        }
      },
      "execution_count": 36,
      "outputs": [
        {
          "output_type": "execute_result",
          "data": {
            "text/plain": [
              "('몸무게', 82)"
            ]
          },
          "metadata": {},
          "execution_count": 36
        }
      ]
    },
    {
      "cell_type": "code",
      "source": [
        "person"
      ],
      "metadata": {
        "id": "CJYHATeg0WIz",
        "outputId": "a7972e7a-fa88-4752-f082-179677285eab",
        "colab": {
          "base_uri": "https://localhost:8080/"
        }
      },
      "execution_count": 37,
      "outputs": [
        {
          "output_type": "execute_result",
          "data": {
            "text/plain": [
              "{'이름': '홍길동', '나이': 26}"
            ]
          },
          "metadata": {},
          "execution_count": 37
        }
      ]
    },
    {
      "cell_type": "code",
      "source": [
        "person.pop(\"나이\")"
      ],
      "metadata": {
        "id": "oK7cYVLR0XxT",
        "outputId": "a69046f6-d441-43ea-dd39-c6469dfa0916",
        "colab": {
          "base_uri": "https://localhost:8080/"
        }
      },
      "execution_count": 38,
      "outputs": [
        {
          "output_type": "execute_result",
          "data": {
            "text/plain": [
              "26"
            ]
          },
          "metadata": {},
          "execution_count": 38
        }
      ]
    },
    {
      "cell_type": "code",
      "source": [
        "person"
      ],
      "metadata": {
        "id": "K_yrPFze0fTD",
        "outputId": "abd4e43c-bbb5-4ffb-ff77-501f137acffc",
        "colab": {
          "base_uri": "https://localhost:8080/"
        }
      },
      "execution_count": 39,
      "outputs": [
        {
          "output_type": "execute_result",
          "data": {
            "text/plain": [
              "{'이름': '홍길동'}"
            ]
          },
          "metadata": {},
          "execution_count": 39
        }
      ]
    },
    {
      "cell_type": "code",
      "source": [
        "person.clear()"
      ],
      "metadata": {
        "id": "Por-UA8z0hWg"
      },
      "execution_count": 41,
      "outputs": []
    },
    {
      "cell_type": "code",
      "source": [
        "person"
      ],
      "metadata": {
        "id": "wKuvcI0l0lOQ",
        "outputId": "b3f0bbe4-1609-45df-dd30-243d90fc0365",
        "colab": {
          "base_uri": "https://localhost:8080/"
        }
      },
      "execution_count": 42,
      "outputs": [
        {
          "output_type": "execute_result",
          "data": {
            "text/plain": [
              "{}"
            ]
          },
          "metadata": {},
          "execution_count": 42
        }
      ]
    },
    {
      "cell_type": "code",
      "source": [
        "person = {'이름': '홍길동', '나이':26,\"몸무게\":82}\n",
        "for key in person:\n",
        "    print('{}:{}'.format(key,person[key]))"
      ],
      "metadata": {
        "id": "x2Aoyvy90m25",
        "outputId": "8db50934-5a74-41b3-88f8-cf8da31e8544",
        "colab": {
          "base_uri": "https://localhost:8080/"
        }
      },
      "execution_count": 43,
      "outputs": [
        {
          "output_type": "stream",
          "name": "stdout",
          "text": [
            "이름:홍길동\n",
            "나이:26\n",
            "몸무게:82\n"
          ]
        }
      ]
    },
    {
      "cell_type": "code",
      "source": [
        "singer={}\n",
        "singer['name']=\"Twice\"\n",
        "singer['n']=9\n",
        "singer['debut']=\"sixteeen\"\n",
        "singer['debutmusic']=\"like OOAA\"\n",
        "singer"
      ],
      "metadata": {
        "id": "bs_37SuA1V1m",
        "outputId": "dbdb9b5b-c269-4f3f-c78a-9f4d65fc6108",
        "colab": {
          "base_uri": "https://localhost:8080/"
        }
      },
      "execution_count": 44,
      "outputs": [
        {
          "output_type": "execute_result",
          "data": {
            "text/plain": [
              "{'name': 'Twice', 'n': 9, 'debut': 'sixteeen', 'debutmusic': 'like OOAA'}"
            ]
          },
          "metadata": {},
          "execution_count": 44
        }
      ]
    }
  ]
}