{
  "nbformat": 4,
  "nbformat_minor": 0,
  "metadata": {
    "colab": {
      "provenance": [],
      "authorship_tag": "ABX9TyP3MC3EkrqBVHy/kXPRGAt3",
      "include_colab_link": true
    },
    "kernelspec": {
      "name": "python3",
      "display_name": "Python 3"
    },
    "language_info": {
      "name": "python"
    }
  },
  "cells": [
    {
      "cell_type": "markdown",
      "metadata": {
        "id": "view-in-github",
        "colab_type": "text"
      },
      "source": [
        "<a href=\"https://colab.research.google.com/github/jsjj10002/Python_Basic/blob/main/ch4_1example.ipynb\" target=\"_parent\"><img src=\"https://colab.research.google.com/assets/colab-badge.svg\" alt=\"Open In Colab\"/></a>"
      ]
    },
    {
      "cell_type": "code",
      "execution_count": 1,
      "metadata": {
        "colab": {
          "base_uri": "https://localhost:8080/"
        },
        "id": "ePZsSqT-Pr7R",
        "outputId": "ceb830ea-b776-45a0-a93c-ec77ea5a9d87"
      },
      "outputs": [
        {
          "output_type": "stream",
          "name": "stdout",
          "text": [
            "1번째 숫자: 1\n",
            "2번째 숫자: 2\n",
            "3번째 숫자: 3\n",
            "4번째 숫자: 4\n",
            "10\n"
          ]
        }
      ],
      "source": [
        "a,b,c,d=0,0,0,0\n",
        "sum=0\n",
        "a=int(input(\"1번째 숫자: \"))\n",
        "b=int(input(\"2번째 숫자: \"))\n",
        "c=int(input(\"3번째 숫자: \"))\n",
        "d=int(input(\"4번째 숫자: \"))\n",
        "sum=a+b+c+d\n",
        "print(sum)"
      ]
    },
    {
      "cell_type": "code",
      "source": [
        "aa=[10,20,30,40]"
      ],
      "metadata": {
        "id": "G8OcPC8fURmn"
      },
      "execution_count": 3,
      "outputs": []
    },
    {
      "cell_type": "code",
      "source": [
        "score_list = [87,84,95,67,88,94,63]\n",
        "score_list\n",
        "print(score_list[0],score_list[1])"
      ],
      "metadata": {
        "colab": {
          "base_uri": "https://localhost:8080/"
        },
        "id": "I_f6yA43UVBA",
        "outputId": "e561e781-e501-43c9-b2aa-7143645a87de"
      },
      "execution_count": 5,
      "outputs": [
        {
          "output_type": "stream",
          "name": "stdout",
          "text": [
            "87 84\n"
          ]
        }
      ]
    },
    {
      "cell_type": "code",
      "source": [
        "aa=[0,0,0,0]\n",
        "sum = 0\n",
        "aa[0]=int(input())\n",
        "aa[1]=int(input())\n",
        "aa[2]=int(input())\n",
        "aa[3]=int(input())\n",
        "sum= aa[0]+aa[1]+aa[2]+aa[3]\n",
        "print(sum)"
      ],
      "metadata": {
        "colab": {
          "base_uri": "https://localhost:8080/"
        },
        "id": "TwVyw_lnVDTS",
        "outputId": "3e80dda2-61b3-438c-92bc-a28eab6b8298"
      },
      "execution_count": 7,
      "outputs": [
        {
          "output_type": "stream",
          "name": "stdout",
          "text": [
            "1\n",
            "2\n",
            "3\n",
            "4\n",
            "10\n"
          ]
        }
      ]
    },
    {
      "cell_type": "code",
      "source": [
        "fruits = ['banana','apple', 'orange','kiwi']\n",
        "fruits\n"
      ],
      "metadata": {
        "colab": {
          "base_uri": "https://localhost:8080/"
        },
        "id": "iKNJweQSWfBx",
        "outputId": "6616c7ce-97e6-4519-bdc0-437ca03d9c54"
      },
      "execution_count": 9,
      "outputs": [
        {
          "output_type": "execute_result",
          "data": {
            "text/plain": [
              "['banana', 'apple', 'orange', 'kiwi']"
            ]
          },
          "metadata": {},
          "execution_count": 9
        }
      ]
    },
    {
      "cell_type": "code",
      "source": [
        "mixed_list=[100,200,'apple',400]\n",
        "mixed_list"
      ],
      "metadata": {
        "colab": {
          "base_uri": "https://localhost:8080/"
        },
        "id": "vPc7pTwrW-Ei",
        "outputId": "3cbbfae0-7896-4f7e-e894-69b03893bcd7"
      },
      "execution_count": 10,
      "outputs": [
        {
          "output_type": "execute_result",
          "data": {
            "text/plain": [
              "[100, 200, 'apple', 400]"
            ]
          },
          "metadata": {},
          "execution_count": 10
        }
      ]
    },
    {
      "cell_type": "code",
      "source": [
        "list1 =list()\n",
        "list2=[]\n",
        "list4=list(range(1,10))\n"
      ],
      "metadata": {
        "id": "ghCu4dahWn2P"
      },
      "execution_count": 11,
      "outputs": []
    },
    {
      "cell_type": "code",
      "source": [
        "aa=[10,20,30,40]\n",
        "print(aa[-1])"
      ],
      "metadata": {
        "colab": {
          "base_uri": "https://localhost:8080/"
        },
        "id": "QBm9vMFqWoCn",
        "outputId": "be7657b5-1a9e-492f-dfd9-713d88f5222e"
      },
      "execution_count": 13,
      "outputs": [
        {
          "output_type": "stream",
          "name": "stdout",
          "text": [
            "40\n"
          ]
        }
      ]
    },
    {
      "cell_type": "code",
      "source": [
        "aa[0:3]"
      ],
      "metadata": {
        "colab": {
          "base_uri": "https://localhost:8080/"
        },
        "id": "MBmvZxZUWoQH",
        "outputId": "75bd2cd0-d1a3-49b4-d00e-887c351c6970"
      },
      "execution_count": 15,
      "outputs": [
        {
          "output_type": "execute_result",
          "data": {
            "text/plain": [
              "[10, 20, 30]"
            ]
          },
          "metadata": {},
          "execution_count": 15
        }
      ]
    },
    {
      "cell_type": "code",
      "source": [
        "aa[2:4]"
      ],
      "metadata": {
        "colab": {
          "base_uri": "https://localhost:8080/"
        },
        "id": "qb8cDsLOce8K",
        "outputId": "e1015d41-d1d6-4cca-c9e3-ad4e0083dcfb"
      },
      "execution_count": 16,
      "outputs": [
        {
          "output_type": "execute_result",
          "data": {
            "text/plain": [
              "[30, 40]"
            ]
          },
          "metadata": {},
          "execution_count": 16
        }
      ]
    },
    {
      "cell_type": "code",
      "source": [
        "aa[2:]"
      ],
      "metadata": {
        "colab": {
          "base_uri": "https://localhost:8080/"
        },
        "id": "fWcGhyxLcmAp",
        "outputId": "1e4d7181-736e-4d86-9182-dd141732721c"
      },
      "execution_count": 17,
      "outputs": [
        {
          "output_type": "execute_result",
          "data": {
            "text/plain": [
              "[30, 40]"
            ]
          },
          "metadata": {},
          "execution_count": 17
        }
      ]
    },
    {
      "cell_type": "code",
      "source": [
        "aa[:2]"
      ],
      "metadata": {
        "colab": {
          "base_uri": "https://localhost:8080/"
        },
        "id": "FP6w9svact2q",
        "outputId": "5f47204b-8864-4e3e-b8a8-f61c882be59d"
      },
      "execution_count": 18,
      "outputs": [
        {
          "output_type": "execute_result",
          "data": {
            "text/plain": [
              "[10, 20]"
            ]
          },
          "metadata": {},
          "execution_count": 18
        }
      ]
    },
    {
      "cell_type": "code",
      "source": [
        "bb=[40,50,60]"
      ],
      "metadata": {
        "id": "LpibyTWxcveP"
      },
      "execution_count": 19,
      "outputs": []
    },
    {
      "cell_type": "code",
      "source": [
        "aa+bb"
      ],
      "metadata": {
        "colab": {
          "base_uri": "https://localhost:8080/"
        },
        "id": "T-LY66W2czlx",
        "outputId": "7324aa18-eaef-4456-ba70-1ed333b5506e"
      },
      "execution_count": 20,
      "outputs": [
        {
          "output_type": "execute_result",
          "data": {
            "text/plain": [
              "[10, 20, 30, 40, 40, 50, 60]"
            ]
          },
          "metadata": {},
          "execution_count": 20
        }
      ]
    },
    {
      "cell_type": "code",
      "source": [
        "aa*3"
      ],
      "metadata": {
        "colab": {
          "base_uri": "https://localhost:8080/"
        },
        "id": "ElHLrVe4c1KQ",
        "outputId": "b6cc5667-ff86-456a-c5a3-5b2fda77a529"
      },
      "execution_count": 22,
      "outputs": [
        {
          "output_type": "execute_result",
          "data": {
            "text/plain": [
              "[10, 20, 30, 40, 10, 20, 30, 40, 10, 20, 30, 40]"
            ]
          },
          "metadata": {},
          "execution_count": 22
        }
      ]
    },
    {
      "cell_type": "code",
      "source": [
        "aa[1]=200"
      ],
      "metadata": {
        "id": "his-6h9Xc544"
      },
      "execution_count": 23,
      "outputs": []
    },
    {
      "cell_type": "code",
      "source": [
        "aa"
      ],
      "metadata": {
        "colab": {
          "base_uri": "https://localhost:8080/"
        },
        "id": "89TOCMf7dCvZ",
        "outputId": "5c6bb4e4-28cd-47bf-ae0d-5cdb0d62642c"
      },
      "execution_count": 25,
      "outputs": [
        {
          "output_type": "execute_result",
          "data": {
            "text/plain": [
              "[10, 200, 30, 40]"
            ]
          },
          "metadata": {},
          "execution_count": 25
        }
      ]
    },
    {
      "cell_type": "code",
      "source": [
        "aa[1:2]"
      ],
      "metadata": {
        "colab": {
          "base_uri": "https://localhost:8080/"
        },
        "id": "BUT6j2wsdE1J",
        "outputId": "849c3e75-5459-4ded-8f1c-723e66f6b78d"
      },
      "execution_count": 26,
      "outputs": [
        {
          "output_type": "execute_result",
          "data": {
            "text/plain": [
              "[200]"
            ]
          },
          "metadata": {},
          "execution_count": 26
        }
      ]
    },
    {
      "cell_type": "code",
      "source": [],
      "metadata": {
        "id": "e2UHszU9dHsY"
      },
      "execution_count": null,
      "outputs": []
    },
    {
      "cell_type": "code",
      "source": [
        ""
      ],
      "metadata": {
        "id": "3e7_AlMPdDc5"
      },
      "execution_count": null,
      "outputs": []
    },
    {
      "cell_type": "code",
      "source": [],
      "metadata": {
        "id": "u0IEYi3xc4JY"
      },
      "execution_count": null,
      "outputs": []
    }
  ]
}