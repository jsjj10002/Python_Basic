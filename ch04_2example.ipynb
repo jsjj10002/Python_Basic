{
  "nbformat": 4,
  "nbformat_minor": 0,
  "metadata": {
    "colab": {
      "provenance": [],
      "authorship_tag": "ABX9TyNi9h6XgrAek8hcYiFDrrCR",
      "include_colab_link": true
    },
    "kernelspec": {
      "name": "python3",
      "display_name": "Python 3"
    },
    "language_info": {
      "name": "python"
    }
  },
  "cells": [
    {
      "cell_type": "markdown",
      "metadata": {
        "id": "view-in-github",
        "colab_type": "text"
      },
      "source": [
        "<a href=\"https://colab.research.google.com/github/jsjj10002/Python_Basic/blob/main/ch04_2example.ipynb\" target=\"_parent\"><img src=\"https://colab.research.google.com/assets/colab-badge.svg\" alt=\"Open In Colab\"/></a>"
      ]
    },
    {
      "cell_type": "code",
      "execution_count": null,
      "metadata": {
        "id": "QnsLvKNPqwOv"
      },
      "outputs": [],
      "source": [
        "def calc(v1, v2, op):\n",
        "  result = 0\n",
        "  if op == '+':\n",
        "    result = v1 + v2\n",
        "    elif op == '-':\n",
        "      result = v1 - v2\n",
        "    elif op == '*':\n",
        "      result = v1 * v2\n",
        "    elif op == '/':\n",
        "      result = v1/v2\n",
        "    return result\n",
        ""
      ]
    },
    {
      "cell_type": "code",
      "source": [
        "def func1():\n",
        "  a =10\n",
        "  print(a)\n",
        "def func2():\n",
        "  print(a)\n",
        "a=20\n",
        "func1()\n",
        "func2()"
      ],
      "metadata": {
        "colab": {
          "base_uri": "https://localhost:8080/"
        },
        "id": "CN17x0HQxj3g",
        "outputId": "8e343069-4633-48ce-eac9-a2aeb0c9646e"
      },
      "execution_count": 1,
      "outputs": [
        {
          "output_type": "stream",
          "name": "stdout",
          "text": [
            "10\n",
            "20\n"
          ]
        }
      ]
    },
    {
      "cell_type": "code",
      "source": [
        "def func1():\n",
        "  global a\n",
        "  a =10\n",
        "  print(a)\n",
        "def func2():\n",
        "  print(a)\n",
        "a=20\n",
        "func1()\n",
        "func2()"
      ],
      "metadata": {
        "colab": {
          "base_uri": "https://localhost:8080/"
        },
        "id": "FwcBbCy9yiyx",
        "outputId": "2e7354c3-9ac0-423f-f7a5-e3a45f42e4e5"
      },
      "execution_count": 2,
      "outputs": [
        {
          "output_type": "stream",
          "name": "stdout",
          "text": [
            "10\n",
            "10\n"
          ]
        }
      ]
    },
    {
      "cell_type": "code",
      "source": [
        "def func1():\n",
        "  result =100\n",
        "  return result\n",
        "def func2():\n",
        "  print(\"반환 없\")\n",
        "hap = func1()\n",
        "print(hap)\n",
        "func2()"
      ],
      "metadata": {
        "colab": {
          "base_uri": "https://localhost:8080/"
        },
        "id": "eUA22AIZ0Bnx",
        "outputId": "73c54717-d924-4c92-8b7c-c2c6cd670247"
      },
      "execution_count": 3,
      "outputs": [
        {
          "output_type": "stream",
          "name": "stdout",
          "text": [
            "100\n",
            "반환 없\n"
          ]
        }
      ]
    },
    {
      "cell_type": "code",
      "source": [
        "def multi(v1,v2):\n",
        "  retlist =[]\n",
        "  res1 = v1+v2\n",
        "  res2 = v1-v2\n",
        "  retlist.append(res1)\n",
        "  retlist.append(res2)\n",
        "  return retlist\n",
        "\n",
        "mylist = multi(100,200)\n",
        "print(mylist)"
      ],
      "metadata": {
        "colab": {
          "base_uri": "https://localhost:8080/"
        },
        "id": "XPj0pncL0aTJ",
        "outputId": "73397692-c689-4349-b07c-1be72e829dae"
      },
      "execution_count": 4,
      "outputs": [
        {
          "output_type": "stream",
          "name": "stdout",
          "text": [
            "[300, -100]\n"
          ]
        }
      ]
    },
    {
      "cell_type": "code",
      "source": [
        "def para2_func(v1,v2):\n",
        "  result = 0\n",
        "  result = v1 +v2\n",
        "  return result\n",
        "def para3_func(v1,v2,v3):\n",
        "  result = 0\n",
        "  result = v1 +v2+v3\n",
        "  return result\n",
        "hap = para2_func(10,20)\n",
        "print(hap)\n",
        "print(para3_func(10,20,30))"
      ],
      "metadata": {
        "colab": {
          "base_uri": "https://localhost:8080/"
        },
        "id": "7-LJGRhe2tx0",
        "outputId": "4e97ea13-e651-45a8-dedd-4a54c8c6ad3a"
      },
      "execution_count": 6,
      "outputs": [
        {
          "output_type": "stream",
          "name": "stdout",
          "text": [
            "30\n",
            "60\n"
          ]
        }
      ]
    },
    {
      "cell_type": "code",
      "source": [
        "# prompt: 1부터 46까지 수중에 랜덤 6개 뽑은 후 오름차순 정렬해  추첨된 로또 번호 출력 랜덤 숫자 뽑는 함수 만들고 리스트에 할당시킨 후 와일문을 이용\n",
        "\n",
        "import random\n",
        "\n",
        "def generate_lotto_numbers():\n",
        "  numbers = []\n",
        "  while len(numbers) < 6:\n",
        "    number = random.randint(1, 46)\n",
        "    if number not in numbers:\n",
        "      numbers.append(number)\n",
        "  return sorted(numbers)\n",
        "\n",
        "lotto_numbers = generate_lotto_numbers()\n",
        "print(\"추첨된 로또 번호:\", lotto_numbers)\n"
      ],
      "metadata": {
        "colab": {
          "base_uri": "https://localhost:8080/"
        },
        "id": "y7qNixiK4IFc",
        "outputId": "141cabc0-4f36-4a8b-899e-f47863c3ebae"
      },
      "execution_count": 9,
      "outputs": [
        {
          "output_type": "stream",
          "name": "stdout",
          "text": [
            "추첨된 로또 번호: [13, 17, 19, 21, 40, 42]\n"
          ]
        }
      ]
    }
  ]
}